{
 "cells": [
  {
   "cell_type": "markdown",
   "metadata": {},
   "source": [
    "**<p style=\"text-align: center;\"><span style=\"background-color: #FFFF00\"><font size= \"8\" color = \"red\">Assignment sk---lab</font></span></p>**"
   ]
  },
  {
   "cell_type": "markdown",
   "metadata": {
    "ExecuteTime": {
     "end_time": "2021-12-14T15:32:12.201586Z",
     "start_time": "2021-12-14T15:32:12.182033Z"
    }
   },
   "source": [
    "<div style='background-color:navy; color:white; padding:20px'>\n",
    "</div>"
   ]
  },
  {
   "cell_type": "code",
   "execution_count": 1,
   "metadata": {
    "ExecuteTime": {
     "end_time": "2021-12-14T16:12:09.952027Z",
     "start_time": "2021-12-14T16:12:07.669654Z"
    }
   },
   "outputs": [],
   "source": [
    "import numpy as np\n",
    "import pandas as pd\n",
    "import requests\n",
    "import seaborn as sns\n",
    "import math"
   ]
  },
  {
   "cell_type": "markdown",
   "metadata": {},
   "source": [
    "Given csv file is the given dataset of employee."
   ]
  },
  {
   "cell_type": "code",
   "execution_count": 2,
   "metadata": {
    "ExecuteTime": {
     "end_time": "2021-12-14T16:12:10.499525Z",
     "start_time": "2021-12-14T16:12:09.952027Z"
    }
   },
   "outputs": [
    {
     "name": "stdout",
     "output_type": "stream",
     "text": [
      "<class 'pandas.core.frame.DataFrame'>\n",
      "RangeIndex: 100 entries, 0 to 99\n",
      "Data columns (total 5 columns):\n",
      " #   Column       Non-Null Count  Dtype \n",
      "---  ------       --------------  ----- \n",
      " 0   Name         100 non-null    object\n",
      " 1   Street       100 non-null    object\n",
      " 2   Postal code  100 non-null    object\n",
      " 3   City         98 non-null     object\n",
      " 4   Country      100 non-null    object\n",
      "dtypes: object(5)\n",
      "memory usage: 4.0+ KB\n",
      "None\n",
      "               Name            Street Postal code       City Country\n",
      "95    Umaiza French       Kaivokatu 8       00100   HELSINKI      FI\n",
      "96         Una Amin     Holmankorpi 3       02210      Espoo      FI\n",
      "97       Zahara Mac  ILTAPÄIVÄNKUJA 6       02210      Espoo      FI\n",
      "98    Zakir Watkins     Pyynikintie 3       33200    Tampere      FI\n",
      "99  Zayne Stevenson    Petsamontie 39       99800      Inari      FI\n"
     ]
    },
    {
     "data": {
      "image/png": "[encoded data removed]",
      "text/plain": [
       "<Figure size 432x288 with 2 Axes>"
      ]
     },
     "metadata": {
      "needs_background": "light"
     },
     "output_type": "display_data"
    }
   ],
   "source": [
    "employees_data = pd.read_csv('employees.csv')\n",
    "print(employees_data.info())\n",
    "sns.heatmap(employees_data.isnull())\n",
    "print(employees_data.tail())"
   ]
  },
  {
   "cell_type": "markdown",
   "metadata": {},
   "source": [
    "Emloyees_1.csv file is the extracted Longitude and latitude with the help of google sheet addons called geo code table calculaor. It will extract automatically required Latitude and Longitude once street address with postal code or city is given."
   ]
  },
  {
   "cell_type": "code",
   "execution_count": 3,
   "metadata": {
    "ExecuteTime": {
     "end_time": "2021-12-14T16:12:10.546522Z",
     "start_time": "2021-12-14T16:12:10.503534Z"
    }
   },
   "outputs": [
    {
     "data": {
      "text/html": [
       "<div>\n",
       "<style scoped>\n",
       "    .dataframe tbody tr th:only-of-type {\n",
       "        vertical-align: middle;\n",
       "    }\n",
       "\n",
       "    .dataframe tbody tr th {\n",
       "        vertical-align: top;\n",
       "    }\n",
       "\n",
       "    .dataframe thead th {\n",
       "        text-align: right;\n",
       "    }\n",
       "</style>\n",
       "<table border=\"1\" class=\"dataframe\">\n",
       "  <thead>\n",
       "    <tr style=\"text-align: right;\">\n",
       "      <th></th>\n",
       "      <th>Name</th>\n",
       "      <th>Street</th>\n",
       "      <th>Postal code</th>\n",
       "      <th>City</th>\n",
       "      <th>Country</th>\n",
       "      <th>Latitude</th>\n",
       "      <th>Longitude</th>\n",
       "    </tr>\n",
       "  </thead>\n",
       "  <tbody>\n",
       "    <tr>\n",
       "      <th>0</th>\n",
       "      <td>Abdulahi Lara</td>\n",
       "      <td>piilotie 2</td>\n",
       "      <td>21620</td>\n",
       "      <td>Kaarina</td>\n",
       "      <td>FI</td>\n",
       "      <td>60.393937</td>\n",
       "      <td>22.398708</td>\n",
       "    </tr>\n",
       "    <tr>\n",
       "      <th>1</th>\n",
       "      <td>Abu Schultz</td>\n",
       "      <td>KARIN-HEIKINTIE 2</td>\n",
       "      <td>36240</td>\n",
       "      <td>Kangasala</td>\n",
       "      <td>FI</td>\n",
       "      <td>61.475022</td>\n",
       "      <td>23.944436</td>\n",
       "    </tr>\n",
       "  </tbody>\n",
       "</table>\n",
       "</div>"
      ],
      "text/plain": [
       "            Name             Street Postal code       City Country   Latitude  \\\n",
       "0  Abdulahi Lara         piilotie 2       21620    Kaarina      FI  60.393937   \n",
       "1    Abu Schultz  KARIN-HEIKINTIE 2       36240  Kangasala      FI  61.475022   \n",
       "\n",
       "   Longitude  \n",
       "0  22.398708  \n",
       "1  23.944436  "
      ]
     },
     "execution_count": 3,
     "metadata": {},
     "output_type": "execute_result"
    }
   ],
   "source": [
    "lat_lon = pd.read_csv('employees_1.csv', sep=';')\n",
    "employees_data = pd.concat([employees_data,lat_lon], axis=1)\n",
    "employees_data.head(2)"
   ]
  },
  {
   "cell_type": "markdown",
   "metadata": {},
   "source": [
    "Inserting the headquater location, according to the question given. There was small typo regarding the postal code of the headquater in the assignment question. It was detected while reviewing the data via google maps. Since it is just a point, it was manually corrected while inserting the details."
   ]
  },
  {
   "cell_type": "code",
   "execution_count": 4,
   "metadata": {
    "ExecuteTime": {
     "end_time": "2021-12-14T16:12:10.578540Z",
     "start_time": "2021-12-14T16:12:10.549531Z"
    }
   },
   "outputs": [
    {
     "name": "stdout",
     "output_type": "stream",
     "text": [
      "          Name            Street Postal code   City Country   Latitude  \\\n",
      "0  Head quater  Betonimienkuja 3       02150  Espoo      FI  60.180714   \n",
      "\n",
      "   Longitude  \n",
      "0  24.831857  \n"
     ]
    },
    {
     "data": {
      "text/html": [
       "<div>\n",
       "<style scoped>\n",
       "    .dataframe tbody tr th:only-of-type {\n",
       "        vertical-align: middle;\n",
       "    }\n",
       "\n",
       "    .dataframe tbody tr th {\n",
       "        vertical-align: top;\n",
       "    }\n",
       "\n",
       "    .dataframe thead th {\n",
       "        text-align: right;\n",
       "    }\n",
       "</style>\n",
       "<table border=\"1\" class=\"dataframe\">\n",
       "  <thead>\n",
       "    <tr style=\"text-align: right;\">\n",
       "      <th></th>\n",
       "      <th>Name</th>\n",
       "      <th>Street</th>\n",
       "      <th>Postal code</th>\n",
       "      <th>City</th>\n",
       "      <th>Country</th>\n",
       "      <th>Latitude</th>\n",
       "      <th>Longitude</th>\n",
       "    </tr>\n",
       "  </thead>\n",
       "  <tbody>\n",
       "    <tr>\n",
       "      <th>0</th>\n",
       "      <td>Head quater</td>\n",
       "      <td>Betonimienkuja 3</td>\n",
       "      <td>02150</td>\n",
       "      <td>Espoo</td>\n",
       "      <td>FI</td>\n",
       "      <td>60.180714</td>\n",
       "      <td>24.831857</td>\n",
       "    </tr>\n",
       "    <tr>\n",
       "      <th>1</th>\n",
       "      <td>Abdulahi Lara</td>\n",
       "      <td>piilotie 2</td>\n",
       "      <td>21620</td>\n",
       "      <td>Kaarina</td>\n",
       "      <td>FI</td>\n",
       "      <td>60.393937</td>\n",
       "      <td>22.398708</td>\n",
       "    </tr>\n",
       "  </tbody>\n",
       "</table>\n",
       "</div>"
      ],
      "text/plain": [
       "            Name            Street Postal code     City Country   Latitude  \\\n",
       "0    Head quater  Betonimienkuja 3       02150    Espoo      FI  60.180714   \n",
       "1  Abdulahi Lara        piilotie 2       21620  Kaarina      FI  60.393937   \n",
       "\n",
       "   Longitude  \n",
       "0  24.831857  \n",
       "1  22.398708  "
      ]
     },
     "execution_count": 4,
     "metadata": {},
     "output_type": "execute_result"
    }
   ],
   "source": [
    "hq_location = {\"Name\":\"Head quater\", \"Street\": \"Betonimienkuja 3\", \"Postal code\": \"02150\", \n",
    "                            \"City\": \"Espoo\", \"Country\": \"FI\", \"Latitude\": 60.1807142, \"Longitude\": 24.8318569}\n",
    "hq_location_df = pd.DataFrame(hq_location,index=[0])\n",
    "print(hq_location_df)\n",
    "employees_data = pd.concat([hq_location_df,employees_data],ignore_index=True)\n",
    "employees_data.head(2)\n"
   ]
  },
  {
   "cell_type": "markdown",
   "metadata": {},
   "source": [
    "Below distance calculation is custom calculation done to extract the shortest distance between employees address and headquaters. "
   ]
  },
  {
   "cell_type": "code",
   "execution_count": 5,
   "metadata": {
    "ExecuteTime": {
     "end_time": "2021-12-14T16:12:10.626532Z",
     "start_time": "2021-12-14T16:12:10.582532Z"
    }
   },
   "outputs": [
    {
     "name": "stdout",
     "output_type": "stream",
     "text": [
      "            Name            Street Postal code     City Country   Latitude  \\\n",
      "0    Head quater  Betonimienkuja 3       02150    Espoo      FI  60.180714   \n",
      "1  Abdulahi Lara        piilotie 2       21620  Kaarina      FI  60.393937   \n",
      "\n",
      "   Longitude  distance_to_headquater_km  \n",
      "0  24.831857                          0  \n",
      "1  22.398708                        136  \n"
     ]
    }
   ],
   "source": [
    "# Distance calculation\n",
    "def coordinate_dislat(x1):\n",
    "    val = (x1-math.radians(60.180714))\n",
    "    return val\n",
    "def coordinate_dislon(y1):\n",
    "    val= (y1-math.radians(24.8318569))\n",
    "    return val\n",
    "# calculating the radian value\n",
    "employees_data['radx']= employees_data[\"Latitude\"].apply(math.radians)\n",
    "employees_data['rady']= employees_data[\"Longitude\"].apply(math.radians)\n",
    "# performing difference in randian value with the headquater radians\n",
    "employees_data['Dlat'] = employees_data['radx'].apply(coordinate_dislat)\n",
    "employees_data['Dlon'] = employees_data['rady'].apply(coordinate_dislon)\n",
    "\n",
    "## Haversine formula for the actual distance calculation in map\n",
    "# a = sin²(ΔlatDifference/2) + cos(lat1).cos(lt2).sin²(ΔlonDifference/2)\n",
    "# shortest_distance = 2 * sina(sqrt(a)) * radius of earth\n",
    "\n",
    "# Adusting dataframe environment to perform above formula and to find shortest distance to the headquater\n",
    "\n",
    "employees_data[\"Sin_sq_dlat\"]=employees_data[\"Dlat\"].apply(lambda x: math.sin(x/2)**2)\n",
    "employees_data[\"Sin_sq_dlon\"]=employees_data[\"Dlon\"].apply(lambda x: math.sin(x/2)**2)\n",
    "employees_data[\"cos_rad_headquater\"]=employees_data[\"Dlon\"].apply(lambda x: math.cos(math.radians(60.180714)))\n",
    "employees_data['cos_radx'] = employees_data['radx'].apply(lambda x: math.cos(x))\n",
    "radius_of_earth = 6371\n",
    "# finding the value of a\n",
    "employees_data[\"value_of_a\"] = employees_data['Sin_sq_dlat'] + employees_data['cos_rad_headquater'] * employees_data['cos_radx'] * employees_data['Sin_sq_dlon']\n",
    "# finding the value of distance from headquater\n",
    "employees_data['distance_to_headquater_km'] = employees_data['value_of_a'].apply(lambda x: 2* radius_of_earth * math.asin(math.sqrt(x)))\n",
    "#rounding the distance value\n",
    "employees_data['distance_to_headquater_km'] = employees_data['distance_to_headquater_km'].apply(round)\n",
    "# Poping out unnecessary column generated during the calculation\n",
    "del_column = ['radx', 'rady', 'Dlat', 'Dlon', 'Sin_sq_dlat', 'Sin_sq_dlon', 'cos_rad_headquater', 'cos_radx', 'value_of_a']\n",
    "employees_data = employees_data.drop(del_column,axis=1)\n",
    "print(employees_data.head(2))"
   ]
  },
  {
   "cell_type": "code",
   "execution_count": 6,
   "metadata": {
    "ExecuteTime": {
     "end_time": "2021-12-14T16:12:10.658526Z",
     "start_time": "2021-12-14T16:12:10.629565Z"
    }
   },
   "outputs": [
    {
     "data": {
      "text/html": [
       "<div>\n",
       "<style scoped>\n",
       "    .dataframe tbody tr th:only-of-type {\n",
       "        vertical-align: middle;\n",
       "    }\n",
       "\n",
       "    .dataframe tbody tr th {\n",
       "        vertical-align: top;\n",
       "    }\n",
       "\n",
       "    .dataframe thead th {\n",
       "        text-align: right;\n",
       "    }\n",
       "</style>\n",
       "<table border=\"1\" class=\"dataframe\">\n",
       "  <thead>\n",
       "    <tr style=\"text-align: right;\">\n",
       "      <th></th>\n",
       "      <th>Name</th>\n",
       "      <th>Street</th>\n",
       "      <th>Postal code</th>\n",
       "      <th>City</th>\n",
       "      <th>Country</th>\n",
       "      <th>Latitude</th>\n",
       "      <th>Longitude</th>\n",
       "      <th>distance_to_headquater_km</th>\n",
       "    </tr>\n",
       "  </thead>\n",
       "  <tbody>\n",
       "    <tr>\n",
       "      <th>0</th>\n",
       "      <td>Head quater</td>\n",
       "      <td>Betonimienkuja 3</td>\n",
       "      <td>02150</td>\n",
       "      <td>Espoo</td>\n",
       "      <td>FI</td>\n",
       "      <td>60.180714</td>\n",
       "      <td>24.831857</td>\n",
       "      <td>0</td>\n",
       "    </tr>\n",
       "    <tr>\n",
       "      <th>1</th>\n",
       "      <td>Abdulahi Lara</td>\n",
       "      <td>piilotie 2</td>\n",
       "      <td>21620</td>\n",
       "      <td>Kaarina</td>\n",
       "      <td>FI</td>\n",
       "      <td>60.393937</td>\n",
       "      <td>22.398708</td>\n",
       "      <td>136</td>\n",
       "    </tr>\n",
       "  </tbody>\n",
       "</table>\n",
       "</div>"
      ],
      "text/plain": [
       "            Name            Street Postal code     City Country   Latitude  \\\n",
       "0    Head quater  Betonimienkuja 3       02150    Espoo      FI  60.180714   \n",
       "1  Abdulahi Lara        piilotie 2       21620  Kaarina      FI  60.393937   \n",
       "\n",
       "   Longitude  distance_to_headquater_km  \n",
       "0  24.831857                          0  \n",
       "1  22.398708                        136  "
      ]
     },
     "execution_count": 6,
     "metadata": {},
     "output_type": "execute_result"
    }
   ],
   "source": [
    "employees_data.head(2)"
   ]
  },
  {
   "cell_type": "code",
   "execution_count": 7,
   "metadata": {
    "ExecuteTime": {
     "end_time": "2021-12-14T16:12:10.738535Z",
     "start_time": "2021-12-14T16:12:10.661531Z"
    }
   },
   "outputs": [
    {
     "name": "stdout",
     "output_type": "stream",
     "text": [
      "         Latitude   Longitude  distance_to_headquater_km\n",
      "count  101.000000  101.000000                 101.000000\n",
      "mean    61.371042   24.391964                 181.811881\n",
      "std      1.870679    3.256319                 254.555759\n",
      "min     53.295706   -3.835711                   0.000000\n",
      "25%     60.229054   23.757206                  10.000000\n",
      "50%     60.743728   24.843902                 104.000000\n",
      "75%     62.252654   25.130091                 266.000000\n",
      "max     68.662606   29.763114                1889.000000\n",
      "         Name        Street Postal code     City Country   Latitude  \\\n",
      "64  Leroy Lee  STATION ROAD    LL31 9FA  DEGANWY      FI  53.295706   \n",
      "\n",
      "    Longitude  distance_to_headquater_km  \n",
      "64  -3.835711                       1889  \n",
      "         Latitude   Longitude  distance_to_headquater_km\n",
      "count  100.000000  100.000000                 100.000000\n",
      "mean    61.451796   24.674241                 164.740000\n",
      "std      1.693961    1.606778                 188.995945\n",
      "min     59.978607   21.229202                   0.000000\n",
      "25%     60.231450   23.812985                   9.750000\n",
      "50%     60.768392   24.846387                 102.000000\n",
      "75%     62.263828   25.145956                 266.000000\n",
      "max     68.662606   29.763114                 952.000000\n"
     ]
    },
    {
     "data": {
      "text/html": [
       "<div>\n",
       "<style scoped>\n",
       "    .dataframe tbody tr th:only-of-type {\n",
       "        vertical-align: middle;\n",
       "    }\n",
       "\n",
       "    .dataframe tbody tr th {\n",
       "        vertical-align: top;\n",
       "    }\n",
       "\n",
       "    .dataframe thead th {\n",
       "        text-align: right;\n",
       "    }\n",
       "</style>\n",
       "<table border=\"1\" class=\"dataframe\">\n",
       "  <thead>\n",
       "    <tr style=\"text-align: right;\">\n",
       "      <th></th>\n",
       "      <th>Name</th>\n",
       "      <th>Street</th>\n",
       "      <th>Postal code</th>\n",
       "      <th>City</th>\n",
       "      <th>Country</th>\n",
       "      <th>Latitude</th>\n",
       "      <th>Longitude</th>\n",
       "      <th>distance_to_headquater_km</th>\n",
       "    </tr>\n",
       "  </thead>\n",
       "  <tbody>\n",
       "    <tr>\n",
       "      <th>62</th>\n",
       "      <td>Lacie-Mae Smart</td>\n",
       "      <td>TÄHKÄTIE 3</td>\n",
       "      <td>00390</td>\n",
       "      <td>Helsinki</td>\n",
       "      <td>FI</td>\n",
       "      <td>60.241372</td>\n",
       "      <td>24.843902</td>\n",
       "      <td>7</td>\n",
       "    </tr>\n",
       "    <tr>\n",
       "      <th>63</th>\n",
       "      <td>Lennon Blake</td>\n",
       "      <td>SUNDSGATAN 13</td>\n",
       "      <td>65200</td>\n",
       "      <td>Vaasa</td>\n",
       "      <td>FI</td>\n",
       "      <td>63.107424</td>\n",
       "      <td>21.586728</td>\n",
       "      <td>368</td>\n",
       "    </tr>\n",
       "    <tr>\n",
       "      <th>65</th>\n",
       "      <td>Liya Thorpe</td>\n",
       "      <td>ALEKSIS KIVENKATU 48</td>\n",
       "      <td>00510</td>\n",
       "      <td>Helsinki</td>\n",
       "      <td>FI</td>\n",
       "      <td>60.191444</td>\n",
       "      <td>24.946948</td>\n",
       "      <td>6</td>\n",
       "    </tr>\n",
       "    <tr>\n",
       "      <th>66</th>\n",
       "      <td>Luis Mcdermott</td>\n",
       "      <td>KUNINKAANTAMMENKIERTO 12</td>\n",
       "      <td>00430</td>\n",
       "      <td>Helsinki</td>\n",
       "      <td>FI</td>\n",
       "      <td>60.260740</td>\n",
       "      <td>24.886982</td>\n",
       "      <td>9</td>\n",
       "    </tr>\n",
       "  </tbody>\n",
       "</table>\n",
       "</div>"
      ],
      "text/plain": [
       "               Name                    Street Postal code      City Country  \\\n",
       "62  Lacie-Mae Smart                TÄHKÄTIE 3       00390  Helsinki      FI   \n",
       "63     Lennon Blake             SUNDSGATAN 13       65200     Vaasa      FI   \n",
       "65      Liya Thorpe      ALEKSIS KIVENKATU 48       00510  Helsinki      FI   \n",
       "66   Luis Mcdermott  KUNINKAANTAMMENKIERTO 12       00430  Helsinki      FI   \n",
       "\n",
       "     Latitude  Longitude  distance_to_headquater_km  \n",
       "62  60.241372  24.843902                          7  \n",
       "63  63.107424  21.586728                        368  \n",
       "65  60.191444  24.946948                          6  \n",
       "66  60.260740  24.886982                          9  "
      ]
     },
     "execution_count": 7,
     "metadata": {},
     "output_type": "execute_result"
    }
   ],
   "source": [
    "print(employees_data.describe())\n",
    "# shows the value of shortest distance 1889 km which inside of Finland is quite not true, let's check the actual rows\n",
    "print(employees_data[employees_data.distance_to_headquater_km==1889])\n",
    "# This address is somewhere in UK .\n",
    "# We are analysing the data in Finland so let's pop it out too.\n",
    "employees_data = employees_data.drop(64,axis=0)\n",
    "print(employees_data.describe())\n",
    "employees_data[62:66]"
   ]
  },
  {
   "cell_type": "code",
   "execution_count": 8,
   "metadata": {
    "ExecuteTime": {
     "end_time": "2021-12-14T16:12:10.770523Z",
     "start_time": "2021-12-14T16:12:10.743534Z"
    }
   },
   "outputs": [
    {
     "data": {
      "text/html": [
       "<div>\n",
       "<style scoped>\n",
       "    .dataframe tbody tr th:only-of-type {\n",
       "        vertical-align: middle;\n",
       "    }\n",
       "\n",
       "    .dataframe tbody tr th {\n",
       "        vertical-align: top;\n",
       "    }\n",
       "\n",
       "    .dataframe thead th {\n",
       "        text-align: right;\n",
       "    }\n",
       "</style>\n",
       "<table border=\"1\" class=\"dataframe\">\n",
       "  <thead>\n",
       "    <tr style=\"text-align: right;\">\n",
       "      <th></th>\n",
       "      <th>Name</th>\n",
       "      <th>Street</th>\n",
       "      <th>Postal code</th>\n",
       "      <th>City</th>\n",
       "      <th>Country</th>\n",
       "      <th>Latitude</th>\n",
       "      <th>Longitude</th>\n",
       "      <th>distance_to_headquater_km</th>\n",
       "    </tr>\n",
       "  </thead>\n",
       "  <tbody>\n",
       "    <tr>\n",
       "      <th>100</th>\n",
       "      <td>Zayne Stevenson</td>\n",
       "      <td>Petsamontie 39</td>\n",
       "      <td>99800</td>\n",
       "      <td>Inari</td>\n",
       "      <td>FI</td>\n",
       "      <td>68.662606</td>\n",
       "      <td>27.566858</td>\n",
       "      <td>952</td>\n",
       "    </tr>\n",
       "  </tbody>\n",
       "</table>\n",
       "</div>"
      ],
      "text/plain": [
       "                Name          Street Postal code   City Country   Latitude  \\\n",
       "100  Zayne Stevenson  Petsamontie 39       99800  Inari      FI  68.662606   \n",
       "\n",
       "     Longitude  distance_to_headquater_km  \n",
       "100  27.566858                        952  "
      ]
     },
     "execution_count": 8,
     "metadata": {},
     "output_type": "execute_result"
    }
   ],
   "source": [
    "employees_data[employees_data.distance_to_headquater_km==952]"
   ]
  },
  {
   "cell_type": "markdown",
   "metadata": {
    "ExecuteTime": {
     "end_time": "2021-12-13T09:06:13.794197Z",
     "start_time": "2021-12-13T09:06:13.762297Z"
    }
   },
   "source": [
    "After the deleting the unnecessary row, we have now maximum shortest distance value is 952 kilometer from the headquater. This seems to be reasonable. Still cross-checking with google maps we found that inari is the small town in northernmost part of the finland. The value obtained is convincing and reasonable.\n",
    "\n",
    "We have now the distance of employee's living to the headquaters. This makes us to answer 2 out of 3 question regarding the assignment. To answer the Third question, we are taking the data from the statistics finland. The other part is assumption, which is taken as following:\n",
    "    \n",
    "    1. To find the wealthiest region, we will directly relate the attribute related to the yearly income of individual according to the  postal address. i.e. in summary where the income of individual is higher, wealthiest the region."
   ]
  },
  {
   "cell_type": "code",
   "execution_count": 9,
   "metadata": {
    "ExecuteTime": {
     "end_time": "2021-12-14T16:12:19.587926Z",
     "start_time": "2021-12-14T16:12:10.774524Z"
    }
   },
   "outputs": [
    {
     "name": "stdout",
     "output_type": "stream",
     "text": [
      "              FID                                               geom  \\\n",
      "0  pno_tilasto.24  MULTIPOLYGON (((381041.8568000002 6672713.2391...   \n",
      "1  pno_tilasto.25  MULTIPOLYGON (((382843.9606999997 6676971.9386...   \n",
      "\n",
      "   postinumeroalue                    nimi                   namn  euref_x  \\\n",
      "0              340   Kuusisaari-Lehtisaari             Granö-Lövö   380834   \n",
      "1              350  Munkkivuori-Niemenmäki  Munkshöjden-Näshöjden   381714   \n",
      "\n",
      "   euref_y  pinta_ala  vuosi  kunta  ...  tp_t_koti  tp_u_kans  tp_x_tunt  \\\n",
      "0  6673255    1008214   2021     91  ...          0          6          0   \n",
      "1  6676414    2211028   2021     91  ...          0          0          0   \n",
      "\n",
      "   pt_vakiy  pt_tyoll  pt_tyott  pt_0_14  pt_opisk  pt_elakel  pt_muut  \n",
      "0      1767       807        46      266       141        404      103  \n",
      "1      9280      4785       374     1275       745       1802      299  \n",
      "\n",
      "[2 rows x 113 columns]\n",
      "   Postal code  Yearly_avg_income\n",
      "0          340              63919\n",
      "1          350              29152\n"
     ]
    }
   ],
   "source": [
    "# downloading the data from the server\n",
    "url = \"https://geo.stat.fi/geoserver/wfs?service=WFS&version=2.0.0&request=GetFeature&typeName=postialue:pno_tilasto&outputFormat=csv\"\n",
    "data = pd.read_csv(url)\n",
    "print(data.head(2))\n",
    "\n",
    "# Out of lots of column, we are at this moment just selecting the average yearly income and postal code from the downloded data. \n",
    "data_selected = data[[\"postinumeroalue\", \"hr_ktu\"]]\n",
    "# Renaming the column to have the better understanding of data\n",
    "data_selected = data_selected.rename(columns={'postinumeroalue':'Postal code', 'hr_ktu': 'Yearly_avg_income'})\n",
    "print(data_selected.head(2))"
   ]
  },
  {
   "cell_type": "code",
   "execution_count": 10,
   "metadata": {
    "ExecuteTime": {
     "end_time": "2021-12-14T16:12:19.620036Z",
     "start_time": "2021-12-14T16:12:19.587926Z"
    }
   },
   "outputs": [
    {
     "name": "stdout",
     "output_type": "stream",
     "text": [
      "99\n",
      "<class 'pandas.core.frame.DataFrame'>\n",
      "Int64Index: 100 entries, 0 to 100\n",
      "Data columns (total 8 columns):\n",
      " #   Column                     Non-Null Count  Dtype  \n",
      "---  ------                     --------------  -----  \n",
      " 0   Name                       100 non-null    object \n",
      " 1   Street                     100 non-null    object \n",
      " 2   Postal code                100 non-null    object \n",
      " 3   City                       98 non-null     object \n",
      " 4   Country                    100 non-null    object \n",
      " 5   Latitude                   100 non-null    float64\n",
      " 6   Longitude                  100 non-null    float64\n",
      " 7   distance_to_headquater_km  100 non-null    int64  \n",
      "dtypes: float64(2), int64(1), object(5)\n",
      "memory usage: 7.0+ KB\n",
      "None\n"
     ]
    }
   ],
   "source": [
    "print(len(employees_data['Postal code'].unique()))\n",
    "print(employees_data.info())"
   ]
  },
  {
   "cell_type": "markdown",
   "metadata": {},
   "source": [
    "To merge the two dataframe, we need to figure out the suitability (i.e. inner, outer, left, right). Our data out of 100, 99 is the unique Postal code. This means there is the repetition of Postal code. This means, two employee living in same region working at the same office. This is common to happen. Therefore, we are taking the left join, to avoide the data loss. But before that, datatypes of Postal code must be change to avoide the error while performing the join."
   ]
  },
  {
   "cell_type": "code",
   "execution_count": 11,
   "metadata": {
    "ExecuteTime": {
     "end_time": "2021-12-14T16:12:19.652026Z",
     "start_time": "2021-12-14T16:12:19.627031Z"
    }
   },
   "outputs": [
    {
     "name": "stdout",
     "output_type": "stream",
     "text": [
      "<class 'pandas.core.frame.DataFrame'>\n",
      "Int64Index: 100 entries, 0 to 99\n",
      "Data columns (total 9 columns):\n",
      " #   Column                     Non-Null Count  Dtype  \n",
      "---  ------                     --------------  -----  \n",
      " 0   Name                       100 non-null    object \n",
      " 1   Street                     100 non-null    object \n",
      " 2   Postal code                100 non-null    int64  \n",
      " 3   City                       98 non-null     object \n",
      " 4   Country                    100 non-null    object \n",
      " 5   Latitude                   100 non-null    float64\n",
      " 6   Longitude                  100 non-null    float64\n",
      " 7   distance_to_headquater_km  100 non-null    int64  \n",
      " 8   Yearly_avg_income          99 non-null     float64\n",
      "dtypes: float64(3), int64(2), object(4)\n",
      "memory usage: 7.8+ KB\n",
      "None\n"
     ]
    }
   ],
   "source": [
    "# changing the data types\n",
    "employees_data['Postal code']=employees_data['Postal code'].apply(int)\n",
    "# performing left join\n",
    "employees_data = employees_data.merge(data_selected, on = 'Postal code', how = 'left')\n",
    "print(employees_data.info())"
   ]
  },
  {
   "cell_type": "code",
   "execution_count": 12,
   "metadata": {
    "ExecuteTime": {
     "end_time": "2021-12-14T16:12:20.151299Z",
     "start_time": "2021-12-14T16:12:19.655029Z"
    }
   },
   "outputs": [
    {
     "data": {
      "text/plain": [
       "<AxesSubplot:>"
      ]
     },
     "execution_count": 12,
     "metadata": {},
     "output_type": "execute_result"
    },
    {
     "data": {
      "image/png": "[encoded data removed]",
      "text/plain": [
       "<Figure size 432x288 with 2 Axes>"
      ]
     },
     "metadata": {
      "needs_background": "light"
     },
     "output_type": "display_data"
    }
   ],
   "source": [
    "sns.heatmap(employees_data.isnull())"
   ]
  },
  {
   "cell_type": "code",
   "execution_count": 13,
   "metadata": {
    "ExecuteTime": {
     "end_time": "2021-12-14T16:12:20.618878Z",
     "start_time": "2021-12-14T16:12:20.154309Z"
    }
   },
   "outputs": [
    {
     "name": "stdout",
     "output_type": "stream",
     "text": [
      "40    20600.0\n",
      "41    23310.0\n",
      "42    27130.0\n",
      "43    61933.0\n",
      "44        NaN\n",
      "Name: Yearly_avg_income, dtype: float64\n",
      "Name                         Humphrey Schneider\n",
      "Street                           FRISKINPOLKU 8\n",
      "Postal code                               26360\n",
      "City                                      Turku\n",
      "Country                                      FI\n",
      "Latitude                                60.4878\n",
      "Longitude                               22.2663\n",
      "distance_to_headquater_km                   145\n",
      "Yearly_avg_income                           NaN\n",
      "Name: 44, dtype: object\n",
      "                  Name          Street  Postal code   City Country   Latitude  \\\n",
      "44  Humphrey Schneider  FRISKINPOLKU 8        26360  Turku      FI  60.487821   \n",
      "\n",
      "    Longitude  distance_to_headquater_km  Yearly_avg_income  \n",
      "44  22.266304                        145                NaN  \n",
      "Empty DataFrame\n",
      "Columns: [Postal code, Yearly_avg_income]\n",
      "Index: []\n"
     ]
    },
    {
     "name": "stderr",
     "output_type": "stream",
     "text": [
      "<ipython-input-13-ee64356786b6>:16: SettingWithCopyWarning: \n",
      "A value is trying to be set on a copy of a slice from a DataFrame\n",
      "\n",
      "See the caveats in the documentation: https://pandas.pydata.org/pandas-docs/stable/user_guide/indexing.html#returning-a-view-versus-a-copy\n",
      "  employees_data['Postal code'][44]=20360\n",
      "<ipython-input-13-ee64356786b6>:17: SettingWithCopyWarning: \n",
      "A value is trying to be set on a copy of a slice from a DataFrame\n",
      "\n",
      "See the caveats in the documentation: https://pandas.pydata.org/pandas-docs/stable/user_guide/indexing.html#returning-a-view-versus-a-copy\n",
      "  employees_data['Yearly_avg_income'][44]=21333\n",
      "<ipython-input-13-ee64356786b6>:18: SettingWithCopyWarning: \n",
      "A value is trying to be set on a copy of a slice from a DataFrame\n",
      "\n",
      "See the caveats in the documentation: https://pandas.pydata.org/pandas-docs/stable/user_guide/indexing.html#returning-a-view-versus-a-copy\n",
      "  employees_data['City'][43] = 'Helsinki'\n",
      "<ipython-input-13-ee64356786b6>:19: SettingWithCopyWarning: \n",
      "A value is trying to be set on a copy of a slice from a DataFrame\n",
      "\n",
      "See the caveats in the documentation: https://pandas.pydata.org/pandas-docs/stable/user_guide/indexing.html#returning-a-view-versus-a-copy\n",
      "  employees_data['City'][36] = 'Oulu'\n"
     ]
    },
    {
     "data": {
      "image/png": "[encoded data removed]",
      "text/plain": [
       "<Figure size 432x288 with 2 Axes>"
      ]
     },
     "metadata": {
      "needs_background": "light"
     },
     "output_type": "display_data"
    }
   ],
   "source": [
    "# above heatmap shows somewhere in the index between 40 to 45 shows the null value, let's fix this issue\n",
    "print(employees_data.Yearly_avg_income[40:45])\n",
    "# it seems like index 44 have not the yearly_avg_income\n",
    "# further let's see what we can find in that index\n",
    "print(employees_data.iloc[44,:])\n",
    "# checking if there is null value in data_selected data frame\n",
    "sns.heatmap(data_selected.isnull())\n",
    "#It seems to have all the postal code and values\n",
    "#further checking the information of null value index\n",
    "print(employees_data[employees_data['Postal code']==26360])\n",
    "print(data_selected[data_selected['Postal code']==26360])\n",
    "# While cross checking the google maps and data_selected data frame, it is found that there is a typo. It seems, \n",
    "# instead of 20360 there is 26360\n",
    "# Let's correct this typo and fill the nan value with correct information\n",
    "# on reviewing avg yearly income of the postal code region 20360 is 21333.\n",
    "employees_data['Postal code'][44]=20360\n",
    "employees_data['Yearly_avg_income'][44]=21333\n",
    "employees_data['City'][43] = 'Helsinki'\n",
    "employees_data['City'][36] = 'Oulu'"
   ]
  },
  {
   "cell_type": "code",
   "execution_count": 14,
   "metadata": {
    "ExecuteTime": {
     "end_time": "2021-12-14T16:12:21.123766Z",
     "start_time": "2021-12-14T16:12:20.621888Z"
    }
   },
   "outputs": [
    {
     "name": "stdout",
     "output_type": "stream",
     "text": [
      "Name                         Humphrey Schneider\n",
      "Street                           FRISKINPOLKU 8\n",
      "Postal code                               20360\n",
      "City                                      Turku\n",
      "Country                                      FI\n",
      "Latitude                                60.4878\n",
      "Longitude                               22.2663\n",
      "distance_to_headquater_km                   145\n",
      "Yearly_avg_income                         21333\n",
      "Name: 44, dtype: object\n"
     ]
    },
    {
     "data": {
      "text/plain": [
       "<AxesSubplot:>"
      ]
     },
     "execution_count": 14,
     "metadata": {},
     "output_type": "execute_result"
    },
    {
     "data": {
      "image/png": "[encoded data removed]",
      "text/plain": [
       "<Figure size 432x288 with 2 Axes>"
      ]
     },
     "metadata": {
      "needs_background": "light"
     },
     "output_type": "display_data"
    }
   ],
   "source": [
    "# checking the dataframe after adjusting\n",
    "print(employees_data.iloc[44,])\n",
    "sns.heatmap(employees_data.isnull())"
   ]
  },
  {
   "cell_type": "code",
   "execution_count": 15,
   "metadata": {
    "ExecuteTime": {
     "end_time": "2021-12-14T16:12:21.155366Z",
     "start_time": "2021-12-14T16:12:21.123766Z"
    }
   },
   "outputs": [
    {
     "data": {
      "text/html": [
       "<div>\n",
       "<style scoped>\n",
       "    .dataframe tbody tr th:only-of-type {\n",
       "        vertical-align: middle;\n",
       "    }\n",
       "\n",
       "    .dataframe tbody tr th {\n",
       "        vertical-align: top;\n",
       "    }\n",
       "\n",
       "    .dataframe thead th {\n",
       "        text-align: right;\n",
       "    }\n",
       "</style>\n",
       "<table border=\"1\" class=\"dataframe\">\n",
       "  <thead>\n",
       "    <tr style=\"text-align: right;\">\n",
       "      <th></th>\n",
       "      <th>Name</th>\n",
       "      <th>Street</th>\n",
       "      <th>Postal code</th>\n",
       "      <th>City</th>\n",
       "      <th>Country</th>\n",
       "      <th>Latitude</th>\n",
       "      <th>Longitude</th>\n",
       "      <th>distance_to_headquater_km</th>\n",
       "      <th>Yearly_avg_income</th>\n",
       "    </tr>\n",
       "  </thead>\n",
       "  <tbody>\n",
       "    <tr>\n",
       "      <th>0</th>\n",
       "      <td>Head quater</td>\n",
       "      <td>Betonimienkuja 3</td>\n",
       "      <td>2150</td>\n",
       "      <td>Espoo</td>\n",
       "      <td>FI</td>\n",
       "      <td>60.180714</td>\n",
       "      <td>24.831857</td>\n",
       "      <td>0</td>\n",
       "      <td>13650.0</td>\n",
       "    </tr>\n",
       "    <tr>\n",
       "      <th>1</th>\n",
       "      <td>Abdulahi Lara</td>\n",
       "      <td>piilotie 2</td>\n",
       "      <td>21620</td>\n",
       "      <td>Kaarina</td>\n",
       "      <td>FI</td>\n",
       "      <td>60.393937</td>\n",
       "      <td>22.398708</td>\n",
       "      <td>136</td>\n",
       "      <td>40423.0</td>\n",
       "    </tr>\n",
       "    <tr>\n",
       "      <th>2</th>\n",
       "      <td>Abu Schultz</td>\n",
       "      <td>KARIN-HEIKINTIE 2</td>\n",
       "      <td>36240</td>\n",
       "      <td>Kangasala</td>\n",
       "      <td>FI</td>\n",
       "      <td>61.475022</td>\n",
       "      <td>23.944436</td>\n",
       "      <td>152</td>\n",
       "      <td>26853.0</td>\n",
       "    </tr>\n",
       "    <tr>\n",
       "      <th>3</th>\n",
       "      <td>Aishah Plummer</td>\n",
       "      <td>Jungarvägen 27 B</td>\n",
       "      <td>66850</td>\n",
       "      <td>Uusikaarlepyy</td>\n",
       "      <td>FI</td>\n",
       "      <td>63.521760</td>\n",
       "      <td>22.530356</td>\n",
       "      <td>391</td>\n",
       "      <td>27588.0</td>\n",
       "    </tr>\n",
       "    <tr>\n",
       "      <th>4</th>\n",
       "      <td>Aleksandra Riley</td>\n",
       "      <td>NAHKATEHTAANKUJA 2</td>\n",
       "      <td>4300</td>\n",
       "      <td>Tuusula</td>\n",
       "      <td>FI</td>\n",
       "      <td>60.402046</td>\n",
       "      <td>25.017265</td>\n",
       "      <td>27</td>\n",
       "      <td>30340.0</td>\n",
       "    </tr>\n",
       "  </tbody>\n",
       "</table>\n",
       "</div>"
      ],
      "text/plain": [
       "               Name              Street  Postal code           City Country  \\\n",
       "0       Head quater    Betonimienkuja 3         2150          Espoo      FI   \n",
       "1     Abdulahi Lara          piilotie 2        21620        Kaarina      FI   \n",
       "2       Abu Schultz   KARIN-HEIKINTIE 2        36240      Kangasala      FI   \n",
       "3    Aishah Plummer    Jungarvägen 27 B        66850  Uusikaarlepyy      FI   \n",
       "4  Aleksandra Riley  NAHKATEHTAANKUJA 2         4300        Tuusula      FI   \n",
       "\n",
       "    Latitude  Longitude  distance_to_headquater_km  Yearly_avg_income  \n",
       "0  60.180714  24.831857                          0            13650.0  \n",
       "1  60.393937  22.398708                        136            40423.0  \n",
       "2  61.475022  23.944436                        152            26853.0  \n",
       "3  63.521760  22.530356                        391            27588.0  \n",
       "4  60.402046  25.017265                         27            30340.0  "
      ]
     },
     "execution_count": 15,
     "metadata": {},
     "output_type": "execute_result"
    }
   ],
   "source": [
    "# let's review our final dataframe to answer all three question asked on the assignment\n",
    "employees_data.head()"
   ]
  },
  {
   "cell_type": "markdown",
   "metadata": {},
   "source": [
    "####  Who lives closest to the company Head-quater"
   ]
  },
  {
   "cell_type": "code",
   "execution_count": 16,
   "metadata": {
    "ExecuteTime": {
     "end_time": "2021-12-14T16:12:21.171382Z",
     "start_time": "2021-12-14T16:12:21.158365Z"
    }
   },
   "outputs": [
    {
     "name": "stdout",
     "output_type": "stream",
     "text": [
      "----------------------------------\n",
      "The employee who lives closest to the headquater is Carol Guzman\n",
      "----------------------------------\n",
      "Name                              Carol Guzman\n",
      "Street                       Lehtisaarentie 8a\n",
      "Postal code                                340\n",
      "City                                  Helsinki\n",
      "Country                                     FI\n",
      "Latitude                               60.1786\n",
      "Longitude                              24.8536\n",
      "distance_to_headquater_km                    1\n",
      "Yearly_avg_income                        63919\n",
      "Name: 21, dtype: object\n"
     ]
    }
   ],
   "source": [
    "closest_to_headquater = employees_data.sort_values('distance_to_headquater_km').iloc[1,:]\n",
    "print('----------------------------------')\n",
    "print(f'The employee who lives closest to the headquater is {closest_to_headquater.Name}')\n",
    "print('----------------------------------')\n",
    "print(closest_to_headquater)"
   ]
  },
  {
   "cell_type": "markdown",
   "metadata": {},
   "source": [
    "#### How many people live within 10km of the office"
   ]
  },
  {
   "cell_type": "code",
   "execution_count": 17,
   "metadata": {
    "ExecuteTime": {
     "end_time": "2021-12-14T16:12:21.203372Z",
     "start_time": "2021-12-14T16:12:21.175376Z"
    }
   },
   "outputs": [
    {
     "name": "stdout",
     "output_type": "stream",
     "text": [
      "---------------------------------\n",
      "Number of people living within 10 km from the office is 25\n",
      "---------------------------------\n"
     ]
    },
    {
     "name": "stderr",
     "output_type": "stream",
     "text": [
      "<ipython-input-17-1c681d508654>:4: SettingWithCopyWarning: \n",
      "A value is trying to be set on a copy of a slice from a DataFrame\n",
      "\n",
      "See the caveats in the documentation: https://pandas.pydata.org/pandas-docs/stable/user_guide/indexing.html#returning-a-view-versus-a-copy\n",
      "  employees_data.Status[0] = 'Headquater'\n"
     ]
    }
   ],
   "source": [
    "#Adjusting new column with status of employee to determine the employee location and headquater location.\n",
    "employees_data['Status'] = employees_data.distance_to_headquater_km==0\n",
    "employees_data.Status='Employee'\n",
    "employees_data.Status[0] = 'Headquater'\n",
    "within_ten_km = employees_data[employees_data.distance_to_headquater_km <= 10]\n",
    "print('---------------------------------')\n",
    "print(f\"Number of people living within 10 km from the office is {len(within_ten_km)-1}\")\n",
    "# Within_ten_km dataframe includes the headquater itself so to find number of people we have to substract 1 from the length.\n",
    "print('---------------------------------')"
   ]
  },
  {
   "cell_type": "markdown",
   "metadata": {},
   "source": [
    "#### List three employees living in the wealthiest regions"
   ]
  },
  {
   "cell_type": "code",
   "execution_count": 18,
   "metadata": {
    "ExecuteTime": {
     "end_time": "2021-12-14T16:12:21.235360Z",
     "start_time": "2021-12-14T16:12:21.208378Z"
    }
   },
   "outputs": [
    {
     "name": "stdout",
     "output_type": "stream",
     "text": [
      "----------------------------------------\n",
      "The name of three employee living in welthiest region are Carol Guzman , Herbert Palmer, and Preston King.\n",
      "----------------------------------------\n",
      "There information in below:\n",
      "              Name               Street  Postal code      City Country  \\\n",
      "21    Carol Guzman    Lehtisaarentie 8a          340  Helsinki      FI   \n",
      "43  Herbert Palmer  KORKEAVUORENKATU 31          130  Helsinki      FI   \n",
      "77    Preston King  Kruununvuorenkatu 5          160  Helsinki      FI   \n",
      "\n",
      "     Latitude  Longitude  distance_to_headquater_km  Yearly_avg_income  \\\n",
      "21  60.178612  24.853646                          1            63919.0   \n",
      "43  60.164607  24.946212                          7            61933.0   \n",
      "77  60.166647  24.969700                          8            44623.0   \n",
      "\n",
      "      Status  \n",
      "21  Employee  \n",
      "43  Employee  \n",
      "77  Employee  \n"
     ]
    }
   ],
   "source": [
    "# sorting wealthiest region among the employees address\n",
    "wealthiest_region = employees_data.sort_values('Yearly_avg_income', ascending=False)\n",
    "# Thus three employees among all the employees living in wealthiest region is:\n",
    "employees_in_welthiest_region = wealthiest_region.iloc[:3]\n",
    "#Adusting the new columns for the visualization\n",
    "\n",
    "print('----------------------------------------')\n",
    "print(f'The name of three employee living in welthiest region are {employees_in_welthiest_region.Name[21]} , {employees_in_welthiest_region.Name[43]}, and {employees_in_welthiest_region.Name[77]}.')\n",
    "print(\"----------------------------------------\")\n",
    "print('There information in below:')\n",
    "print(employees_in_welthiest_region)\n"
   ]
  },
  {
   "cell_type": "markdown",
   "metadata": {},
   "source": [
    "#### Visualization for the question answer"
   ]
  },
  {
   "cell_type": "code",
   "execution_count": 19,
   "metadata": {
    "ExecuteTime": {
     "end_time": "2021-12-14T16:12:22.310862Z",
     "start_time": "2021-12-14T16:12:21.238369Z"
    }
   },
   "outputs": [
    {
     "data": {
      "text/html": [
       "        <script type=\"text/javascript\">\n",
       "        window.PlotlyConfig = {MathJaxConfig: 'local'};\n",
       "        if (window.MathJax) {MathJax.Hub.Config({SVG: {font: \"STIX-Web\"}});}\n",
       "        if (typeof require !== 'undefined') {\n",
       "        require.undef(\"plotly\");\n",
       "        requirejs.config({\n",
       "            paths: {\n",
       "                'plotly': ['https://cdn.plot.ly/plotly-latest.min']\n",
       "            }\n",
       "        });\n",
       "        require(['plotly'], function(Plotly) {\n",
       "            window._Plotly = Plotly;\n",
       "        });\n",
       "        }\n",
       "        </script>\n",
       "        "
      ]
     },
     "metadata": {},
     "output_type": "display_data"
    },
    {
     "data": {
      "text/html": [
       "        <script type=\"text/javascript\">\n",
       "        window.PlotlyConfig = {MathJaxConfig: 'local'};\n",
       "        if (window.MathJax) {MathJax.Hub.Config({SVG: {font: \"STIX-Web\"}});}\n",
       "        if (typeof require !== 'undefined') {\n",
       "        require.undef(\"plotly\");\n",
       "        requirejs.config({\n",
       "            paths: {\n",
       "                'plotly': ['https://cdn.plot.ly/plotly-latest.min']\n",
       "            }\n",
       "        });\n",
       "        require(['plotly'], function(Plotly) {\n",
       "            window._Plotly = Plotly;\n",
       "        });\n",
       "        }\n",
       "        </script>\n",
       "        "
      ]
     },
     "metadata": {},
     "output_type": "display_data"
    }
   ],
   "source": [
    "from matplotlib import pyplot as plt\n",
    "import plotly.graph_objects as go\n",
    "import chart_studio.plotly as py\n",
    "import cufflinks as cf\n",
    "from plotly.offline import iplot, init_notebook_mode\n",
    "import plotly.express as px\n",
    "\n",
    "%matplotlib inline\n",
    "init_notebook_mode(connected=True)\n",
    "cf.go_offline(connected=True)\n",
    "\n",
    "cf.set_config_file(theme=\"pearl\")"
   ]
  },
  {
   "cell_type": "code",
   "execution_count": 20,
   "metadata": {
    "ExecuteTime": {
     "end_time": "2021-12-14T16:12:22.326750Z",
     "start_time": "2021-12-14T16:12:22.314754Z"
    }
   },
   "outputs": [],
   "source": [
    "#Developing function for plotting map.\n",
    "def plot_map(dataframe,color,title):\n",
    "    fig = px.scatter_geo(dataframe, lat='Latitude', lon = 'Longitude',\n",
    "                     color = color, size= 'Yearly_avg_income', \n",
    "                     hover_data =['distance_to_headquater_km'],\n",
    "                     hover_name ='Name', scope='europe', basemap_visible=True, width=800,height=800,\n",
    "                     opacity=0.5,projection='mercator',center = {'lat':60, 'lon':24},\n",
    "                    title=title) \n",
    "    fig.show()"
   ]
  },
  {
   "cell_type": "markdown",
   "metadata": {},
   "source": [
    "#### Dataset Details in the Figure."
   ]
  },
  {
   "cell_type": "code",
   "execution_count": 21,
   "metadata": {
    "ExecuteTime": {
     "end_time": "2021-12-14T16:12:23.502545Z",
     "start_time": "2021-12-14T16:12:22.329750Z"
    }
   },
   "outputs": [
    {
     "data": {
      "application/vnd.plotly.v1+json": {
       "config": {
        "plotlyServerURL": "https://plot.ly"
       },
       "data": [
        {
         "customdata": [
          [
           0
          ]
         ],
         "geo": "geo",
         "hovertemplate": "<b>%{hovertext}</b><br><br>Status=Headquater<br>Yearly_avg_income=%{marker.size}<br>Latitude=%{lat}<br>Longitude=%{lon}<br>distance_to_headquater_km=%{customdata[0]}<extra></extra>",
         "hovertext": [
          "Head quater"
         ],
         "lat": [
          60.1807142
         ],
         "legendgroup": "Headquater",
         "lon": [
          24.8318569
         ],
         "marker": {
          "color": "#636efa",
          "opacity": 0.5,
          "size": [
           13650
          ],
          "sizemode": "area",
          "sizeref": 159.7975,
          "symbol": "circle"
         },
         "mode": "markers",
         "name": "Headquater",
         "showlegend": true,
         "type": "scattergeo"
        },
        {
         "customdata": [
          [
           136
          ],
          [
           152
          ],
          [
           391
          ],
          [
           27
          ],
          [
           325
          ],
          [
           245
          ],
          [
           534
          ],
          [
           236
          ],
          [
           377
          ],
          [
           223
          ],
          [
           290
          ],
          [
           8
          ],
          [
           72
          ],
          [
           9
          ],
          [
           557
          ],
          [
           18
          ],
          [
           536
          ],
          [
           94
          ],
          [
           98
          ],
          [
           156
          ],
          [
           1
          ],
          [
           169
          ],
          [
           5
          ],
          [
           29
          ],
          [
           7
          ],
          [
           17
          ],
          [
           151
          ],
          [
           6
          ],
          [
           366
          ],
          [
           179
          ],
          [
           308
          ],
          [
           80
          ],
          [
           9
          ],
          [
           10
          ],
          [
           13
          ],
          [
           540
          ],
          [
           213
          ],
          [
           21
          ],
          [
           6
          ],
          [
           412
          ],
          [
           100
          ],
          [
           6
          ],
          [
           7
          ],
          [
           145
          ],
          [
           552
          ],
          [
           349
          ],
          [
           275
          ],
          [
           63
          ],
          [
           7
          ],
          [
           2
          ],
          [
           266
          ],
          [
           529
          ],
          [
           8
          ],
          [
           539
          ],
          [
           9
          ],
          [
           86
          ],
          [
           100
          ],
          [
           45
          ],
          [
           17
          ],
          [
           128
          ],
          [
           139
          ],
          [
           7
          ],
          [
           368
          ],
          [
           6
          ],
          [
           9
          ],
          [
           154
          ],
          [
           142
          ],
          [
           9
          ],
          [
           163
          ],
          [
           17
          ],
          [
           20
          ],
          [
           104
          ],
          [
           537
          ],
          [
           11
          ],
          [
           131
          ],
          [
           312
          ],
          [
           8
          ],
          [
           26
          ],
          [
           7
          ],
          [
           305
          ],
          [
           38
          ],
          [
           266
          ],
          [
           172
          ],
          [
           12
          ],
          [
           134
          ],
          [
           151
          ],
          [
           100
          ],
          [
           705
          ],
          [
           158
          ],
          [
           6
          ],
          [
           320
          ],
          [
           160
          ],
          [
           338
          ],
          [
           52
          ],
          [
           6
          ],
          [
           7
          ],
          [
           6
          ],
          [
           157
          ],
          [
           952
          ]
         ],
         "geo": "geo",
         "hovertemplate": "<b>%{hovertext}</b><br><br>Status=Employee<br>Yearly_avg_income=%{marker.size}<br>Latitude=%{lat}<br>Longitude=%{lon}<br>distance_to_headquater_km=%{customdata[0]}<extra></extra>",
         "hovertext": [
          "Abdulahi Lara",
          "Abu Schultz",
          "Aishah Plummer",
          "Aleksandra Riley",
          "Alicja Mccabe",
          "Allison Clarkson",
          "Alyx Callaghan",
          "Amber-Rose Francis",
          "Ameena Piper",
          "Ameera Nava",
          "Amos Whittle",
          "Aneesah Mullen",
          "Anwen Daniel",
          "Asmaa Holder",
          "Ayush Acevedo",
          "Benas Roman",
          "Bernard Dawson",
          "Brenden O'Gallagher",
          "Bret Holman",
          "Brittney Devlin",
          "Carol Guzman",
          "Chantelle Lim",
          "Charles Ayers",
          "Chris Erickson",
          "Christina Garcia",
          "Clarissa Phelps",
          "Colette English",
          "Coral Elliott",
          "Dania Hastings",
          "Denise Mcguire",
          "Derrick Kaye",
          "Edward Hardin",
          "Ella-Rose Pike",
          "Enzo Calvert",
          "Eryn Lane",
          "Esmee Hatfield",
          "Harlan Mcnamara",
          "Harleen Allman",
          "Harvey-Lee Kemp",
          "Hassan Ray",
          "Haydn Macfarlane",
          "Heath Salgado",
          "Herbert Palmer",
          "Humphrey Schneider",
          "Hunter Welsh",
          "Isha Underwood",
          "Jai Welch",
          "Jak Weber",
          "Jarod Thompson",
          "Jasleen Bates",
          "Jaylan Reed",
          "Jemimah Webber",
          "Jolene Gray",
          "Jovan Odom",
          "Katarina Estes",
          "Keanu Oneal",
          "Keiron Joyce",
          "Kevin Lamb",
          "King Reilly",
          "Koa Currie",
          "Kynan Drake",
          "Lacie-Mae Smart",
          "Lennon Blake",
          "Liya Thorpe",
          "Luis Mcdermott",
          "Macie Huffman",
          "Madelaine Henson",
          "Musab Webb",
          "Mylie Povey",
          "Nahla Hawkins",
          "Nathalie Rayner",
          "Noel Hoffman",
          "Pablo Haney",
          "Pascal Summers",
          "Pheobe Cano",
          "Phillippa Bishop",
          "Preston King",
          "Reilly Cunningham",
          "Rivka Doherty",
          "Roy Senior",
          "Ruari O'Brien",
          "Saad Blaese",
          "Sabah Coleman",
          "Saffron Price",
          "Salim Bernal",
          "Sean Mcdougall",
          "Shabaz Forster",
          "Sienna Tang",
          "Syeda Carrillo",
          "Tahmid Adam",
          "Tania Berger",
          "Tobi Barnett",
          "Toby Rennie",
          "Traci Kline",
          "Umaiza French",
          "Una Amin",
          "Zahara Mac",
          "Zakir Watkins",
          "Zayne Stevenson"
         ],
         "lat": [
          60.39393689999999,
          61.475021700000006,
          63.5217598,
          60.402045799999996,
          62.969297700000006,
          61.633316799999996,
          64.9815866,
          62.2526535,
          62.6186363,
          61.492264600000006,
          62.33218829999999,
          60.25180600000001,
          60.8188564,
          60.1680628,
          65.1877286,
          60.266985,
          64.99164549999999,
          61.0127025,
          60.96946429999999,
          61.4599799,
          60.1786116,
          61.68027239999999,
          60.157990399999996,
          60.4028858,
          60.2370959,
          60.307315599999995,
          61.451477600000004,
          60.23224870000001,
          63.1141149,
          60.6179385,
          62.7839407,
          59.97860670000001,
          60.15743739999999,
          60.127565100000005,
          60.28393489999999,
          65.0244426,
          61.0747182,
          60.3712551,
          60.22805940000001,
          63.235225799999995,
          61.059639399999995,
          60.193324,
          60.164606799999994,
          60.4878211,
          65.1232252,
          63.166675899999994,
          62.612004500000005,
          60.7437281,
          60.2211777,
          60.1861865,
          62.2973504,
          64.93372339999999,
          60.1989078,
          65.01588290000001,
          60.1949914,
          60.94712,
          60.7930553,
          60.210764600000005,
          60.242428000000004,
          60.554011100000004,
          61.31127779999999,
          60.241372,
          63.107423700000005,
          60.1914441,
          60.260740399999996,
          61.4941416,
          60.450005299999994,
          60.256322,
          61.532301000000004,
          60.220052700000004,
          60.3238389,
          61.056279599999996,
          64.9988471,
          60.22905359999999,
          61.2023181,
          62.3907029,
          60.166647399999995,
          60.0908461,
          60.2285996,
          62.489957700000005,
          60.524148399999994,
          61.4158548,
          61.598421900000005,
          60.236531400000004,
          60.5251294,
          60.4661696,
          61.072396700000006,
          66.5106995,
          61.50042270000001,
          60.172562199999994,
          63.0550603,
          61.505245499999994,
          62.913059499999996,
          60.3932465,
          60.16979499999999,
          60.17298910000001,
          60.176894299999994,
          61.49373670000001,
          68.66260550000001
         ],
         "legendgroup": "Employee",
         "lon": [
          22.398708499999998,
          23.944436,
          22.530355800000002,
          25.017265100000003,
          23.0046715,
          21.416660399999998,
          25.2677863,
          25.7562595,
          29.763113899999997,
          21.7138856,
          27.9149876,
          24.880692800000002,
          24.6227697,
          24.6784426,
          25.3620106,
          25.100008,
          25.5310738,
          24.4814735,
          25.6378303,
          23.6691086,
          24.8536462,
          24.3746108,
          24.9126423,
          25.107524800000004,
          24.7719897,
          25.0200198,
          23.8315779,
          24.885951000000002,
          21.6822203,
          21.6940225,
          22.854506399999998,
          23.444771499999998,
          24.6696807,
          24.6796284,
          24.9257539,
          25.530173,
          28.2877904,
          24.848872,
          24.8629764,
          29.2573033,
          25.193551,
          24.940324899999997,
          24.9462116,
          22.2663044,
          25.7414784,
          22.820307800000002,
          25.7272367,
          24.7790414,
          24.937147500000002,
          24.7973183,
          27.144632399999995,
          25.3556838,
          24.963253299999998,
          25.4773279,
          24.6737462,
          24.581571,
          23.482360399999997,
          24.011608600000002,
          25.110219600000004,
          27.0286666,
          23.751078500000002,
          24.8439018,
          21.5867276,
          24.946947899999998,
          24.8869819,
          23.9209572,
          22.307669,
          24.806179999999998,
          23.6527868,
          25.1300905,
          25.065577100000002,
          25.5032123,
          25.5956772,
          24.998364199999997,
          26.0363117,
          21.229202100000002,
          24.9697,
          24.394052300000002,
          24.744829,
          21.7260703,
          24.7675285,
          29.0389092,
          23.5594112,
          24.645608399999997,
          22.5013272,
          22.1411783,
          25.0358841,
          25.6635871,
          23.7572061,
          24.947241899999998,
          24.562565799999998,
          23.6988755,
          27.6462119,
          25.6767917,
          24.9419824,
          24.7106264,
          24.724852600000002,
          23.7440921,
          27.5668576
         ],
         "marker": {
          "color": "#EF553B",
          "opacity": 0.5,
          "size": [
           40423,
           26853,
           27588,
           30340,
           24045,
           22272,
           28542,
           21877,
           21378,
           27659,
           26535,
           23733,
           25681,
           31112,
           25359,
           26820,
           20198,
           29782,
           23884,
           28719,
           63919,
           24374,
           29708,
           24279,
           30647,
           26074,
           19131,
           26106,
           28683,
           26786,
           23084,
           26482,
           43507,
           33055,
           37443,
           28037,
           23572,
           30233,
           27228,
           20600,
           23310,
           27130,
           61933,
           21333,
           26296,
           23631,
           24046,
           23711,
           32402,
           41010,
           21204,
           27893,
           24800,
           24648,
           26665,
           29215,
           24285,
           25438,
           24897,
           24207,
           26522,
           27196,
           20823,
           27408,
           31401,
           26259,
           24602,
           25618,
           26089,
           25281,
           22588,
           28802,
           30159,
           23595,
           23709,
           23364,
           44623,
           30885,
           31223,
           21642,
           28515,
           23879,
           28689,
           32012,
           26381,
           24103,
           22989,
           22712,
           25341,
           41681,
           22097,
           28862,
           24057,
           28524,
           41681,
           30085,
           30085,
           27840,
           24184
          ],
          "sizemode": "area",
          "sizeref": 159.7975,
          "symbol": "circle"
         },
         "mode": "markers",
         "name": "Employee",
         "showlegend": true,
         "type": "scattergeo"
        }
       ],
       "layout": {
        "geo": {
         "center": {
          "lat": 60,
          "lon": 24
         },
         "domain": {
          "x": [
           0,
           1
          ],
          "y": [
           0,
           1
          ]
         },
         "projection": {
          "type": "mercator"
         },
         "scope": "europe",
         "visible": true
        },
        "height": 800,
        "legend": {
         "itemsizing": "constant",
         "title": {
          "text": "Status"
         },
         "tracegroupgap": 0
        },
        "template": {
         "data": {
          "bar": [
           {
            "error_x": {
             "color": "#2a3f5f"
            },
            "error_y": {
             "color": "#2a3f5f"
            },
            "marker": {
             "line": {
              "color": "#E5ECF6",
              "width": 0.5
             }
            },
            "type": "bar"
           }
          ],
          "barpolar": [
           {
            "marker": {
             "line": {
              "color": "#E5ECF6",
              "width": 0.5
             }
            },
            "type": "barpolar"
           }
          ],
          "carpet": [
           {
            "aaxis": {
             "endlinecolor": "#2a3f5f",
             "gridcolor": "white",
             "linecolor": "white",
             "minorgridcolor": "white",
             "startlinecolor": "#2a3f5f"
            },
            "baxis": {
             "endlinecolor": "#2a3f5f",
             "gridcolor": "white",
             "linecolor": "white",
             "minorgridcolor": "white",
             "startlinecolor": "#2a3f5f"
            },
            "type": "carpet"
           }
          ],
          "choropleth": [
           {
            "colorbar": {
             "outlinewidth": 0,
             "ticks": ""
            },
            "type": "choropleth"
           }
          ],
          "contour": [
           {
            "colorbar": {
             "outlinewidth": 0,
             "ticks": ""
            },
            "colorscale": [
             [
              0,
              "#0d0887"
             ],
             [
              0.1111111111111111,
              "#46039f"
             ],
             [
              0.2222222222222222,
              "#7201a8"
             ],
             [
              0.3333333333333333,
              "#9c179e"
             ],
             [
              0.4444444444444444,
              "#bd3786"
             ],
             [
              0.5555555555555556,
              "#d8576b"
             ],
             [
              0.6666666666666666,
              "#ed7953"
             ],
             [
              0.7777777777777778,
              "#fb9f3a"
             ],
             [
              0.8888888888888888,
              "#fdca26"
             ],
             [
              1,
              "#f0f921"
             ]
            ],
            "type": "contour"
           }
          ],
          "contourcarpet": [
           {
            "colorbar": {
             "outlinewidth": 0,
             "ticks": ""
            },
            "type": "contourcarpet"
           }
          ],
          "heatmap": [
           {
            "colorbar": {
             "outlinewidth": 0,
             "ticks": ""
            },
            "colorscale": [
             [
              0,
              "#0d0887"
             ],
             [
              0.1111111111111111,
              "#46039f"
             ],
             [
              0.2222222222222222,
              "#7201a8"
             ],
             [
              0.3333333333333333,
              "#9c179e"
             ],
             [
              0.4444444444444444,
              "#bd3786"
             ],
             [
              0.5555555555555556,
              "#d8576b"
             ],
             [
              0.6666666666666666,
              "#ed7953"
             ],
             [
              0.7777777777777778,
              "#fb9f3a"
             ],
             [
              0.8888888888888888,
              "#fdca26"
             ],
             [
              1,
              "#f0f921"
             ]
            ],
            "type": "heatmap"
           }
          ],
          "heatmapgl": [
           {
            "colorbar": {
             "outlinewidth": 0,
             "ticks": ""
            },
            "colorscale": [
             [
              0,
              "#0d0887"
             ],
             [
              0.1111111111111111,
              "#46039f"
             ],
             [
              0.2222222222222222,
              "#7201a8"
             ],
             [
              0.3333333333333333,
              "#9c179e"
             ],
             [
              0.4444444444444444,
              "#bd3786"
             ],
             [
              0.5555555555555556,
              "#d8576b"
             ],
             [
              0.6666666666666666,
              "#ed7953"
             ],
             [
              0.7777777777777778,
              "#fb9f3a"
             ],
             [
              0.8888888888888888,
              "#fdca26"
             ],
             [
              1,
              "#f0f921"
             ]
            ],
            "type": "heatmapgl"
           }
          ],
          "histogram": [
           {
            "marker": {
             "colorbar": {
              "outlinewidth": 0,
              "ticks": ""
             }
            },
            "type": "histogram"
           }
          ],
          "histogram2d": [
           {
            "colorbar": {
             "outlinewidth": 0,
             "ticks": ""
            },
            "colorscale": [
             [
              0,
              "#0d0887"
             ],
             [
              0.1111111111111111,
              "#46039f"
             ],
             [
              0.2222222222222222,
              "#7201a8"
             ],
             [
              0.3333333333333333,
              "#9c179e"
             ],
             [
              0.4444444444444444,
              "#bd3786"
             ],
             [
              0.5555555555555556,
              "#d8576b"
             ],
             [
              0.6666666666666666,
              "#ed7953"
             ],
             [
              0.7777777777777778,
              "#fb9f3a"
             ],
             [
              0.8888888888888888,
              "#fdca26"
             ],
             [
              1,
              "#f0f921"
             ]
            ],
            "type": "histogram2d"
           }
          ],
          "histogram2dcontour": [
           {
            "colorbar": {
             "outlinewidth": 0,
             "ticks": ""
            },
            "colorscale": [
             [
              0,
              "#0d0887"
             ],
             [
              0.1111111111111111,
              "#46039f"
             ],
             [
              0.2222222222222222,
              "#7201a8"
             ],
             [
              0.3333333333333333,
              "#9c179e"
             ],
             [
              0.4444444444444444,
              "#bd3786"
             ],
             [
              0.5555555555555556,
              "#d8576b"
             ],
             [
              0.6666666666666666,
              "#ed7953"
             ],
             [
              0.7777777777777778,
              "#fb9f3a"
             ],
             [
              0.8888888888888888,
              "#fdca26"
             ],
             [
              1,
              "#f0f921"
             ]
            ],
            "type": "histogram2dcontour"
           }
          ],
          "mesh3d": [
           {
            "colorbar": {
             "outlinewidth": 0,
             "ticks": ""
            },
            "type": "mesh3d"
           }
          ],
          "parcoords": [
           {
            "line": {
             "colorbar": {
              "outlinewidth": 0,
              "ticks": ""
             }
            },
            "type": "parcoords"
           }
          ],
          "pie": [
           {
            "automargin": true,
            "type": "pie"
           }
          ],
          "scatter": [
           {
            "marker": {
             "colorbar": {
              "outlinewidth": 0,
              "ticks": ""
             }
            },
            "type": "scatter"
           }
          ],
          "scatter3d": [
           {
            "line": {
             "colorbar": {
              "outlinewidth": 0,
              "ticks": ""
             }
            },
            "marker": {
             "colorbar": {
              "outlinewidth": 0,
              "ticks": ""
             }
            },
            "type": "scatter3d"
           }
          ],
          "scattercarpet": [
           {
            "marker": {
             "colorbar": {
              "outlinewidth": 0,
              "ticks": ""
             }
            },
            "type": "scattercarpet"
           }
          ],
          "scattergeo": [
           {
            "marker": {
             "colorbar": {
              "outlinewidth": 0,
              "ticks": ""
             }
            },
            "type": "scattergeo"
           }
          ],
          "scattergl": [
           {
            "marker": {
             "colorbar": {
              "outlinewidth": 0,
              "ticks": ""
             }
            },
            "type": "scattergl"
           }
          ],
          "scattermapbox": [
           {
            "marker": {
             "colorbar": {
              "outlinewidth": 0,
              "ticks": ""
             }
            },
            "type": "scattermapbox"
           }
          ],
          "scatterpolar": [
           {
            "marker": {
             "colorbar": {
              "outlinewidth": 0,
              "ticks": ""
             }
            },
            "type": "scatterpolar"
           }
          ],
          "scatterpolargl": [
           {
            "marker": {
             "colorbar": {
              "outlinewidth": 0,
              "ticks": ""
             }
            },
            "type": "scatterpolargl"
           }
          ],
          "scatterternary": [
           {
            "marker": {
             "colorbar": {
              "outlinewidth": 0,
              "ticks": ""
             }
            },
            "type": "scatterternary"
           }
          ],
          "surface": [
           {
            "colorbar": {
             "outlinewidth": 0,
             "ticks": ""
            },
            "colorscale": [
             [
              0,
              "#0d0887"
             ],
             [
              0.1111111111111111,
              "#46039f"
             ],
             [
              0.2222222222222222,
              "#7201a8"
             ],
             [
              0.3333333333333333,
              "#9c179e"
             ],
             [
              0.4444444444444444,
              "#bd3786"
             ],
             [
              0.5555555555555556,
              "#d8576b"
             ],
             [
              0.6666666666666666,
              "#ed7953"
             ],
             [
              0.7777777777777778,
              "#fb9f3a"
             ],
             [
              0.8888888888888888,
              "#fdca26"
             ],
             [
              1,
              "#f0f921"
             ]
            ],
            "type": "surface"
           }
          ],
          "table": [
           {
            "cells": {
             "fill": {
              "color": "#EBF0F8"
             },
             "line": {
              "color": "white"
             }
            },
            "header": {
             "fill": {
              "color": "#C8D4E3"
             },
             "line": {
              "color": "white"
             }
            },
            "type": "table"
           }
          ]
         },
         "layout": {
          "annotationdefaults": {
           "arrowcolor": "#2a3f5f",
           "arrowhead": 0,
           "arrowwidth": 1
          },
          "coloraxis": {
           "colorbar": {
            "outlinewidth": 0,
            "ticks": ""
           }
          },
          "colorscale": {
           "diverging": [
            [
             0,
             "#8e0152"
            ],
            [
             0.1,
             "#c51b7d"
            ],
            [
             0.2,
             "#de77ae"
            ],
            [
             0.3,
             "#f1b6da"
            ],
            [
             0.4,
             "#fde0ef"
            ],
            [
             0.5,
             "#f7f7f7"
            ],
            [
             0.6,
             "#e6f5d0"
            ],
            [
             0.7,
             "#b8e186"
            ],
            [
             0.8,
             "#7fbc41"
            ],
            [
             0.9,
             "#4d9221"
            ],
            [
             1,
             "#276419"
            ]
           ],
           "sequential": [
            [
             0,
             "#0d0887"
            ],
            [
             0.1111111111111111,
             "#46039f"
            ],
            [
             0.2222222222222222,
             "#7201a8"
            ],
            [
             0.3333333333333333,
             "#9c179e"
            ],
            [
             0.4444444444444444,
             "#bd3786"
            ],
            [
             0.5555555555555556,
             "#d8576b"
            ],
            [
             0.6666666666666666,
             "#ed7953"
            ],
            [
             0.7777777777777778,
             "#fb9f3a"
            ],
            [
             0.8888888888888888,
             "#fdca26"
            ],
            [
             1,
             "#f0f921"
            ]
           ],
           "sequentialminus": [
            [
             0,
             "#0d0887"
            ],
            [
             0.1111111111111111,
             "#46039f"
            ],
            [
             0.2222222222222222,
             "#7201a8"
            ],
            [
             0.3333333333333333,
             "#9c179e"
            ],
            [
             0.4444444444444444,
             "#bd3786"
            ],
            [
             0.5555555555555556,
             "#d8576b"
            ],
            [
             0.6666666666666666,
             "#ed7953"
            ],
            [
             0.7777777777777778,
             "#fb9f3a"
            ],
            [
             0.8888888888888888,
             "#fdca26"
            ],
            [
             1,
             "#f0f921"
            ]
           ]
          },
          "colorway": [
           "#636efa",
           "#EF553B",
           "#00cc96",
           "#ab63fa",
           "#FFA15A",
           "#19d3f3",
           "#FF6692",
           "#B6E880",
           "#FF97FF",
           "#FECB52"
          ],
          "font": {
           "color": "#2a3f5f"
          },
          "geo": {
           "bgcolor": "white",
           "lakecolor": "white",
           "landcolor": "#E5ECF6",
           "showlakes": true,
           "showland": true,
           "subunitcolor": "white"
          },
          "hoverlabel": {
           "align": "left"
          },
          "hovermode": "closest",
          "mapbox": {
           "style": "light"
          },
          "paper_bgcolor": "white",
          "plot_bgcolor": "#E5ECF6",
          "polar": {
           "angularaxis": {
            "gridcolor": "white",
            "linecolor": "white",
            "ticks": ""
           },
           "bgcolor": "#E5ECF6",
           "radialaxis": {
            "gridcolor": "white",
            "linecolor": "white",
            "ticks": ""
           }
          },
          "scene": {
           "xaxis": {
            "backgroundcolor": "#E5ECF6",
            "gridcolor": "white",
            "gridwidth": 2,
            "linecolor": "white",
            "showbackground": true,
            "ticks": "",
            "zerolinecolor": "white"
           },
           "yaxis": {
            "backgroundcolor": "#E5ECF6",
            "gridcolor": "white",
            "gridwidth": 2,
            "linecolor": "white",
            "showbackground": true,
            "ticks": "",
            "zerolinecolor": "white"
           },
           "zaxis": {
            "backgroundcolor": "#E5ECF6",
            "gridcolor": "white",
            "gridwidth": 2,
            "linecolor": "white",
            "showbackground": true,
            "ticks": "",
            "zerolinecolor": "white"
           }
          },
          "shapedefaults": {
           "line": {
            "color": "#2a3f5f"
           }
          },
          "ternary": {
           "aaxis": {
            "gridcolor": "white",
            "linecolor": "white",
            "ticks": ""
           },
           "baxis": {
            "gridcolor": "white",
            "linecolor": "white",
            "ticks": ""
           },
           "bgcolor": "#E5ECF6",
           "caxis": {
            "gridcolor": "white",
            "linecolor": "white",
            "ticks": ""
           }
          },
          "title": {
           "x": 0.05
          },
          "xaxis": {
           "automargin": true,
           "gridcolor": "white",
           "linecolor": "white",
           "ticks": "",
           "title": {
            "standoff": 15
           },
           "zerolinecolor": "white",
           "zerolinewidth": 2
          },
          "yaxis": {
           "automargin": true,
           "gridcolor": "white",
           "linecolor": "white",
           "ticks": "",
           "title": {
            "standoff": 15
           },
           "zerolinecolor": "white",
           "zerolinewidth": 2
          }
         }
        },
        "title": {
         "text": "Distance and Yearly avg information of Employee"
        },
        "width": 800
       }
      },
      "text/html": [
       "<div>                            <div id=\"d3bd09e5-073a-4a29-8729-f24e55e3505d\" class=\"plotly-graph-div\" style=\"height:800px; width:800px;\"></div>            <script type=\"text/javascript\">                require([\"plotly\"], function(Plotly) {                    window.PLOTLYENV=window.PLOTLYENV || {};                                    if (document.getElementById(\"d3bd09e5-073a-4a29-8729-f24e55e3505d\")) {                    Plotly.newPlot(                        \"d3bd09e5-073a-4a29-8729-f24e55e3505d\",                        [{\"customdata\": [[0]], \"geo\": \"geo\", \"hovertemplate\": \"<b>%{hovertext}</b><br><br>Status=Headquater<br>Yearly_avg_income=%{marker.size}<br>Latitude=%{lat}<br>Longitude=%{lon}<br>distance_to_headquater_km=%{customdata[0]}<extra></extra>\", \"hovertext\": [\"Head quater\"], \"lat\": [60.1807142], \"legendgroup\": \"Headquater\", \"lon\": [24.8318569], \"marker\": {\"color\": \"#636efa\", \"opacity\": 0.5, \"size\": [13650.0], \"sizemode\": \"area\", \"sizeref\": 159.7975, \"symbol\": \"circle\"}, \"mode\": \"markers\", \"name\": \"Headquater\", \"showlegend\": true, \"type\": \"scattergeo\"}, {\"customdata\": [[136], [152], [391], [27], [325], [245], [534], [236], [377], [223], [290], [8], [72], [9], [557], [18], [536], [94], [98], [156], [1], [169], [5], [29], [7], [17], [151], [6], [366], [179], [308], [80], [9], [10], [13], [540], [213], [21], [6], [412], [100], [6], [7], [145], [552], [349], [275], [63], [7], [2], [266], [529], [8], [539], [9], [86], [100], [45], [17], [128], [139], [7], [368], [6], [9], [154], [142], [9], [163], [17], [20], [104], [537], [11], [131], [312], [8], [26], [7], [305], [38], [266], [172], [12], [134], [151], [100], [705], [158], [6], [320], [160], [338], [52], [6], [7], [6], [157], [952]], \"geo\": \"geo\", \"hovertemplate\": \"<b>%{hovertext}</b><br><br>Status=Employee<br>Yearly_avg_income=%{marker.size}<br>Latitude=%{lat}<br>Longitude=%{lon}<br>distance_to_headquater_km=%{customdata[0]}<extra></extra>\", \"hovertext\": [\"Abdulahi Lara\", \"Abu Schultz\", \"Aishah Plummer\", \"Aleksandra Riley\", \"Alicja Mccabe\", \"Allison Clarkson\", \"Alyx Callaghan\", \"Amber-Rose Francis\", \"Ameena Piper\", \"Ameera Nava\", \"Amos Whittle\", \"Aneesah Mullen\", \"Anwen Daniel\", \"Asmaa Holder\", \"Ayush Acevedo\", \"Benas Roman\", \"Bernard Dawson\", \"Brenden O'Gallagher\", \"Bret Holman\", \"Brittney Devlin\", \"Carol Guzman\", \"Chantelle Lim\", \"Charles Ayers\", \"Chris Erickson\", \"Christina Garcia\", \"Clarissa Phelps\", \"Colette English\", \"Coral Elliott\", \"Dania Hastings\", \"Denise Mcguire\", \"Derrick Kaye\", \"Edward Hardin\", \"Ella-Rose Pike\", \"Enzo Calvert\", \"Eryn Lane\", \"Esmee Hatfield\", \"Harlan Mcnamara\", \"Harleen Allman\", \"Harvey-Lee Kemp\", \"Hassan Ray\", \"Haydn Macfarlane\", \"Heath Salgado\", \"Herbert Palmer\", \"Humphrey Schneider\", \"Hunter Welsh\", \"Isha Underwood\", \"Jai Welch\", \"Jak Weber\", \"Jarod Thompson\", \"Jasleen Bates\", \"Jaylan Reed\", \"Jemimah Webber\", \"Jolene Gray\", \"Jovan Odom\", \"Katarina Estes\", \"Keanu Oneal\", \"Keiron Joyce\", \"Kevin Lamb\", \"King Reilly\", \"Koa Currie\", \"Kynan Drake\", \"Lacie-Mae Smart\", \"Lennon Blake\", \"Liya Thorpe\", \"Luis Mcdermott\", \"Macie Huffman\", \"Madelaine Henson\", \"Musab Webb\", \"Mylie Povey\", \"Nahla Hawkins\", \"Nathalie Rayner\", \"Noel Hoffman\", \"Pablo Haney\", \"Pascal Summers\", \"Pheobe Cano\", \"Phillippa Bishop\", \"Preston King\", \"Reilly Cunningham\", \"Rivka Doherty\", \"Roy Senior\", \"Ruari O'Brien\", \"Saad Blaese\", \"Sabah Coleman\", \"Saffron Price\", \"Salim Bernal\", \"Sean Mcdougall\", \"Shabaz Forster\", \"Sienna Tang\", \"Syeda Carrillo\", \"Tahmid Adam\", \"Tania Berger\", \"Tobi Barnett\", \"Toby Rennie\", \"Traci Kline\", \"Umaiza French\", \"Una Amin\", \"Zahara Mac\", \"Zakir Watkins\", \"Zayne Stevenson\"], \"lat\": [60.39393689999999, 61.475021700000006, 63.5217598, 60.402045799999996, 62.969297700000006, 61.633316799999996, 64.9815866, 62.2526535, 62.6186363, 61.492264600000006, 62.33218829999999, 60.25180600000001, 60.8188564, 60.1680628, 65.1877286, 60.266985, 64.99164549999999, 61.0127025, 60.96946429999999, 61.4599799, 60.1786116, 61.68027239999999, 60.157990399999996, 60.4028858, 60.2370959, 60.307315599999995, 61.451477600000004, 60.23224870000001, 63.1141149, 60.6179385, 62.7839407, 59.97860670000001, 60.15743739999999, 60.127565100000005, 60.28393489999999, 65.0244426, 61.0747182, 60.3712551, 60.22805940000001, 63.235225799999995, 61.059639399999995, 60.193324, 60.164606799999994, 60.4878211, 65.1232252, 63.166675899999994, 62.612004500000005, 60.7437281, 60.2211777, 60.1861865, 62.2973504, 64.93372339999999, 60.1989078, 65.01588290000001, 60.1949914, 60.94712, 60.7930553, 60.210764600000005, 60.242428000000004, 60.554011100000004, 61.31127779999999, 60.241372, 63.107423700000005, 60.1914441, 60.260740399999996, 61.4941416, 60.450005299999994, 60.256322, 61.532301000000004, 60.220052700000004, 60.3238389, 61.056279599999996, 64.9988471, 60.22905359999999, 61.2023181, 62.3907029, 60.166647399999995, 60.0908461, 60.2285996, 62.489957700000005, 60.524148399999994, 61.4158548, 61.598421900000005, 60.236531400000004, 60.5251294, 60.4661696, 61.072396700000006, 66.5106995, 61.50042270000001, 60.172562199999994, 63.0550603, 61.505245499999994, 62.913059499999996, 60.3932465, 60.16979499999999, 60.17298910000001, 60.176894299999994, 61.49373670000001, 68.66260550000001], \"legendgroup\": \"Employee\", \"lon\": [22.398708499999998, 23.944436, 22.530355800000002, 25.017265100000003, 23.0046715, 21.416660399999998, 25.2677863, 25.7562595, 29.763113899999997, 21.7138856, 27.9149876, 24.880692800000002, 24.6227697, 24.6784426, 25.3620106, 25.100008, 25.5310738, 24.4814735, 25.6378303, 23.6691086, 24.8536462, 24.3746108, 24.9126423, 25.107524800000004, 24.7719897, 25.0200198, 23.8315779, 24.885951000000002, 21.6822203, 21.6940225, 22.854506399999998, 23.444771499999998, 24.6696807, 24.6796284, 24.9257539, 25.530173, 28.2877904, 24.848872, 24.8629764, 29.2573033, 25.193551, 24.940324899999997, 24.9462116, 22.2663044, 25.7414784, 22.820307800000002, 25.7272367, 24.7790414, 24.937147500000002, 24.7973183, 27.144632399999995, 25.3556838, 24.963253299999998, 25.4773279, 24.6737462, 24.581571, 23.482360399999997, 24.011608600000002, 25.110219600000004, 27.0286666, 23.751078500000002, 24.8439018, 21.5867276, 24.946947899999998, 24.8869819, 23.9209572, 22.307669, 24.806179999999998, 23.6527868, 25.1300905, 25.065577100000002, 25.5032123, 25.5956772, 24.998364199999997, 26.0363117, 21.229202100000002, 24.9697, 24.394052300000002, 24.744829, 21.7260703, 24.7675285, 29.0389092, 23.5594112, 24.645608399999997, 22.5013272, 22.1411783, 25.0358841, 25.6635871, 23.7572061, 24.947241899999998, 24.562565799999998, 23.6988755, 27.6462119, 25.6767917, 24.9419824, 24.7106264, 24.724852600000002, 23.7440921, 27.5668576], \"marker\": {\"color\": \"#EF553B\", \"opacity\": 0.5, \"size\": [40423.0, 26853.0, 27588.0, 30340.0, 24045.0, 22272.0, 28542.0, 21877.0, 21378.0, 27659.0, 26535.0, 23733.0, 25681.0, 31112.0, 25359.0, 26820.0, 20198.0, 29782.0, 23884.0, 28719.0, 63919.0, 24374.0, 29708.0, 24279.0, 30647.0, 26074.0, 19131.0, 26106.0, 28683.0, 26786.0, 23084.0, 26482.0, 43507.0, 33055.0, 37443.0, 28037.0, 23572.0, 30233.0, 27228.0, 20600.0, 23310.0, 27130.0, 61933.0, 21333.0, 26296.0, 23631.0, 24046.0, 23711.0, 32402.0, 41010.0, 21204.0, 27893.0, 24800.0, 24648.0, 26665.0, 29215.0, 24285.0, 25438.0, 24897.0, 24207.0, 26522.0, 27196.0, 20823.0, 27408.0, 31401.0, 26259.0, 24602.0, 25618.0, 26089.0, 25281.0, 22588.0, 28802.0, 30159.0, 23595.0, 23709.0, 23364.0, 44623.0, 30885.0, 31223.0, 21642.0, 28515.0, 23879.0, 28689.0, 32012.0, 26381.0, 24103.0, 22989.0, 22712.0, 25341.0, 41681.0, 22097.0, 28862.0, 24057.0, 28524.0, 41681.0, 30085.0, 30085.0, 27840.0, 24184.0], \"sizemode\": \"area\", \"sizeref\": 159.7975, \"symbol\": \"circle\"}, \"mode\": \"markers\", \"name\": \"Employee\", \"showlegend\": true, \"type\": \"scattergeo\"}],                        {\"geo\": {\"center\": {\"lat\": 60, \"lon\": 24}, \"domain\": {\"x\": [0.0, 1.0], \"y\": [0.0, 1.0]}, \"projection\": {\"type\": \"mercator\"}, \"scope\": \"europe\", \"visible\": true}, \"height\": 800, \"legend\": {\"itemsizing\": \"constant\", \"title\": {\"text\": \"Status\"}, \"tracegroupgap\": 0}, \"template\": {\"data\": {\"bar\": [{\"error_x\": {\"color\": \"#2a3f5f\"}, \"error_y\": {\"color\": \"#2a3f5f\"}, \"marker\": {\"line\": {\"color\": \"#E5ECF6\", \"width\": 0.5}}, \"type\": \"bar\"}], \"barpolar\": [{\"marker\": {\"line\": {\"color\": \"#E5ECF6\", \"width\": 0.5}}, \"type\": \"barpolar\"}], \"carpet\": [{\"aaxis\": {\"endlinecolor\": \"#2a3f5f\", \"gridcolor\": \"white\", \"linecolor\": \"white\", \"minorgridcolor\": \"white\", \"startlinecolor\": \"#2a3f5f\"}, \"baxis\": {\"endlinecolor\": \"#2a3f5f\", \"gridcolor\": \"white\", \"linecolor\": \"white\", \"minorgridcolor\": \"white\", \"startlinecolor\": \"#2a3f5f\"}, \"type\": \"carpet\"}], \"choropleth\": [{\"colorbar\": {\"outlinewidth\": 0, \"ticks\": \"\"}, \"type\": \"choropleth\"}], \"contour\": [{\"colorbar\": {\"outlinewidth\": 0, \"ticks\": \"\"}, \"colorscale\": [[0.0, \"#0d0887\"], [0.1111111111111111, \"#46039f\"], [0.2222222222222222, \"#7201a8\"], [0.3333333333333333, \"#9c179e\"], [0.4444444444444444, \"#bd3786\"], [0.5555555555555556, \"#d8576b\"], [0.6666666666666666, \"#ed7953\"], [0.7777777777777778, \"#fb9f3a\"], [0.8888888888888888, \"#fdca26\"], [1.0, \"#f0f921\"]], \"type\": \"contour\"}], \"contourcarpet\": [{\"colorbar\": {\"outlinewidth\": 0, \"ticks\": \"\"}, \"type\": \"contourcarpet\"}], \"heatmap\": [{\"colorbar\": {\"outlinewidth\": 0, \"ticks\": \"\"}, \"colorscale\": [[0.0, \"#0d0887\"], [0.1111111111111111, \"#46039f\"], [0.2222222222222222, \"#7201a8\"], [0.3333333333333333, \"#9c179e\"], [0.4444444444444444, \"#bd3786\"], [0.5555555555555556, \"#d8576b\"], [0.6666666666666666, \"#ed7953\"], [0.7777777777777778, \"#fb9f3a\"], [0.8888888888888888, \"#fdca26\"], [1.0, \"#f0f921\"]], \"type\": \"heatmap\"}], \"heatmapgl\": [{\"colorbar\": {\"outlinewidth\": 0, \"ticks\": \"\"}, \"colorscale\": [[0.0, \"#0d0887\"], [0.1111111111111111, \"#46039f\"], [0.2222222222222222, \"#7201a8\"], [0.3333333333333333, \"#9c179e\"], [0.4444444444444444, \"#bd3786\"], [0.5555555555555556, \"#d8576b\"], [0.6666666666666666, \"#ed7953\"], [0.7777777777777778, \"#fb9f3a\"], [0.8888888888888888, \"#fdca26\"], [1.0, \"#f0f921\"]], \"type\": \"heatmapgl\"}], \"histogram\": [{\"marker\": {\"colorbar\": {\"outlinewidth\": 0, \"ticks\": \"\"}}, \"type\": \"histogram\"}], \"histogram2d\": [{\"colorbar\": {\"outlinewidth\": 0, \"ticks\": \"\"}, \"colorscale\": [[0.0, \"#0d0887\"], [0.1111111111111111, \"#46039f\"], [0.2222222222222222, \"#7201a8\"], [0.3333333333333333, \"#9c179e\"], [0.4444444444444444, \"#bd3786\"], [0.5555555555555556, \"#d8576b\"], [0.6666666666666666, \"#ed7953\"], [0.7777777777777778, \"#fb9f3a\"], [0.8888888888888888, \"#fdca26\"], [1.0, \"#f0f921\"]], \"type\": \"histogram2d\"}], \"histogram2dcontour\": [{\"colorbar\": {\"outlinewidth\": 0, \"ticks\": \"\"}, \"colorscale\": [[0.0, \"#0d0887\"], [0.1111111111111111, \"#46039f\"], [0.2222222222222222, \"#7201a8\"], [0.3333333333333333, \"#9c179e\"], [0.4444444444444444, \"#bd3786\"], [0.5555555555555556, \"#d8576b\"], [0.6666666666666666, \"#ed7953\"], [0.7777777777777778, \"#fb9f3a\"], [0.8888888888888888, \"#fdca26\"], [1.0, \"#f0f921\"]], \"type\": \"histogram2dcontour\"}], \"mesh3d\": [{\"colorbar\": {\"outlinewidth\": 0, \"ticks\": \"\"}, \"type\": \"mesh3d\"}], \"parcoords\": [{\"line\": {\"colorbar\": {\"outlinewidth\": 0, \"ticks\": \"\"}}, \"type\": \"parcoords\"}], \"pie\": [{\"automargin\": true, \"type\": \"pie\"}], \"scatter\": [{\"marker\": {\"colorbar\": {\"outlinewidth\": 0, \"ticks\": \"\"}}, \"type\": \"scatter\"}], \"scatter3d\": [{\"line\": {\"colorbar\": {\"outlinewidth\": 0, \"ticks\": \"\"}}, \"marker\": {\"colorbar\": {\"outlinewidth\": 0, \"ticks\": \"\"}}, \"type\": \"scatter3d\"}], \"scattercarpet\": [{\"marker\": {\"colorbar\": {\"outlinewidth\": 0, \"ticks\": \"\"}}, \"type\": \"scattercarpet\"}], \"scattergeo\": [{\"marker\": {\"colorbar\": {\"outlinewidth\": 0, \"ticks\": \"\"}}, \"type\": \"scattergeo\"}], \"scattergl\": [{\"marker\": {\"colorbar\": {\"outlinewidth\": 0, \"ticks\": \"\"}}, \"type\": \"scattergl\"}], \"scattermapbox\": [{\"marker\": {\"colorbar\": {\"outlinewidth\": 0, \"ticks\": \"\"}}, \"type\": \"scattermapbox\"}], \"scatterpolar\": [{\"marker\": {\"colorbar\": {\"outlinewidth\": 0, \"ticks\": \"\"}}, \"type\": \"scatterpolar\"}], \"scatterpolargl\": [{\"marker\": {\"colorbar\": {\"outlinewidth\": 0, \"ticks\": \"\"}}, \"type\": \"scatterpolargl\"}], \"scatterternary\": [{\"marker\": {\"colorbar\": {\"outlinewidth\": 0, \"ticks\": \"\"}}, \"type\": \"scatterternary\"}], \"surface\": [{\"colorbar\": {\"outlinewidth\": 0, \"ticks\": \"\"}, \"colorscale\": [[0.0, \"#0d0887\"], [0.1111111111111111, \"#46039f\"], [0.2222222222222222, \"#7201a8\"], [0.3333333333333333, \"#9c179e\"], [0.4444444444444444, \"#bd3786\"], [0.5555555555555556, \"#d8576b\"], [0.6666666666666666, \"#ed7953\"], [0.7777777777777778, \"#fb9f3a\"], [0.8888888888888888, \"#fdca26\"], [1.0, \"#f0f921\"]], \"type\": \"surface\"}], \"table\": [{\"cells\": {\"fill\": {\"color\": \"#EBF0F8\"}, \"line\": {\"color\": \"white\"}}, \"header\": {\"fill\": {\"color\": \"#C8D4E3\"}, \"line\": {\"color\": \"white\"}}, \"type\": \"table\"}]}, \"layout\": {\"annotationdefaults\": {\"arrowcolor\": \"#2a3f5f\", \"arrowhead\": 0, \"arrowwidth\": 1}, \"coloraxis\": {\"colorbar\": {\"outlinewidth\": 0, \"ticks\": \"\"}}, \"colorscale\": {\"diverging\": [[0, \"#8e0152\"], [0.1, \"#c51b7d\"], [0.2, \"#de77ae\"], [0.3, \"#f1b6da\"], [0.4, \"#fde0ef\"], [0.5, \"#f7f7f7\"], [0.6, \"#e6f5d0\"], [0.7, \"#b8e186\"], [0.8, \"#7fbc41\"], [0.9, \"#4d9221\"], [1, \"#276419\"]], \"sequential\": [[0.0, \"#0d0887\"], [0.1111111111111111, \"#46039f\"], [0.2222222222222222, \"#7201a8\"], [0.3333333333333333, \"#9c179e\"], [0.4444444444444444, \"#bd3786\"], [0.5555555555555556, \"#d8576b\"], [0.6666666666666666, \"#ed7953\"], [0.7777777777777778, \"#fb9f3a\"], [0.8888888888888888, \"#fdca26\"], [1.0, \"#f0f921\"]], \"sequentialminus\": [[0.0, \"#0d0887\"], [0.1111111111111111, \"#46039f\"], [0.2222222222222222, \"#7201a8\"], [0.3333333333333333, \"#9c179e\"], [0.4444444444444444, \"#bd3786\"], [0.5555555555555556, \"#d8576b\"], [0.6666666666666666, \"#ed7953\"], [0.7777777777777778, \"#fb9f3a\"], [0.8888888888888888, \"#fdca26\"], [1.0, \"#f0f921\"]]}, \"colorway\": [\"#636efa\", \"#EF553B\", \"#00cc96\", \"#ab63fa\", \"#FFA15A\", \"#19d3f3\", \"#FF6692\", \"#B6E880\", \"#FF97FF\", \"#FECB52\"], \"font\": {\"color\": \"#2a3f5f\"}, \"geo\": {\"bgcolor\": \"white\", \"lakecolor\": \"white\", \"landcolor\": \"#E5ECF6\", \"showlakes\": true, \"showland\": true, \"subunitcolor\": \"white\"}, \"hoverlabel\": {\"align\": \"left\"}, \"hovermode\": \"closest\", \"mapbox\": {\"style\": \"light\"}, \"paper_bgcolor\": \"white\", \"plot_bgcolor\": \"#E5ECF6\", \"polar\": {\"angularaxis\": {\"gridcolor\": \"white\", \"linecolor\": \"white\", \"ticks\": \"\"}, \"bgcolor\": \"#E5ECF6\", \"radialaxis\": {\"gridcolor\": \"white\", \"linecolor\": \"white\", \"ticks\": \"\"}}, \"scene\": {\"xaxis\": {\"backgroundcolor\": \"#E5ECF6\", \"gridcolor\": \"white\", \"gridwidth\": 2, \"linecolor\": \"white\", \"showbackground\": true, \"ticks\": \"\", \"zerolinecolor\": \"white\"}, \"yaxis\": {\"backgroundcolor\": \"#E5ECF6\", \"gridcolor\": \"white\", \"gridwidth\": 2, \"linecolor\": \"white\", \"showbackground\": true, \"ticks\": \"\", \"zerolinecolor\": \"white\"}, \"zaxis\": {\"backgroundcolor\": \"#E5ECF6\", \"gridcolor\": \"white\", \"gridwidth\": 2, \"linecolor\": \"white\", \"showbackground\": true, \"ticks\": \"\", \"zerolinecolor\": \"white\"}}, \"shapedefaults\": {\"line\": {\"color\": \"#2a3f5f\"}}, \"ternary\": {\"aaxis\": {\"gridcolor\": \"white\", \"linecolor\": \"white\", \"ticks\": \"\"}, \"baxis\": {\"gridcolor\": \"white\", \"linecolor\": \"white\", \"ticks\": \"\"}, \"bgcolor\": \"#E5ECF6\", \"caxis\": {\"gridcolor\": \"white\", \"linecolor\": \"white\", \"ticks\": \"\"}}, \"title\": {\"x\": 0.05}, \"xaxis\": {\"automargin\": true, \"gridcolor\": \"white\", \"linecolor\": \"white\", \"ticks\": \"\", \"title\": {\"standoff\": 15}, \"zerolinecolor\": \"white\", \"zerolinewidth\": 2}, \"yaxis\": {\"automargin\": true, \"gridcolor\": \"white\", \"linecolor\": \"white\", \"ticks\": \"\", \"title\": {\"standoff\": 15}, \"zerolinecolor\": \"white\", \"zerolinewidth\": 2}}}, \"title\": {\"text\": \"Distance and Yearly avg information of Employee\"}, \"width\": 800},                        {\"responsive\": true}                    ).then(function(){\n",
       "                            \n",
       "var gd = document.getElementById('d3bd09e5-073a-4a29-8729-f24e55e3505d');\n",
       "var x = new MutationObserver(function (mutations, observer) {{\n",
       "        var display = window.getComputedStyle(gd).display;\n",
       "        if (!display || display === 'none') {{\n",
       "            console.log([gd, 'removed!']);\n",
       "            Plotly.purge(gd);\n",
       "            observer.disconnect();\n",
       "        }}\n",
       "}});\n",
       "\n",
       "// Listen for the removal of the full notebook cells\n",
       "var notebookContainer = gd.closest('#notebook-container');\n",
       "if (notebookContainer) {{\n",
       "    x.observe(notebookContainer, {childList: true});\n",
       "}}\n",
       "\n",
       "// Listen for the clearing of the current output cell\n",
       "var outputEl = gd.closest('.output');\n",
       "if (outputEl) {{\n",
       "    x.observe(outputEl, {childList: true});\n",
       "}}\n",
       "\n",
       "                        })                };                });            </script>        </div>"
      ]
     },
     "metadata": {},
     "output_type": "display_data"
    }
   ],
   "source": [
    "plot_map(employees_data, 'Status', 'Distance and Yearly avg information of Employee')"
   ]
  },
  {
   "cell_type": "markdown",
   "metadata": {},
   "source": [
    "#### Nearest Employee from headquater"
   ]
  },
  {
   "cell_type": "code",
   "execution_count": 22,
   "metadata": {
    "ExecuteTime": {
     "end_time": "2021-12-14T16:12:23.627878Z",
     "start_time": "2021-12-14T16:12:23.505552Z"
    }
   },
   "outputs": [
    {
     "data": {
      "application/vnd.plotly.v1+json": {
       "config": {
        "plotlyServerURL": "https://plot.ly"
       },
       "data": [
        {
         "customdata": [
          [
           0
          ]
         ],
         "geo": "geo",
         "hovertemplate": "<b>%{hovertext}</b><br><br>Name=Head quater<br>Yearly_avg_income=%{marker.size}<br>Latitude=%{lat}<br>Longitude=%{lon}<br>distance_to_headquater_km=%{customdata[0]}<extra></extra>",
         "hovertext": [
          "Head quater"
         ],
         "lat": [
          60.1807142
         ],
         "legendgroup": "Head quater",
         "lon": [
          24.8318569
         ],
         "marker": {
          "color": "#636efa",
          "opacity": 0.5,
          "size": [
           13650
          ],
          "sizemode": "area",
          "sizeref": 159.7975,
          "symbol": "circle"
         },
         "mode": "markers",
         "name": "Head quater",
         "showlegend": true,
         "type": "scattergeo"
        },
        {
         "customdata": [
          [
           1
          ]
         ],
         "geo": "geo",
         "hovertemplate": "<b>%{hovertext}</b><br><br>Name=Carol Guzman<br>Yearly_avg_income=%{marker.size}<br>Latitude=%{lat}<br>Longitude=%{lon}<br>distance_to_headquater_km=%{customdata[0]}<extra></extra>",
         "hovertext": [
          "Carol Guzman"
         ],
         "lat": [
          60.1786116
         ],
         "legendgroup": "Carol Guzman",
         "lon": [
          24.8536462
         ],
         "marker": {
          "color": "#EF553B",
          "opacity": 0.5,
          "size": [
           63919
          ],
          "sizemode": "area",
          "sizeref": 159.7975,
          "symbol": "circle"
         },
         "mode": "markers",
         "name": "Carol Guzman",
         "showlegend": true,
         "type": "scattergeo"
        }
       ],
       "layout": {
        "geo": {
         "center": {
          "lat": 60,
          "lon": 24
         },
         "domain": {
          "x": [
           0,
           1
          ],
          "y": [
           0,
           1
          ]
         },
         "projection": {
          "type": "mercator"
         },
         "scope": "europe",
         "visible": true
        },
        "height": 800,
        "legend": {
         "itemsizing": "constant",
         "title": {
          "text": "Name"
         },
         "tracegroupgap": 0
        },
        "template": {
         "data": {
          "bar": [
           {
            "error_x": {
             "color": "#2a3f5f"
            },
            "error_y": {
             "color": "#2a3f5f"
            },
            "marker": {
             "line": {
              "color": "#E5ECF6",
              "width": 0.5
             }
            },
            "type": "bar"
           }
          ],
          "barpolar": [
           {
            "marker": {
             "line": {
              "color": "#E5ECF6",
              "width": 0.5
             }
            },
            "type": "barpolar"
           }
          ],
          "carpet": [
           {
            "aaxis": {
             "endlinecolor": "#2a3f5f",
             "gridcolor": "white",
             "linecolor": "white",
             "minorgridcolor": "white",
             "startlinecolor": "#2a3f5f"
            },
            "baxis": {
             "endlinecolor": "#2a3f5f",
             "gridcolor": "white",
             "linecolor": "white",
             "minorgridcolor": "white",
             "startlinecolor": "#2a3f5f"
            },
            "type": "carpet"
           }
          ],
          "choropleth": [
           {
            "colorbar": {
             "outlinewidth": 0,
             "ticks": ""
            },
            "type": "choropleth"
           }
          ],
          "contour": [
           {
            "colorbar": {
             "outlinewidth": 0,
             "ticks": ""
            },
            "colorscale": [
             [
              0,
              "#0d0887"
             ],
             [
              0.1111111111111111,
              "#46039f"
             ],
             [
              0.2222222222222222,
              "#7201a8"
             ],
             [
              0.3333333333333333,
              "#9c179e"
             ],
             [
              0.4444444444444444,
              "#bd3786"
             ],
             [
              0.5555555555555556,
              "#d8576b"
             ],
             [
              0.6666666666666666,
              "#ed7953"
             ],
             [
              0.7777777777777778,
              "#fb9f3a"
             ],
             [
              0.8888888888888888,
              "#fdca26"
             ],
             [
              1,
              "#f0f921"
             ]
            ],
            "type": "contour"
           }
          ],
          "contourcarpet": [
           {
            "colorbar": {
             "outlinewidth": 0,
             "ticks": ""
            },
            "type": "contourcarpet"
           }
          ],
          "heatmap": [
           {
            "colorbar": {
             "outlinewidth": 0,
             "ticks": ""
            },
            "colorscale": [
             [
              0,
              "#0d0887"
             ],
             [
              0.1111111111111111,
              "#46039f"
             ],
             [
              0.2222222222222222,
              "#7201a8"
             ],
             [
              0.3333333333333333,
              "#9c179e"
             ],
             [
              0.4444444444444444,
              "#bd3786"
             ],
             [
              0.5555555555555556,
              "#d8576b"
             ],
             [
              0.6666666666666666,
              "#ed7953"
             ],
             [
              0.7777777777777778,
              "#fb9f3a"
             ],
             [
              0.8888888888888888,
              "#fdca26"
             ],
             [
              1,
              "#f0f921"
             ]
            ],
            "type": "heatmap"
           }
          ],
          "heatmapgl": [
           {
            "colorbar": {
             "outlinewidth": 0,
             "ticks": ""
            },
            "colorscale": [
             [
              0,
              "#0d0887"
             ],
             [
              0.1111111111111111,
              "#46039f"
             ],
             [
              0.2222222222222222,
              "#7201a8"
             ],
             [
              0.3333333333333333,
              "#9c179e"
             ],
             [
              0.4444444444444444,
              "#bd3786"
             ],
             [
              0.5555555555555556,
              "#d8576b"
             ],
             [
              0.6666666666666666,
              "#ed7953"
             ],
             [
              0.7777777777777778,
              "#fb9f3a"
             ],
             [
              0.8888888888888888,
              "#fdca26"
             ],
             [
              1,
              "#f0f921"
             ]
            ],
            "type": "heatmapgl"
           }
          ],
          "histogram": [
           {
            "marker": {
             "colorbar": {
              "outlinewidth": 0,
              "ticks": ""
             }
            },
            "type": "histogram"
           }
          ],
          "histogram2d": [
           {
            "colorbar": {
             "outlinewidth": 0,
             "ticks": ""
            },
            "colorscale": [
             [
              0,
              "#0d0887"
             ],
             [
              0.1111111111111111,
              "#46039f"
             ],
             [
              0.2222222222222222,
              "#7201a8"
             ],
             [
              0.3333333333333333,
              "#9c179e"
             ],
             [
              0.4444444444444444,
              "#bd3786"
             ],
             [
              0.5555555555555556,
              "#d8576b"
             ],
             [
              0.6666666666666666,
              "#ed7953"
             ],
             [
              0.7777777777777778,
              "#fb9f3a"
             ],
             [
              0.8888888888888888,
              "#fdca26"
             ],
             [
              1,
              "#f0f921"
             ]
            ],
            "type": "histogram2d"
           }
          ],
          "histogram2dcontour": [
           {
            "colorbar": {
             "outlinewidth": 0,
             "ticks": ""
            },
            "colorscale": [
             [
              0,
              "#0d0887"
             ],
             [
              0.1111111111111111,
              "#46039f"
             ],
             [
              0.2222222222222222,
              "#7201a8"
             ],
             [
              0.3333333333333333,
              "#9c179e"
             ],
             [
              0.4444444444444444,
              "#bd3786"
             ],
             [
              0.5555555555555556,
              "#d8576b"
             ],
             [
              0.6666666666666666,
              "#ed7953"
             ],
             [
              0.7777777777777778,
              "#fb9f3a"
             ],
             [
              0.8888888888888888,
              "#fdca26"
             ],
             [
              1,
              "#f0f921"
             ]
            ],
            "type": "histogram2dcontour"
           }
          ],
          "mesh3d": [
           {
            "colorbar": {
             "outlinewidth": 0,
             "ticks": ""
            },
            "type": "mesh3d"
           }
          ],
          "parcoords": [
           {
            "line": {
             "colorbar": {
              "outlinewidth": 0,
              "ticks": ""
             }
            },
            "type": "parcoords"
           }
          ],
          "pie": [
           {
            "automargin": true,
            "type": "pie"
           }
          ],
          "scatter": [
           {
            "marker": {
             "colorbar": {
              "outlinewidth": 0,
              "ticks": ""
             }
            },
            "type": "scatter"
           }
          ],
          "scatter3d": [
           {
            "line": {
             "colorbar": {
              "outlinewidth": 0,
              "ticks": ""
             }
            },
            "marker": {
             "colorbar": {
              "outlinewidth": 0,
              "ticks": ""
             }
            },
            "type": "scatter3d"
           }
          ],
          "scattercarpet": [
           {
            "marker": {
             "colorbar": {
              "outlinewidth": 0,
              "ticks": ""
             }
            },
            "type": "scattercarpet"
           }
          ],
          "scattergeo": [
           {
            "marker": {
             "colorbar": {
              "outlinewidth": 0,
              "ticks": ""
             }
            },
            "type": "scattergeo"
           }
          ],
          "scattergl": [
           {
            "marker": {
             "colorbar": {
              "outlinewidth": 0,
              "ticks": ""
             }
            },
            "type": "scattergl"
           }
          ],
          "scattermapbox": [
           {
            "marker": {
             "colorbar": {
              "outlinewidth": 0,
              "ticks": ""
             }
            },
            "type": "scattermapbox"
           }
          ],
          "scatterpolar": [
           {
            "marker": {
             "colorbar": {
              "outlinewidth": 0,
              "ticks": ""
             }
            },
            "type": "scatterpolar"
           }
          ],
          "scatterpolargl": [
           {
            "marker": {
             "colorbar": {
              "outlinewidth": 0,
              "ticks": ""
             }
            },
            "type": "scatterpolargl"
           }
          ],
          "scatterternary": [
           {
            "marker": {
             "colorbar": {
              "outlinewidth": 0,
              "ticks": ""
             }
            },
            "type": "scatterternary"
           }
          ],
          "surface": [
           {
            "colorbar": {
             "outlinewidth": 0,
             "ticks": ""
            },
            "colorscale": [
             [
              0,
              "#0d0887"
             ],
             [
              0.1111111111111111,
              "#46039f"
             ],
             [
              0.2222222222222222,
              "#7201a8"
             ],
             [
              0.3333333333333333,
              "#9c179e"
             ],
             [
              0.4444444444444444,
              "#bd3786"
             ],
             [
              0.5555555555555556,
              "#d8576b"
             ],
             [
              0.6666666666666666,
              "#ed7953"
             ],
             [
              0.7777777777777778,
              "#fb9f3a"
             ],
             [
              0.8888888888888888,
              "#fdca26"
             ],
             [
              1,
              "#f0f921"
             ]
            ],
            "type": "surface"
           }
          ],
          "table": [
           {
            "cells": {
             "fill": {
              "color": "#EBF0F8"
             },
             "line": {
              "color": "white"
             }
            },
            "header": {
             "fill": {
              "color": "#C8D4E3"
             },
             "line": {
              "color": "white"
             }
            },
            "type": "table"
           }
          ]
         },
         "layout": {
          "annotationdefaults": {
           "arrowcolor": "#2a3f5f",
           "arrowhead": 0,
           "arrowwidth": 1
          },
          "coloraxis": {
           "colorbar": {
            "outlinewidth": 0,
            "ticks": ""
           }
          },
          "colorscale": {
           "diverging": [
            [
             0,
             "#8e0152"
            ],
            [
             0.1,
             "#c51b7d"
            ],
            [
             0.2,
             "#de77ae"
            ],
            [
             0.3,
             "#f1b6da"
            ],
            [
             0.4,
             "#fde0ef"
            ],
            [
             0.5,
             "#f7f7f7"
            ],
            [
             0.6,
             "#e6f5d0"
            ],
            [
             0.7,
             "#b8e186"
            ],
            [
             0.8,
             "#7fbc41"
            ],
            [
             0.9,
             "#4d9221"
            ],
            [
             1,
             "#276419"
            ]
           ],
           "sequential": [
            [
             0,
             "#0d0887"
            ],
            [
             0.1111111111111111,
             "#46039f"
            ],
            [
             0.2222222222222222,
             "#7201a8"
            ],
            [
             0.3333333333333333,
             "#9c179e"
            ],
            [
             0.4444444444444444,
             "#bd3786"
            ],
            [
             0.5555555555555556,
             "#d8576b"
            ],
            [
             0.6666666666666666,
             "#ed7953"
            ],
            [
             0.7777777777777778,
             "#fb9f3a"
            ],
            [
             0.8888888888888888,
             "#fdca26"
            ],
            [
             1,
             "#f0f921"
            ]
           ],
           "sequentialminus": [
            [
             0,
             "#0d0887"
            ],
            [
             0.1111111111111111,
             "#46039f"
            ],
            [
             0.2222222222222222,
             "#7201a8"
            ],
            [
             0.3333333333333333,
             "#9c179e"
            ],
            [
             0.4444444444444444,
             "#bd3786"
            ],
            [
             0.5555555555555556,
             "#d8576b"
            ],
            [
             0.6666666666666666,
             "#ed7953"
            ],
            [
             0.7777777777777778,
             "#fb9f3a"
            ],
            [
             0.8888888888888888,
             "#fdca26"
            ],
            [
             1,
             "#f0f921"
            ]
           ]
          },
          "colorway": [
           "#636efa",
           "#EF553B",
           "#00cc96",
           "#ab63fa",
           "#FFA15A",
           "#19d3f3",
           "#FF6692",
           "#B6E880",
           "#FF97FF",
           "#FECB52"
          ],
          "font": {
           "color": "#2a3f5f"
          },
          "geo": {
           "bgcolor": "white",
           "lakecolor": "white",
           "landcolor": "#E5ECF6",
           "showlakes": true,
           "showland": true,
           "subunitcolor": "white"
          },
          "hoverlabel": {
           "align": "left"
          },
          "hovermode": "closest",
          "mapbox": {
           "style": "light"
          },
          "paper_bgcolor": "white",
          "plot_bgcolor": "#E5ECF6",
          "polar": {
           "angularaxis": {
            "gridcolor": "white",
            "linecolor": "white",
            "ticks": ""
           },
           "bgcolor": "#E5ECF6",
           "radialaxis": {
            "gridcolor": "white",
            "linecolor": "white",
            "ticks": ""
           }
          },
          "scene": {
           "xaxis": {
            "backgroundcolor": "#E5ECF6",
            "gridcolor": "white",
            "gridwidth": 2,
            "linecolor": "white",
            "showbackground": true,
            "ticks": "",
            "zerolinecolor": "white"
           },
           "yaxis": {
            "backgroundcolor": "#E5ECF6",
            "gridcolor": "white",
            "gridwidth": 2,
            "linecolor": "white",
            "showbackground": true,
            "ticks": "",
            "zerolinecolor": "white"
           },
           "zaxis": {
            "backgroundcolor": "#E5ECF6",
            "gridcolor": "white",
            "gridwidth": 2,
            "linecolor": "white",
            "showbackground": true,
            "ticks": "",
            "zerolinecolor": "white"
           }
          },
          "shapedefaults": {
           "line": {
            "color": "#2a3f5f"
           }
          },
          "ternary": {
           "aaxis": {
            "gridcolor": "white",
            "linecolor": "white",
            "ticks": ""
           },
           "baxis": {
            "gridcolor": "white",
            "linecolor": "white",
            "ticks": ""
           },
           "bgcolor": "#E5ECF6",
           "caxis": {
            "gridcolor": "white",
            "linecolor": "white",
            "ticks": ""
           }
          },
          "title": {
           "x": 0.05
          },
          "xaxis": {
           "automargin": true,
           "gridcolor": "white",
           "linecolor": "white",
           "ticks": "",
           "title": {
            "standoff": 15
           },
           "zerolinecolor": "white",
           "zerolinewidth": 2
          },
          "yaxis": {
           "automargin": true,
           "gridcolor": "white",
           "linecolor": "white",
           "ticks": "",
           "title": {
            "standoff": 15
           },
           "zerolinecolor": "white",
           "zerolinewidth": 2
          }
         }
        },
        "title": {
         "text": "Neareast employee to the Headquater"
        },
        "width": 800
       }
      },
      "text/html": [
       "<div>                            <div id=\"a4239383-2e67-4825-8d52-18797e60cdf1\" class=\"plotly-graph-div\" style=\"height:800px; width:800px;\"></div>            <script type=\"text/javascript\">                require([\"plotly\"], function(Plotly) {                    window.PLOTLYENV=window.PLOTLYENV || {};                                    if (document.getElementById(\"a4239383-2e67-4825-8d52-18797e60cdf1\")) {                    Plotly.newPlot(                        \"a4239383-2e67-4825-8d52-18797e60cdf1\",                        [{\"customdata\": [[0]], \"geo\": \"geo\", \"hovertemplate\": \"<b>%{hovertext}</b><br><br>Name=Head quater<br>Yearly_avg_income=%{marker.size}<br>Latitude=%{lat}<br>Longitude=%{lon}<br>distance_to_headquater_km=%{customdata[0]}<extra></extra>\", \"hovertext\": [\"Head quater\"], \"lat\": [60.1807142], \"legendgroup\": \"Head quater\", \"lon\": [24.8318569], \"marker\": {\"color\": \"#636efa\", \"opacity\": 0.5, \"size\": [13650.0], \"sizemode\": \"area\", \"sizeref\": 159.7975, \"symbol\": \"circle\"}, \"mode\": \"markers\", \"name\": \"Head quater\", \"showlegend\": true, \"type\": \"scattergeo\"}, {\"customdata\": [[1]], \"geo\": \"geo\", \"hovertemplate\": \"<b>%{hovertext}</b><br><br>Name=Carol Guzman<br>Yearly_avg_income=%{marker.size}<br>Latitude=%{lat}<br>Longitude=%{lon}<br>distance_to_headquater_km=%{customdata[0]}<extra></extra>\", \"hovertext\": [\"Carol Guzman\"], \"lat\": [60.1786116], \"legendgroup\": \"Carol Guzman\", \"lon\": [24.8536462], \"marker\": {\"color\": \"#EF553B\", \"opacity\": 0.5, \"size\": [63919.0], \"sizemode\": \"area\", \"sizeref\": 159.7975, \"symbol\": \"circle\"}, \"mode\": \"markers\", \"name\": \"Carol Guzman\", \"showlegend\": true, \"type\": \"scattergeo\"}],                        {\"geo\": {\"center\": {\"lat\": 60, \"lon\": 24}, \"domain\": {\"x\": [0.0, 1.0], \"y\": [0.0, 1.0]}, \"projection\": {\"type\": \"mercator\"}, \"scope\": \"europe\", \"visible\": true}, \"height\": 800, \"legend\": {\"itemsizing\": \"constant\", \"title\": {\"text\": \"Name\"}, \"tracegroupgap\": 0}, \"template\": {\"data\": {\"bar\": [{\"error_x\": {\"color\": \"#2a3f5f\"}, \"error_y\": {\"color\": \"#2a3f5f\"}, \"marker\": {\"line\": {\"color\": \"#E5ECF6\", \"width\": 0.5}}, \"type\": \"bar\"}], \"barpolar\": [{\"marker\": {\"line\": {\"color\": \"#E5ECF6\", \"width\": 0.5}}, \"type\": \"barpolar\"}], \"carpet\": [{\"aaxis\": {\"endlinecolor\": \"#2a3f5f\", \"gridcolor\": \"white\", \"linecolor\": \"white\", \"minorgridcolor\": \"white\", \"startlinecolor\": \"#2a3f5f\"}, \"baxis\": {\"endlinecolor\": \"#2a3f5f\", \"gridcolor\": \"white\", \"linecolor\": \"white\", \"minorgridcolor\": \"white\", \"startlinecolor\": \"#2a3f5f\"}, \"type\": \"carpet\"}], \"choropleth\": [{\"colorbar\": {\"outlinewidth\": 0, \"ticks\": \"\"}, \"type\": \"choropleth\"}], \"contour\": [{\"colorbar\": {\"outlinewidth\": 0, \"ticks\": \"\"}, \"colorscale\": [[0.0, \"#0d0887\"], [0.1111111111111111, \"#46039f\"], [0.2222222222222222, \"#7201a8\"], [0.3333333333333333, \"#9c179e\"], [0.4444444444444444, \"#bd3786\"], [0.5555555555555556, \"#d8576b\"], [0.6666666666666666, \"#ed7953\"], [0.7777777777777778, \"#fb9f3a\"], [0.8888888888888888, \"#fdca26\"], [1.0, \"#f0f921\"]], \"type\": \"contour\"}], \"contourcarpet\": [{\"colorbar\": {\"outlinewidth\": 0, \"ticks\": \"\"}, \"type\": \"contourcarpet\"}], \"heatmap\": [{\"colorbar\": {\"outlinewidth\": 0, \"ticks\": \"\"}, \"colorscale\": [[0.0, \"#0d0887\"], [0.1111111111111111, \"#46039f\"], [0.2222222222222222, \"#7201a8\"], [0.3333333333333333, \"#9c179e\"], [0.4444444444444444, \"#bd3786\"], [0.5555555555555556, \"#d8576b\"], [0.6666666666666666, \"#ed7953\"], [0.7777777777777778, \"#fb9f3a\"], [0.8888888888888888, \"#fdca26\"], [1.0, \"#f0f921\"]], \"type\": \"heatmap\"}], \"heatmapgl\": [{\"colorbar\": {\"outlinewidth\": 0, \"ticks\": \"\"}, \"colorscale\": [[0.0, \"#0d0887\"], [0.1111111111111111, \"#46039f\"], [0.2222222222222222, \"#7201a8\"], [0.3333333333333333, \"#9c179e\"], [0.4444444444444444, \"#bd3786\"], [0.5555555555555556, \"#d8576b\"], [0.6666666666666666, \"#ed7953\"], [0.7777777777777778, \"#fb9f3a\"], [0.8888888888888888, \"#fdca26\"], [1.0, \"#f0f921\"]], \"type\": \"heatmapgl\"}], \"histogram\": [{\"marker\": {\"colorbar\": {\"outlinewidth\": 0, \"ticks\": \"\"}}, \"type\": \"histogram\"}], \"histogram2d\": [{\"colorbar\": {\"outlinewidth\": 0, \"ticks\": \"\"}, \"colorscale\": [[0.0, \"#0d0887\"], [0.1111111111111111, \"#46039f\"], [0.2222222222222222, \"#7201a8\"], [0.3333333333333333, \"#9c179e\"], [0.4444444444444444, \"#bd3786\"], [0.5555555555555556, \"#d8576b\"], [0.6666666666666666, \"#ed7953\"], [0.7777777777777778, \"#fb9f3a\"], [0.8888888888888888, \"#fdca26\"], [1.0, \"#f0f921\"]], \"type\": \"histogram2d\"}], \"histogram2dcontour\": [{\"colorbar\": {\"outlinewidth\": 0, \"ticks\": \"\"}, \"colorscale\": [[0.0, \"#0d0887\"], [0.1111111111111111, \"#46039f\"], [0.2222222222222222, \"#7201a8\"], [0.3333333333333333, \"#9c179e\"], [0.4444444444444444, \"#bd3786\"], [0.5555555555555556, \"#d8576b\"], [0.6666666666666666, \"#ed7953\"], [0.7777777777777778, \"#fb9f3a\"], [0.8888888888888888, \"#fdca26\"], [1.0, \"#f0f921\"]], \"type\": \"histogram2dcontour\"}], \"mesh3d\": [{\"colorbar\": {\"outlinewidth\": 0, \"ticks\": \"\"}, \"type\": \"mesh3d\"}], \"parcoords\": [{\"line\": {\"colorbar\": {\"outlinewidth\": 0, \"ticks\": \"\"}}, \"type\": \"parcoords\"}], \"pie\": [{\"automargin\": true, \"type\": \"pie\"}], \"scatter\": [{\"marker\": {\"colorbar\": {\"outlinewidth\": 0, \"ticks\": \"\"}}, \"type\": \"scatter\"}], \"scatter3d\": [{\"line\": {\"colorbar\": {\"outlinewidth\": 0, \"ticks\": \"\"}}, \"marker\": {\"colorbar\": {\"outlinewidth\": 0, \"ticks\": \"\"}}, \"type\": \"scatter3d\"}], \"scattercarpet\": [{\"marker\": {\"colorbar\": {\"outlinewidth\": 0, \"ticks\": \"\"}}, \"type\": \"scattercarpet\"}], \"scattergeo\": [{\"marker\": {\"colorbar\": {\"outlinewidth\": 0, \"ticks\": \"\"}}, \"type\": \"scattergeo\"}], \"scattergl\": [{\"marker\": {\"colorbar\": {\"outlinewidth\": 0, \"ticks\": \"\"}}, \"type\": \"scattergl\"}], \"scattermapbox\": [{\"marker\": {\"colorbar\": {\"outlinewidth\": 0, \"ticks\": \"\"}}, \"type\": \"scattermapbox\"}], \"scatterpolar\": [{\"marker\": {\"colorbar\": {\"outlinewidth\": 0, \"ticks\": \"\"}}, \"type\": \"scatterpolar\"}], \"scatterpolargl\": [{\"marker\": {\"colorbar\": {\"outlinewidth\": 0, \"ticks\": \"\"}}, \"type\": \"scatterpolargl\"}], \"scatterternary\": [{\"marker\": {\"colorbar\": {\"outlinewidth\": 0, \"ticks\": \"\"}}, \"type\": \"scatterternary\"}], \"surface\": [{\"colorbar\": {\"outlinewidth\": 0, \"ticks\": \"\"}, \"colorscale\": [[0.0, \"#0d0887\"], [0.1111111111111111, \"#46039f\"], [0.2222222222222222, \"#7201a8\"], [0.3333333333333333, \"#9c179e\"], [0.4444444444444444, \"#bd3786\"], [0.5555555555555556, \"#d8576b\"], [0.6666666666666666, \"#ed7953\"], [0.7777777777777778, \"#fb9f3a\"], [0.8888888888888888, \"#fdca26\"], [1.0, \"#f0f921\"]], \"type\": \"surface\"}], \"table\": [{\"cells\": {\"fill\": {\"color\": \"#EBF0F8\"}, \"line\": {\"color\": \"white\"}}, \"header\": {\"fill\": {\"color\": \"#C8D4E3\"}, \"line\": {\"color\": \"white\"}}, \"type\": \"table\"}]}, \"layout\": {\"annotationdefaults\": {\"arrowcolor\": \"#2a3f5f\", \"arrowhead\": 0, \"arrowwidth\": 1}, \"coloraxis\": {\"colorbar\": {\"outlinewidth\": 0, \"ticks\": \"\"}}, \"colorscale\": {\"diverging\": [[0, \"#8e0152\"], [0.1, \"#c51b7d\"], [0.2, \"#de77ae\"], [0.3, \"#f1b6da\"], [0.4, \"#fde0ef\"], [0.5, \"#f7f7f7\"], [0.6, \"#e6f5d0\"], [0.7, \"#b8e186\"], [0.8, \"#7fbc41\"], [0.9, \"#4d9221\"], [1, \"#276419\"]], \"sequential\": [[0.0, \"#0d0887\"], [0.1111111111111111, \"#46039f\"], [0.2222222222222222, \"#7201a8\"], [0.3333333333333333, \"#9c179e\"], [0.4444444444444444, \"#bd3786\"], [0.5555555555555556, \"#d8576b\"], [0.6666666666666666, \"#ed7953\"], [0.7777777777777778, \"#fb9f3a\"], [0.8888888888888888, \"#fdca26\"], [1.0, \"#f0f921\"]], \"sequentialminus\": [[0.0, \"#0d0887\"], [0.1111111111111111, \"#46039f\"], [0.2222222222222222, \"#7201a8\"], [0.3333333333333333, \"#9c179e\"], [0.4444444444444444, \"#bd3786\"], [0.5555555555555556, \"#d8576b\"], [0.6666666666666666, \"#ed7953\"], [0.7777777777777778, \"#fb9f3a\"], [0.8888888888888888, \"#fdca26\"], [1.0, \"#f0f921\"]]}, \"colorway\": [\"#636efa\", \"#EF553B\", \"#00cc96\", \"#ab63fa\", \"#FFA15A\", \"#19d3f3\", \"#FF6692\", \"#B6E880\", \"#FF97FF\", \"#FECB52\"], \"font\": {\"color\": \"#2a3f5f\"}, \"geo\": {\"bgcolor\": \"white\", \"lakecolor\": \"white\", \"landcolor\": \"#E5ECF6\", \"showlakes\": true, \"showland\": true, \"subunitcolor\": \"white\"}, \"hoverlabel\": {\"align\": \"left\"}, \"hovermode\": \"closest\", \"mapbox\": {\"style\": \"light\"}, \"paper_bgcolor\": \"white\", \"plot_bgcolor\": \"#E5ECF6\", \"polar\": {\"angularaxis\": {\"gridcolor\": \"white\", \"linecolor\": \"white\", \"ticks\": \"\"}, \"bgcolor\": \"#E5ECF6\", \"radialaxis\": {\"gridcolor\": \"white\", \"linecolor\": \"white\", \"ticks\": \"\"}}, \"scene\": {\"xaxis\": {\"backgroundcolor\": \"#E5ECF6\", \"gridcolor\": \"white\", \"gridwidth\": 2, \"linecolor\": \"white\", \"showbackground\": true, \"ticks\": \"\", \"zerolinecolor\": \"white\"}, \"yaxis\": {\"backgroundcolor\": \"#E5ECF6\", \"gridcolor\": \"white\", \"gridwidth\": 2, \"linecolor\": \"white\", \"showbackground\": true, \"ticks\": \"\", \"zerolinecolor\": \"white\"}, \"zaxis\": {\"backgroundcolor\": \"#E5ECF6\", \"gridcolor\": \"white\", \"gridwidth\": 2, \"linecolor\": \"white\", \"showbackground\": true, \"ticks\": \"\", \"zerolinecolor\": \"white\"}}, \"shapedefaults\": {\"line\": {\"color\": \"#2a3f5f\"}}, \"ternary\": {\"aaxis\": {\"gridcolor\": \"white\", \"linecolor\": \"white\", \"ticks\": \"\"}, \"baxis\": {\"gridcolor\": \"white\", \"linecolor\": \"white\", \"ticks\": \"\"}, \"bgcolor\": \"#E5ECF6\", \"caxis\": {\"gridcolor\": \"white\", \"linecolor\": \"white\", \"ticks\": \"\"}}, \"title\": {\"x\": 0.05}, \"xaxis\": {\"automargin\": true, \"gridcolor\": \"white\", \"linecolor\": \"white\", \"ticks\": \"\", \"title\": {\"standoff\": 15}, \"zerolinecolor\": \"white\", \"zerolinewidth\": 2}, \"yaxis\": {\"automargin\": true, \"gridcolor\": \"white\", \"linecolor\": \"white\", \"ticks\": \"\", \"title\": {\"standoff\": 15}, \"zerolinecolor\": \"white\", \"zerolinewidth\": 2}}}, \"title\": {\"text\": \"Neareast employee to the Headquater\"}, \"width\": 800},                        {\"responsive\": true}                    ).then(function(){\n",
       "                            \n",
       "var gd = document.getElementById('a4239383-2e67-4825-8d52-18797e60cdf1');\n",
       "var x = new MutationObserver(function (mutations, observer) {{\n",
       "        var display = window.getComputedStyle(gd).display;\n",
       "        if (!display || display === 'none') {{\n",
       "            console.log([gd, 'removed!']);\n",
       "            Plotly.purge(gd);\n",
       "            observer.disconnect();\n",
       "        }}\n",
       "}});\n",
       "\n",
       "// Listen for the removal of the full notebook cells\n",
       "var notebookContainer = gd.closest('#notebook-container');\n",
       "if (notebookContainer) {{\n",
       "    x.observe(notebookContainer, {childList: true});\n",
       "}}\n",
       "\n",
       "// Listen for the clearing of the current output cell\n",
       "var outputEl = gd.closest('.output');\n",
       "if (outputEl) {{\n",
       "    x.observe(outputEl, {childList: true});\n",
       "}}\n",
       "\n",
       "                        })                };                });            </script>        </div>"
      ]
     },
     "metadata": {},
     "output_type": "display_data"
    }
   ],
   "source": [
    "df = employees_data.sort_values('distance_to_headquater_km').iloc[:2,:]\n",
    "plot_map(df,'Name','Neareast employee to the Headquater')"
   ]
  },
  {
   "cell_type": "markdown",
   "metadata": {},
   "source": [
    "#### Employee within 10 km Radius"
   ]
  },
  {
   "cell_type": "code",
   "execution_count": 23,
   "metadata": {
    "ExecuteTime": {
     "end_time": "2021-12-14T16:12:23.915929Z",
     "start_time": "2021-12-14T16:12:23.640884Z"
    }
   },
   "outputs": [
    {
     "data": {
      "application/vnd.plotly.v1+json": {
       "config": {
        "plotlyServerURL": "https://plot.ly"
       },
       "data": [
        {
         "customdata": [
          [
           0
          ]
         ],
         "geo": "geo",
         "hovertemplate": "<b>%{hovertext}</b><br><br>Name=Head quater<br>Yearly_avg_income=%{marker.size}<br>Latitude=%{lat}<br>Longitude=%{lon}<br>distance_to_headquater_km=%{customdata[0]}<extra></extra>",
         "hovertext": [
          "Head quater"
         ],
         "lat": [
          60.1807142
         ],
         "legendgroup": "Head quater",
         "lon": [
          24.8318569
         ],
         "marker": {
          "color": "#636efa",
          "opacity": 0.5,
          "size": [
           13650
          ],
          "sizemode": "area",
          "sizeref": 159.7975,
          "symbol": "circle"
         },
         "mode": "markers",
         "name": "Head quater",
         "showlegend": true,
         "type": "scattergeo"
        },
        {
         "customdata": [
          [
           8
          ]
         ],
         "geo": "geo",
         "hovertemplate": "<b>%{hovertext}</b><br><br>Name=Aneesah Mullen<br>Yearly_avg_income=%{marker.size}<br>Latitude=%{lat}<br>Longitude=%{lon}<br>distance_to_headquater_km=%{customdata[0]}<extra></extra>",
         "hovertext": [
          "Aneesah Mullen"
         ],
         "lat": [
          60.25180600000001
         ],
         "legendgroup": "Aneesah Mullen",
         "lon": [
          24.880692800000002
         ],
         "marker": {
          "color": "#EF553B",
          "opacity": 0.5,
          "size": [
           23733
          ],
          "sizemode": "area",
          "sizeref": 159.7975,
          "symbol": "circle"
         },
         "mode": "markers",
         "name": "Aneesah Mullen",
         "showlegend": true,
         "type": "scattergeo"
        },
        {
         "customdata": [
          [
           9
          ]
         ],
         "geo": "geo",
         "hovertemplate": "<b>%{hovertext}</b><br><br>Name=Asmaa Holder<br>Yearly_avg_income=%{marker.size}<br>Latitude=%{lat}<br>Longitude=%{lon}<br>distance_to_headquater_km=%{customdata[0]}<extra></extra>",
         "hovertext": [
          "Asmaa Holder"
         ],
         "lat": [
          60.1680628
         ],
         "legendgroup": "Asmaa Holder",
         "lon": [
          24.6784426
         ],
         "marker": {
          "color": "#00cc96",
          "opacity": 0.5,
          "size": [
           31112
          ],
          "sizemode": "area",
          "sizeref": 159.7975,
          "symbol": "circle"
         },
         "mode": "markers",
         "name": "Asmaa Holder",
         "showlegend": true,
         "type": "scattergeo"
        },
        {
         "customdata": [
          [
           1
          ]
         ],
         "geo": "geo",
         "hovertemplate": "<b>%{hovertext}</b><br><br>Name=Carol Guzman<br>Yearly_avg_income=%{marker.size}<br>Latitude=%{lat}<br>Longitude=%{lon}<br>distance_to_headquater_km=%{customdata[0]}<extra></extra>",
         "hovertext": [
          "Carol Guzman"
         ],
         "lat": [
          60.1786116
         ],
         "legendgroup": "Carol Guzman",
         "lon": [
          24.8536462
         ],
         "marker": {
          "color": "#ab63fa",
          "opacity": 0.5,
          "size": [
           63919
          ],
          "sizemode": "area",
          "sizeref": 159.7975,
          "symbol": "circle"
         },
         "mode": "markers",
         "name": "Carol Guzman",
         "showlegend": true,
         "type": "scattergeo"
        },
        {
         "customdata": [
          [
           5
          ]
         ],
         "geo": "geo",
         "hovertemplate": "<b>%{hovertext}</b><br><br>Name=Charles Ayers<br>Yearly_avg_income=%{marker.size}<br>Latitude=%{lat}<br>Longitude=%{lon}<br>distance_to_headquater_km=%{customdata[0]}<extra></extra>",
         "hovertext": [
          "Charles Ayers"
         ],
         "lat": [
          60.157990399999996
         ],
         "legendgroup": "Charles Ayers",
         "lon": [
          24.9126423
         ],
         "marker": {
          "color": "#FFA15A",
          "opacity": 0.5,
          "size": [
           29708
          ],
          "sizemode": "area",
          "sizeref": 159.7975,
          "symbol": "circle"
         },
         "mode": "markers",
         "name": "Charles Ayers",
         "showlegend": true,
         "type": "scattergeo"
        },
        {
         "customdata": [
          [
           7
          ]
         ],
         "geo": "geo",
         "hovertemplate": "<b>%{hovertext}</b><br><br>Name=Christina Garcia<br>Yearly_avg_income=%{marker.size}<br>Latitude=%{lat}<br>Longitude=%{lon}<br>distance_to_headquater_km=%{customdata[0]}<extra></extra>",
         "hovertext": [
          "Christina Garcia"
         ],
         "lat": [
          60.2370959
         ],
         "legendgroup": "Christina Garcia",
         "lon": [
          24.7719897
         ],
         "marker": {
          "color": "#19d3f3",
          "opacity": 0.5,
          "size": [
           30647
          ],
          "sizemode": "area",
          "sizeref": 159.7975,
          "symbol": "circle"
         },
         "mode": "markers",
         "name": "Christina Garcia",
         "showlegend": true,
         "type": "scattergeo"
        },
        {
         "customdata": [
          [
           6
          ]
         ],
         "geo": "geo",
         "hovertemplate": "<b>%{hovertext}</b><br><br>Name=Coral Elliott<br>Yearly_avg_income=%{marker.size}<br>Latitude=%{lat}<br>Longitude=%{lon}<br>distance_to_headquater_km=%{customdata[0]}<extra></extra>",
         "hovertext": [
          "Coral Elliott"
         ],
         "lat": [
          60.23224870000001
         ],
         "legendgroup": "Coral Elliott",
         "lon": [
          24.885951000000002
         ],
         "marker": {
          "color": "#FF6692",
          "opacity": 0.5,
          "size": [
           26106
          ],
          "sizemode": "area",
          "sizeref": 159.7975,
          "symbol": "circle"
         },
         "mode": "markers",
         "name": "Coral Elliott",
         "showlegend": true,
         "type": "scattergeo"
        },
        {
         "customdata": [
          [
           9
          ]
         ],
         "geo": "geo",
         "hovertemplate": "<b>%{hovertext}</b><br><br>Name=Ella-Rose Pike<br>Yearly_avg_income=%{marker.size}<br>Latitude=%{lat}<br>Longitude=%{lon}<br>distance_to_headquater_km=%{customdata[0]}<extra></extra>",
         "hovertext": [
          "Ella-Rose Pike"
         ],
         "lat": [
          60.15743739999999
         ],
         "legendgroup": "Ella-Rose Pike",
         "lon": [
          24.6696807
         ],
         "marker": {
          "color": "#B6E880",
          "opacity": 0.5,
          "size": [
           43507
          ],
          "sizemode": "area",
          "sizeref": 159.7975,
          "symbol": "circle"
         },
         "mode": "markers",
         "name": "Ella-Rose Pike",
         "showlegend": true,
         "type": "scattergeo"
        },
        {
         "customdata": [
          [
           10
          ]
         ],
         "geo": "geo",
         "hovertemplate": "<b>%{hovertext}</b><br><br>Name=Enzo Calvert<br>Yearly_avg_income=%{marker.size}<br>Latitude=%{lat}<br>Longitude=%{lon}<br>distance_to_headquater_km=%{customdata[0]}<extra></extra>",
         "hovertext": [
          "Enzo Calvert"
         ],
         "lat": [
          60.127565100000005
         ],
         "legendgroup": "Enzo Calvert",
         "lon": [
          24.6796284
         ],
         "marker": {
          "color": "#FF97FF",
          "opacity": 0.5,
          "size": [
           33055
          ],
          "sizemode": "area",
          "sizeref": 159.7975,
          "symbol": "circle"
         },
         "mode": "markers",
         "name": "Enzo Calvert",
         "showlegend": true,
         "type": "scattergeo"
        },
        {
         "customdata": [
          [
           6
          ]
         ],
         "geo": "geo",
         "hovertemplate": "<b>%{hovertext}</b><br><br>Name=Harvey-Lee Kemp<br>Yearly_avg_income=%{marker.size}<br>Latitude=%{lat}<br>Longitude=%{lon}<br>distance_to_headquater_km=%{customdata[0]}<extra></extra>",
         "hovertext": [
          "Harvey-Lee Kemp"
         ],
         "lat": [
          60.22805940000001
         ],
         "legendgroup": "Harvey-Lee Kemp",
         "lon": [
          24.8629764
         ],
         "marker": {
          "color": "#FECB52",
          "opacity": 0.5,
          "size": [
           27228
          ],
          "sizemode": "area",
          "sizeref": 159.7975,
          "symbol": "circle"
         },
         "mode": "markers",
         "name": "Harvey-Lee Kemp",
         "showlegend": true,
         "type": "scattergeo"
        },
        {
         "customdata": [
          [
           6
          ]
         ],
         "geo": "geo",
         "hovertemplate": "<b>%{hovertext}</b><br><br>Name=Heath Salgado<br>Yearly_avg_income=%{marker.size}<br>Latitude=%{lat}<br>Longitude=%{lon}<br>distance_to_headquater_km=%{customdata[0]}<extra></extra>",
         "hovertext": [
          "Heath Salgado"
         ],
         "lat": [
          60.193324
         ],
         "legendgroup": "Heath Salgado",
         "lon": [
          24.940324899999997
         ],
         "marker": {
          "color": "#636efa",
          "opacity": 0.5,
          "size": [
           27130
          ],
          "sizemode": "area",
          "sizeref": 159.7975,
          "symbol": "circle"
         },
         "mode": "markers",
         "name": "Heath Salgado",
         "showlegend": true,
         "type": "scattergeo"
        },
        {
         "customdata": [
          [
           7
          ]
         ],
         "geo": "geo",
         "hovertemplate": "<b>%{hovertext}</b><br><br>Name=Herbert Palmer<br>Yearly_avg_income=%{marker.size}<br>Latitude=%{lat}<br>Longitude=%{lon}<br>distance_to_headquater_km=%{customdata[0]}<extra></extra>",
         "hovertext": [
          "Herbert Palmer"
         ],
         "lat": [
          60.164606799999994
         ],
         "legendgroup": "Herbert Palmer",
         "lon": [
          24.9462116
         ],
         "marker": {
          "color": "#EF553B",
          "opacity": 0.5,
          "size": [
           61933
          ],
          "sizemode": "area",
          "sizeref": 159.7975,
          "symbol": "circle"
         },
         "mode": "markers",
         "name": "Herbert Palmer",
         "showlegend": true,
         "type": "scattergeo"
        },
        {
         "customdata": [
          [
           7
          ]
         ],
         "geo": "geo",
         "hovertemplate": "<b>%{hovertext}</b><br><br>Name=Jarod Thompson<br>Yearly_avg_income=%{marker.size}<br>Latitude=%{lat}<br>Longitude=%{lon}<br>distance_to_headquater_km=%{customdata[0]}<extra></extra>",
         "hovertext": [
          "Jarod Thompson"
         ],
         "lat": [
          60.2211777
         ],
         "legendgroup": "Jarod Thompson",
         "lon": [
          24.937147500000002
         ],
         "marker": {
          "color": "#00cc96",
          "opacity": 0.5,
          "size": [
           32402
          ],
          "sizemode": "area",
          "sizeref": 159.7975,
          "symbol": "circle"
         },
         "mode": "markers",
         "name": "Jarod Thompson",
         "showlegend": true,
         "type": "scattergeo"
        },
        {
         "customdata": [
          [
           2
          ]
         ],
         "geo": "geo",
         "hovertemplate": "<b>%{hovertext}</b><br><br>Name=Jasleen Bates<br>Yearly_avg_income=%{marker.size}<br>Latitude=%{lat}<br>Longitude=%{lon}<br>distance_to_headquater_km=%{customdata[0]}<extra></extra>",
         "hovertext": [
          "Jasleen Bates"
         ],
         "lat": [
          60.1861865
         ],
         "legendgroup": "Jasleen Bates",
         "lon": [
          24.7973183
         ],
         "marker": {
          "color": "#ab63fa",
          "opacity": 0.5,
          "size": [
           41010
          ],
          "sizemode": "area",
          "sizeref": 159.7975,
          "symbol": "circle"
         },
         "mode": "markers",
         "name": "Jasleen Bates",
         "showlegend": true,
         "type": "scattergeo"
        },
        {
         "customdata": [
          [
           8
          ]
         ],
         "geo": "geo",
         "hovertemplate": "<b>%{hovertext}</b><br><br>Name=Jolene Gray<br>Yearly_avg_income=%{marker.size}<br>Latitude=%{lat}<br>Longitude=%{lon}<br>distance_to_headquater_km=%{customdata[0]}<extra></extra>",
         "hovertext": [
          "Jolene Gray"
         ],
         "lat": [
          60.1989078
         ],
         "legendgroup": "Jolene Gray",
         "lon": [
          24.963253299999998
         ],
         "marker": {
          "color": "#FFA15A",
          "opacity": 0.5,
          "size": [
           24800
          ],
          "sizemode": "area",
          "sizeref": 159.7975,
          "symbol": "circle"
         },
         "mode": "markers",
         "name": "Jolene Gray",
         "showlegend": true,
         "type": "scattergeo"
        },
        {
         "customdata": [
          [
           9
          ]
         ],
         "geo": "geo",
         "hovertemplate": "<b>%{hovertext}</b><br><br>Name=Katarina Estes<br>Yearly_avg_income=%{marker.size}<br>Latitude=%{lat}<br>Longitude=%{lon}<br>distance_to_headquater_km=%{customdata[0]}<extra></extra>",
         "hovertext": [
          "Katarina Estes"
         ],
         "lat": [
          60.1949914
         ],
         "legendgroup": "Katarina Estes",
         "lon": [
          24.6737462
         ],
         "marker": {
          "color": "#19d3f3",
          "opacity": 0.5,
          "size": [
           26665
          ],
          "sizemode": "area",
          "sizeref": 159.7975,
          "symbol": "circle"
         },
         "mode": "markers",
         "name": "Katarina Estes",
         "showlegend": true,
         "type": "scattergeo"
        },
        {
         "customdata": [
          [
           7
          ]
         ],
         "geo": "geo",
         "hovertemplate": "<b>%{hovertext}</b><br><br>Name=Lacie-Mae Smart<br>Yearly_avg_income=%{marker.size}<br>Latitude=%{lat}<br>Longitude=%{lon}<br>distance_to_headquater_km=%{customdata[0]}<extra></extra>",
         "hovertext": [
          "Lacie-Mae Smart"
         ],
         "lat": [
          60.241372
         ],
         "legendgroup": "Lacie-Mae Smart",
         "lon": [
          24.8439018
         ],
         "marker": {
          "color": "#FF6692",
          "opacity": 0.5,
          "size": [
           27196
          ],
          "sizemode": "area",
          "sizeref": 159.7975,
          "symbol": "circle"
         },
         "mode": "markers",
         "name": "Lacie-Mae Smart",
         "showlegend": true,
         "type": "scattergeo"
        },
        {
         "customdata": [
          [
           6
          ]
         ],
         "geo": "geo",
         "hovertemplate": "<b>%{hovertext}</b><br><br>Name=Liya Thorpe<br>Yearly_avg_income=%{marker.size}<br>Latitude=%{lat}<br>Longitude=%{lon}<br>distance_to_headquater_km=%{customdata[0]}<extra></extra>",
         "hovertext": [
          "Liya Thorpe"
         ],
         "lat": [
          60.1914441
         ],
         "legendgroup": "Liya Thorpe",
         "lon": [
          24.946947899999998
         ],
         "marker": {
          "color": "#B6E880",
          "opacity": 0.5,
          "size": [
           27408
          ],
          "sizemode": "area",
          "sizeref": 159.7975,
          "symbol": "circle"
         },
         "mode": "markers",
         "name": "Liya Thorpe",
         "showlegend": true,
         "type": "scattergeo"
        },
        {
         "customdata": [
          [
           9
          ]
         ],
         "geo": "geo",
         "hovertemplate": "<b>%{hovertext}</b><br><br>Name=Luis Mcdermott<br>Yearly_avg_income=%{marker.size}<br>Latitude=%{lat}<br>Longitude=%{lon}<br>distance_to_headquater_km=%{customdata[0]}<extra></extra>",
         "hovertext": [
          "Luis Mcdermott"
         ],
         "lat": [
          60.260740399999996
         ],
         "legendgroup": "Luis Mcdermott",
         "lon": [
          24.8869819
         ],
         "marker": {
          "color": "#FF97FF",
          "opacity": 0.5,
          "size": [
           31401
          ],
          "sizemode": "area",
          "sizeref": 159.7975,
          "symbol": "circle"
         },
         "mode": "markers",
         "name": "Luis Mcdermott",
         "showlegend": true,
         "type": "scattergeo"
        },
        {
         "customdata": [
          [
           9
          ]
         ],
         "geo": "geo",
         "hovertemplate": "<b>%{hovertext}</b><br><br>Name=Musab Webb<br>Yearly_avg_income=%{marker.size}<br>Latitude=%{lat}<br>Longitude=%{lon}<br>distance_to_headquater_km=%{customdata[0]}<extra></extra>",
         "hovertext": [
          "Musab Webb"
         ],
         "lat": [
          60.256322
         ],
         "legendgroup": "Musab Webb",
         "lon": [
          24.806179999999998
         ],
         "marker": {
          "color": "#FECB52",
          "opacity": 0.5,
          "size": [
           25618
          ],
          "sizemode": "area",
          "sizeref": 159.7975,
          "symbol": "circle"
         },
         "mode": "markers",
         "name": "Musab Webb",
         "showlegend": true,
         "type": "scattergeo"
        },
        {
         "customdata": [
          [
           8
          ]
         ],
         "geo": "geo",
         "hovertemplate": "<b>%{hovertext}</b><br><br>Name=Preston King<br>Yearly_avg_income=%{marker.size}<br>Latitude=%{lat}<br>Longitude=%{lon}<br>distance_to_headquater_km=%{customdata[0]}<extra></extra>",
         "hovertext": [
          "Preston King"
         ],
         "lat": [
          60.166647399999995
         ],
         "legendgroup": "Preston King",
         "lon": [
          24.9697
         ],
         "marker": {
          "color": "#636efa",
          "opacity": 0.5,
          "size": [
           44623
          ],
          "sizemode": "area",
          "sizeref": 159.7975,
          "symbol": "circle"
         },
         "mode": "markers",
         "name": "Preston King",
         "showlegend": true,
         "type": "scattergeo"
        },
        {
         "customdata": [
          [
           7
          ]
         ],
         "geo": "geo",
         "hovertemplate": "<b>%{hovertext}</b><br><br>Name=Rivka Doherty<br>Yearly_avg_income=%{marker.size}<br>Latitude=%{lat}<br>Longitude=%{lon}<br>distance_to_headquater_km=%{customdata[0]}<extra></extra>",
         "hovertext": [
          "Rivka Doherty"
         ],
         "lat": [
          60.2285996
         ],
         "legendgroup": "Rivka Doherty",
         "lon": [
          24.744829
         ],
         "marker": {
          "color": "#EF553B",
          "opacity": 0.5,
          "size": [
           31223
          ],
          "sizemode": "area",
          "sizeref": 159.7975,
          "symbol": "circle"
         },
         "mode": "markers",
         "name": "Rivka Doherty",
         "showlegend": true,
         "type": "scattergeo"
        },
        {
         "customdata": [
          [
           6
          ]
         ],
         "geo": "geo",
         "hovertemplate": "<b>%{hovertext}</b><br><br>Name=Tahmid Adam<br>Yearly_avg_income=%{marker.size}<br>Latitude=%{lat}<br>Longitude=%{lon}<br>distance_to_headquater_km=%{customdata[0]}<extra></extra>",
         "hovertext": [
          "Tahmid Adam"
         ],
         "lat": [
          60.172562199999994
         ],
         "legendgroup": "Tahmid Adam",
         "lon": [
          24.947241899999998
         ],
         "marker": {
          "color": "#00cc96",
          "opacity": 0.5,
          "size": [
           41681
          ],
          "sizemode": "area",
          "sizeref": 159.7975,
          "symbol": "circle"
         },
         "mode": "markers",
         "name": "Tahmid Adam",
         "showlegend": true,
         "type": "scattergeo"
        },
        {
         "customdata": [
          [
           6
          ]
         ],
         "geo": "geo",
         "hovertemplate": "<b>%{hovertext}</b><br><br>Name=Umaiza French<br>Yearly_avg_income=%{marker.size}<br>Latitude=%{lat}<br>Longitude=%{lon}<br>distance_to_headquater_km=%{customdata[0]}<extra></extra>",
         "hovertext": [
          "Umaiza French"
         ],
         "lat": [
          60.16979499999999
         ],
         "legendgroup": "Umaiza French",
         "lon": [
          24.9419824
         ],
         "marker": {
          "color": "#ab63fa",
          "opacity": 0.5,
          "size": [
           41681
          ],
          "sizemode": "area",
          "sizeref": 159.7975,
          "symbol": "circle"
         },
         "mode": "markers",
         "name": "Umaiza French",
         "showlegend": true,
         "type": "scattergeo"
        },
        {
         "customdata": [
          [
           7
          ]
         ],
         "geo": "geo",
         "hovertemplate": "<b>%{hovertext}</b><br><br>Name=Una Amin<br>Yearly_avg_income=%{marker.size}<br>Latitude=%{lat}<br>Longitude=%{lon}<br>distance_to_headquater_km=%{customdata[0]}<extra></extra>",
         "hovertext": [
          "Una Amin"
         ],
         "lat": [
          60.17298910000001
         ],
         "legendgroup": "Una Amin",
         "lon": [
          24.7106264
         ],
         "marker": {
          "color": "#FFA15A",
          "opacity": 0.5,
          "size": [
           30085
          ],
          "sizemode": "area",
          "sizeref": 159.7975,
          "symbol": "circle"
         },
         "mode": "markers",
         "name": "Una Amin",
         "showlegend": true,
         "type": "scattergeo"
        },
        {
         "customdata": [
          [
           6
          ]
         ],
         "geo": "geo",
         "hovertemplate": "<b>%{hovertext}</b><br><br>Name=Zahara Mac<br>Yearly_avg_income=%{marker.size}<br>Latitude=%{lat}<br>Longitude=%{lon}<br>distance_to_headquater_km=%{customdata[0]}<extra></extra>",
         "hovertext": [
          "Zahara Mac"
         ],
         "lat": [
          60.176894299999994
         ],
         "legendgroup": "Zahara Mac",
         "lon": [
          24.724852600000002
         ],
         "marker": {
          "color": "#19d3f3",
          "opacity": 0.5,
          "size": [
           30085
          ],
          "sizemode": "area",
          "sizeref": 159.7975,
          "symbol": "circle"
         },
         "mode": "markers",
         "name": "Zahara Mac",
         "showlegend": true,
         "type": "scattergeo"
        }
       ],
       "layout": {
        "geo": {
         "center": {
          "lat": 60,
          "lon": 24
         },
         "domain": {
          "x": [
           0,
           1
          ],
          "y": [
           0,
           1
          ]
         },
         "projection": {
          "type": "mercator"
         },
         "scope": "europe",
         "visible": true
        },
        "height": 800,
        "legend": {
         "itemsizing": "constant",
         "title": {
          "text": "Name"
         },
         "tracegroupgap": 0
        },
        "template": {
         "data": {
          "bar": [
           {
            "error_x": {
             "color": "#2a3f5f"
            },
            "error_y": {
             "color": "#2a3f5f"
            },
            "marker": {
             "line": {
              "color": "#E5ECF6",
              "width": 0.5
             }
            },
            "type": "bar"
           }
          ],
          "barpolar": [
           {
            "marker": {
             "line": {
              "color": "#E5ECF6",
              "width": 0.5
             }
            },
            "type": "barpolar"
           }
          ],
          "carpet": [
           {
            "aaxis": {
             "endlinecolor": "#2a3f5f",
             "gridcolor": "white",
             "linecolor": "white",
             "minorgridcolor": "white",
             "startlinecolor": "#2a3f5f"
            },
            "baxis": {
             "endlinecolor": "#2a3f5f",
             "gridcolor": "white",
             "linecolor": "white",
             "minorgridcolor": "white",
             "startlinecolor": "#2a3f5f"
            },
            "type": "carpet"
           }
          ],
          "choropleth": [
           {
            "colorbar": {
             "outlinewidth": 0,
             "ticks": ""
            },
            "type": "choropleth"
           }
          ],
          "contour": [
           {
            "colorbar": {
             "outlinewidth": 0,
             "ticks": ""
            },
            "colorscale": [
             [
              0,
              "#0d0887"
             ],
             [
              0.1111111111111111,
              "#46039f"
             ],
             [
              0.2222222222222222,
              "#7201a8"
             ],
             [
              0.3333333333333333,
              "#9c179e"
             ],
             [
              0.4444444444444444,
              "#bd3786"
             ],
             [
              0.5555555555555556,
              "#d8576b"
             ],
             [
              0.6666666666666666,
              "#ed7953"
             ],
             [
              0.7777777777777778,
              "#fb9f3a"
             ],
             [
              0.8888888888888888,
              "#fdca26"
             ],
             [
              1,
              "#f0f921"
             ]
            ],
            "type": "contour"
           }
          ],
          "contourcarpet": [
           {
            "colorbar": {
             "outlinewidth": 0,
             "ticks": ""
            },
            "type": "contourcarpet"
           }
          ],
          "heatmap": [
           {
            "colorbar": {
             "outlinewidth": 0,
             "ticks": ""
            },
            "colorscale": [
             [
              0,
              "#0d0887"
             ],
             [
              0.1111111111111111,
              "#46039f"
             ],
             [
              0.2222222222222222,
              "#7201a8"
             ],
             [
              0.3333333333333333,
              "#9c179e"
             ],
             [
              0.4444444444444444,
              "#bd3786"
             ],
             [
              0.5555555555555556,
              "#d8576b"
             ],
             [
              0.6666666666666666,
              "#ed7953"
             ],
             [
              0.7777777777777778,
              "#fb9f3a"
             ],
             [
              0.8888888888888888,
              "#fdca26"
             ],
             [
              1,
              "#f0f921"
             ]
            ],
            "type": "heatmap"
           }
          ],
          "heatmapgl": [
           {
            "colorbar": {
             "outlinewidth": 0,
             "ticks": ""
            },
            "colorscale": [
             [
              0,
              "#0d0887"
             ],
             [
              0.1111111111111111,
              "#46039f"
             ],
             [
              0.2222222222222222,
              "#7201a8"
             ],
             [
              0.3333333333333333,
              "#9c179e"
             ],
             [
              0.4444444444444444,
              "#bd3786"
             ],
             [
              0.5555555555555556,
              "#d8576b"
             ],
             [
              0.6666666666666666,
              "#ed7953"
             ],
             [
              0.7777777777777778,
              "#fb9f3a"
             ],
             [
              0.8888888888888888,
              "#fdca26"
             ],
             [
              1,
              "#f0f921"
             ]
            ],
            "type": "heatmapgl"
           }
          ],
          "histogram": [
           {
            "marker": {
             "colorbar": {
              "outlinewidth": 0,
              "ticks": ""
             }
            },
            "type": "histogram"
           }
          ],
          "histogram2d": [
           {
            "colorbar": {
             "outlinewidth": 0,
             "ticks": ""
            },
            "colorscale": [
             [
              0,
              "#0d0887"
             ],
             [
              0.1111111111111111,
              "#46039f"
             ],
             [
              0.2222222222222222,
              "#7201a8"
             ],
             [
              0.3333333333333333,
              "#9c179e"
             ],
             [
              0.4444444444444444,
              "#bd3786"
             ],
             [
              0.5555555555555556,
              "#d8576b"
             ],
             [
              0.6666666666666666,
              "#ed7953"
             ],
             [
              0.7777777777777778,
              "#fb9f3a"
             ],
             [
              0.8888888888888888,
              "#fdca26"
             ],
             [
              1,
              "#f0f921"
             ]
            ],
            "type": "histogram2d"
           }
          ],
          "histogram2dcontour": [
           {
            "colorbar": {
             "outlinewidth": 0,
             "ticks": ""
            },
            "colorscale": [
             [
              0,
              "#0d0887"
             ],
             [
              0.1111111111111111,
              "#46039f"
             ],
             [
              0.2222222222222222,
              "#7201a8"
             ],
             [
              0.3333333333333333,
              "#9c179e"
             ],
             [
              0.4444444444444444,
              "#bd3786"
             ],
             [
              0.5555555555555556,
              "#d8576b"
             ],
             [
              0.6666666666666666,
              "#ed7953"
             ],
             [
              0.7777777777777778,
              "#fb9f3a"
             ],
             [
              0.8888888888888888,
              "#fdca26"
             ],
             [
              1,
              "#f0f921"
             ]
            ],
            "type": "histogram2dcontour"
           }
          ],
          "mesh3d": [
           {
            "colorbar": {
             "outlinewidth": 0,
             "ticks": ""
            },
            "type": "mesh3d"
           }
          ],
          "parcoords": [
           {
            "line": {
             "colorbar": {
              "outlinewidth": 0,
              "ticks": ""
             }
            },
            "type": "parcoords"
           }
          ],
          "pie": [
           {
            "automargin": true,
            "type": "pie"
           }
          ],
          "scatter": [
           {
            "marker": {
             "colorbar": {
              "outlinewidth": 0,
              "ticks": ""
             }
            },
            "type": "scatter"
           }
          ],
          "scatter3d": [
           {
            "line": {
             "colorbar": {
              "outlinewidth": 0,
              "ticks": ""
             }
            },
            "marker": {
             "colorbar": {
              "outlinewidth": 0,
              "ticks": ""
             }
            },
            "type": "scatter3d"
           }
          ],
          "scattercarpet": [
           {
            "marker": {
             "colorbar": {
              "outlinewidth": 0,
              "ticks": ""
             }
            },
            "type": "scattercarpet"
           }
          ],
          "scattergeo": [
           {
            "marker": {
             "colorbar": {
              "outlinewidth": 0,
              "ticks": ""
             }
            },
            "type": "scattergeo"
           }
          ],
          "scattergl": [
           {
            "marker": {
             "colorbar": {
              "outlinewidth": 0,
              "ticks": ""
             }
            },
            "type": "scattergl"
           }
          ],
          "scattermapbox": [
           {
            "marker": {
             "colorbar": {
              "outlinewidth": 0,
              "ticks": ""
             }
            },
            "type": "scattermapbox"
           }
          ],
          "scatterpolar": [
           {
            "marker": {
             "colorbar": {
              "outlinewidth": 0,
              "ticks": ""
             }
            },
            "type": "scatterpolar"
           }
          ],
          "scatterpolargl": [
           {
            "marker": {
             "colorbar": {
              "outlinewidth": 0,
              "ticks": ""
             }
            },
            "type": "scatterpolargl"
           }
          ],
          "scatterternary": [
           {
            "marker": {
             "colorbar": {
              "outlinewidth": 0,
              "ticks": ""
             }
            },
            "type": "scatterternary"
           }
          ],
          "surface": [
           {
            "colorbar": {
             "outlinewidth": 0,
             "ticks": ""
            },
            "colorscale": [
             [
              0,
              "#0d0887"
             ],
             [
              0.1111111111111111,
              "#46039f"
             ],
             [
              0.2222222222222222,
              "#7201a8"
             ],
             [
              0.3333333333333333,
              "#9c179e"
             ],
             [
              0.4444444444444444,
              "#bd3786"
             ],
             [
              0.5555555555555556,
              "#d8576b"
             ],
             [
              0.6666666666666666,
              "#ed7953"
             ],
             [
              0.7777777777777778,
              "#fb9f3a"
             ],
             [
              0.8888888888888888,
              "#fdca26"
             ],
             [
              1,
              "#f0f921"
             ]
            ],
            "type": "surface"
           }
          ],
          "table": [
           {
            "cells": {
             "fill": {
              "color": "#EBF0F8"
             },
             "line": {
              "color": "white"
             }
            },
            "header": {
             "fill": {
              "color": "#C8D4E3"
             },
             "line": {
              "color": "white"
             }
            },
            "type": "table"
           }
          ]
         },
         "layout": {
          "annotationdefaults": {
           "arrowcolor": "#2a3f5f",
           "arrowhead": 0,
           "arrowwidth": 1
          },
          "coloraxis": {
           "colorbar": {
            "outlinewidth": 0,
            "ticks": ""
           }
          },
          "colorscale": {
           "diverging": [
            [
             0,
             "#8e0152"
            ],
            [
             0.1,
             "#c51b7d"
            ],
            [
             0.2,
             "#de77ae"
            ],
            [
             0.3,
             "#f1b6da"
            ],
            [
             0.4,
             "#fde0ef"
            ],
            [
             0.5,
             "#f7f7f7"
            ],
            [
             0.6,
             "#e6f5d0"
            ],
            [
             0.7,
             "#b8e186"
            ],
            [
             0.8,
             "#7fbc41"
            ],
            [
             0.9,
             "#4d9221"
            ],
            [
             1,
             "#276419"
            ]
           ],
           "sequential": [
            [
             0,
             "#0d0887"
            ],
            [
             0.1111111111111111,
             "#46039f"
            ],
            [
             0.2222222222222222,
             "#7201a8"
            ],
            [
             0.3333333333333333,
             "#9c179e"
            ],
            [
             0.4444444444444444,
             "#bd3786"
            ],
            [
             0.5555555555555556,
             "#d8576b"
            ],
            [
             0.6666666666666666,
             "#ed7953"
            ],
            [
             0.7777777777777778,
             "#fb9f3a"
            ],
            [
             0.8888888888888888,
             "#fdca26"
            ],
            [
             1,
             "#f0f921"
            ]
           ],
           "sequentialminus": [
            [
             0,
             "#0d0887"
            ],
            [
             0.1111111111111111,
             "#46039f"
            ],
            [
             0.2222222222222222,
             "#7201a8"
            ],
            [
             0.3333333333333333,
             "#9c179e"
            ],
            [
             0.4444444444444444,
             "#bd3786"
            ],
            [
             0.5555555555555556,
             "#d8576b"
            ],
            [
             0.6666666666666666,
             "#ed7953"
            ],
            [
             0.7777777777777778,
             "#fb9f3a"
            ],
            [
             0.8888888888888888,
             "#fdca26"
            ],
            [
             1,
             "#f0f921"
            ]
           ]
          },
          "colorway": [
           "#636efa",
           "#EF553B",
           "#00cc96",
           "#ab63fa",
           "#FFA15A",
           "#19d3f3",
           "#FF6692",
           "#B6E880",
           "#FF97FF",
           "#FECB52"
          ],
          "font": {
           "color": "#2a3f5f"
          },
          "geo": {
           "bgcolor": "white",
           "lakecolor": "white",
           "landcolor": "#E5ECF6",
           "showlakes": true,
           "showland": true,
           "subunitcolor": "white"
          },
          "hoverlabel": {
           "align": "left"
          },
          "hovermode": "closest",
          "mapbox": {
           "style": "light"
          },
          "paper_bgcolor": "white",
          "plot_bgcolor": "#E5ECF6",
          "polar": {
           "angularaxis": {
            "gridcolor": "white",
            "linecolor": "white",
            "ticks": ""
           },
           "bgcolor": "#E5ECF6",
           "radialaxis": {
            "gridcolor": "white",
            "linecolor": "white",
            "ticks": ""
           }
          },
          "scene": {
           "xaxis": {
            "backgroundcolor": "#E5ECF6",
            "gridcolor": "white",
            "gridwidth": 2,
            "linecolor": "white",
            "showbackground": true,
            "ticks": "",
            "zerolinecolor": "white"
           },
           "yaxis": {
            "backgroundcolor": "#E5ECF6",
            "gridcolor": "white",
            "gridwidth": 2,
            "linecolor": "white",
            "showbackground": true,
            "ticks": "",
            "zerolinecolor": "white"
           },
           "zaxis": {
            "backgroundcolor": "#E5ECF6",
            "gridcolor": "white",
            "gridwidth": 2,
            "linecolor": "white",
            "showbackground": true,
            "ticks": "",
            "zerolinecolor": "white"
           }
          },
          "shapedefaults": {
           "line": {
            "color": "#2a3f5f"
           }
          },
          "ternary": {
           "aaxis": {
            "gridcolor": "white",
            "linecolor": "white",
            "ticks": ""
           },
           "baxis": {
            "gridcolor": "white",
            "linecolor": "white",
            "ticks": ""
           },
           "bgcolor": "#E5ECF6",
           "caxis": {
            "gridcolor": "white",
            "linecolor": "white",
            "ticks": ""
           }
          },
          "title": {
           "x": 0.05
          },
          "xaxis": {
           "automargin": true,
           "gridcolor": "white",
           "linecolor": "white",
           "ticks": "",
           "title": {
            "standoff": 15
           },
           "zerolinecolor": "white",
           "zerolinewidth": 2
          },
          "yaxis": {
           "automargin": true,
           "gridcolor": "white",
           "linecolor": "white",
           "ticks": "",
           "title": {
            "standoff": 15
           },
           "zerolinecolor": "white",
           "zerolinewidth": 2
          }
         }
        },
        "title": {
         "text": "Employee within 10 km radius"
        },
        "width": 800
       }
      },
      "text/html": [
       "<div>                            <div id=\"9077fcb4-2f4e-4af0-9766-848625c2d303\" class=\"plotly-graph-div\" style=\"height:800px; width:800px;\"></div>            <script type=\"text/javascript\">                require([\"plotly\"], function(Plotly) {                    window.PLOTLYENV=window.PLOTLYENV || {};                                    if (document.getElementById(\"9077fcb4-2f4e-4af0-9766-848625c2d303\")) {                    Plotly.newPlot(                        \"9077fcb4-2f4e-4af0-9766-848625c2d303\",                        [{\"customdata\": [[0]], \"geo\": \"geo\", \"hovertemplate\": \"<b>%{hovertext}</b><br><br>Name=Head quater<br>Yearly_avg_income=%{marker.size}<br>Latitude=%{lat}<br>Longitude=%{lon}<br>distance_to_headquater_km=%{customdata[0]}<extra></extra>\", \"hovertext\": [\"Head quater\"], \"lat\": [60.1807142], \"legendgroup\": \"Head quater\", \"lon\": [24.8318569], \"marker\": {\"color\": \"#636efa\", \"opacity\": 0.5, \"size\": [13650.0], \"sizemode\": \"area\", \"sizeref\": 159.7975, \"symbol\": \"circle\"}, \"mode\": \"markers\", \"name\": \"Head quater\", \"showlegend\": true, \"type\": \"scattergeo\"}, {\"customdata\": [[8]], \"geo\": \"geo\", \"hovertemplate\": \"<b>%{hovertext}</b><br><br>Name=Aneesah Mullen<br>Yearly_avg_income=%{marker.size}<br>Latitude=%{lat}<br>Longitude=%{lon}<br>distance_to_headquater_km=%{customdata[0]}<extra></extra>\", \"hovertext\": [\"Aneesah Mullen\"], \"lat\": [60.25180600000001], \"legendgroup\": \"Aneesah Mullen\", \"lon\": [24.880692800000002], \"marker\": {\"color\": \"#EF553B\", \"opacity\": 0.5, \"size\": [23733.0], \"sizemode\": \"area\", \"sizeref\": 159.7975, \"symbol\": \"circle\"}, \"mode\": \"markers\", \"name\": \"Aneesah Mullen\", \"showlegend\": true, \"type\": \"scattergeo\"}, {\"customdata\": [[9]], \"geo\": \"geo\", \"hovertemplate\": \"<b>%{hovertext}</b><br><br>Name=Asmaa Holder<br>Yearly_avg_income=%{marker.size}<br>Latitude=%{lat}<br>Longitude=%{lon}<br>distance_to_headquater_km=%{customdata[0]}<extra></extra>\", \"hovertext\": [\"Asmaa Holder\"], \"lat\": [60.1680628], \"legendgroup\": \"Asmaa Holder\", \"lon\": [24.6784426], \"marker\": {\"color\": \"#00cc96\", \"opacity\": 0.5, \"size\": [31112.0], \"sizemode\": \"area\", \"sizeref\": 159.7975, \"symbol\": \"circle\"}, \"mode\": \"markers\", \"name\": \"Asmaa Holder\", \"showlegend\": true, \"type\": \"scattergeo\"}, {\"customdata\": [[1]], \"geo\": \"geo\", \"hovertemplate\": \"<b>%{hovertext}</b><br><br>Name=Carol Guzman<br>Yearly_avg_income=%{marker.size}<br>Latitude=%{lat}<br>Longitude=%{lon}<br>distance_to_headquater_km=%{customdata[0]}<extra></extra>\", \"hovertext\": [\"Carol Guzman\"], \"lat\": [60.1786116], \"legendgroup\": \"Carol Guzman\", \"lon\": [24.8536462], \"marker\": {\"color\": \"#ab63fa\", \"opacity\": 0.5, \"size\": [63919.0], \"sizemode\": \"area\", \"sizeref\": 159.7975, \"symbol\": \"circle\"}, \"mode\": \"markers\", \"name\": \"Carol Guzman\", \"showlegend\": true, \"type\": \"scattergeo\"}, {\"customdata\": [[5]], \"geo\": \"geo\", \"hovertemplate\": \"<b>%{hovertext}</b><br><br>Name=Charles Ayers<br>Yearly_avg_income=%{marker.size}<br>Latitude=%{lat}<br>Longitude=%{lon}<br>distance_to_headquater_km=%{customdata[0]}<extra></extra>\", \"hovertext\": [\"Charles Ayers\"], \"lat\": [60.157990399999996], \"legendgroup\": \"Charles Ayers\", \"lon\": [24.9126423], \"marker\": {\"color\": \"#FFA15A\", \"opacity\": 0.5, \"size\": [29708.0], \"sizemode\": \"area\", \"sizeref\": 159.7975, \"symbol\": \"circle\"}, \"mode\": \"markers\", \"name\": \"Charles Ayers\", \"showlegend\": true, \"type\": \"scattergeo\"}, {\"customdata\": [[7]], \"geo\": \"geo\", \"hovertemplate\": \"<b>%{hovertext}</b><br><br>Name=Christina Garcia<br>Yearly_avg_income=%{marker.size}<br>Latitude=%{lat}<br>Longitude=%{lon}<br>distance_to_headquater_km=%{customdata[0]}<extra></extra>\", \"hovertext\": [\"Christina Garcia\"], \"lat\": [60.2370959], \"legendgroup\": \"Christina Garcia\", \"lon\": [24.7719897], \"marker\": {\"color\": \"#19d3f3\", \"opacity\": 0.5, \"size\": [30647.0], \"sizemode\": \"area\", \"sizeref\": 159.7975, \"symbol\": \"circle\"}, \"mode\": \"markers\", \"name\": \"Christina Garcia\", \"showlegend\": true, \"type\": \"scattergeo\"}, {\"customdata\": [[6]], \"geo\": \"geo\", \"hovertemplate\": \"<b>%{hovertext}</b><br><br>Name=Coral Elliott<br>Yearly_avg_income=%{marker.size}<br>Latitude=%{lat}<br>Longitude=%{lon}<br>distance_to_headquater_km=%{customdata[0]}<extra></extra>\", \"hovertext\": [\"Coral Elliott\"], \"lat\": [60.23224870000001], \"legendgroup\": \"Coral Elliott\", \"lon\": [24.885951000000002], \"marker\": {\"color\": \"#FF6692\", \"opacity\": 0.5, \"size\": [26106.0], \"sizemode\": \"area\", \"sizeref\": 159.7975, \"symbol\": \"circle\"}, \"mode\": \"markers\", \"name\": \"Coral Elliott\", \"showlegend\": true, \"type\": \"scattergeo\"}, {\"customdata\": [[9]], \"geo\": \"geo\", \"hovertemplate\": \"<b>%{hovertext}</b><br><br>Name=Ella-Rose Pike<br>Yearly_avg_income=%{marker.size}<br>Latitude=%{lat}<br>Longitude=%{lon}<br>distance_to_headquater_km=%{customdata[0]}<extra></extra>\", \"hovertext\": [\"Ella-Rose Pike\"], \"lat\": [60.15743739999999], \"legendgroup\": \"Ella-Rose Pike\", \"lon\": [24.6696807], \"marker\": {\"color\": \"#B6E880\", \"opacity\": 0.5, \"size\": [43507.0], \"sizemode\": \"area\", \"sizeref\": 159.7975, \"symbol\": \"circle\"}, \"mode\": \"markers\", \"name\": \"Ella-Rose Pike\", \"showlegend\": true, \"type\": \"scattergeo\"}, {\"customdata\": [[10]], \"geo\": \"geo\", \"hovertemplate\": \"<b>%{hovertext}</b><br><br>Name=Enzo Calvert<br>Yearly_avg_income=%{marker.size}<br>Latitude=%{lat}<br>Longitude=%{lon}<br>distance_to_headquater_km=%{customdata[0]}<extra></extra>\", \"hovertext\": [\"Enzo Calvert\"], \"lat\": [60.127565100000005], \"legendgroup\": \"Enzo Calvert\", \"lon\": [24.6796284], \"marker\": {\"color\": \"#FF97FF\", \"opacity\": 0.5, \"size\": [33055.0], \"sizemode\": \"area\", \"sizeref\": 159.7975, \"symbol\": \"circle\"}, \"mode\": \"markers\", \"name\": \"Enzo Calvert\", \"showlegend\": true, \"type\": \"scattergeo\"}, {\"customdata\": [[6]], \"geo\": \"geo\", \"hovertemplate\": \"<b>%{hovertext}</b><br><br>Name=Harvey-Lee Kemp<br>Yearly_avg_income=%{marker.size}<br>Latitude=%{lat}<br>Longitude=%{lon}<br>distance_to_headquater_km=%{customdata[0]}<extra></extra>\", \"hovertext\": [\"Harvey-Lee Kemp\"], \"lat\": [60.22805940000001], \"legendgroup\": \"Harvey-Lee Kemp\", \"lon\": [24.8629764], \"marker\": {\"color\": \"#FECB52\", \"opacity\": 0.5, \"size\": [27228.0], \"sizemode\": \"area\", \"sizeref\": 159.7975, \"symbol\": \"circle\"}, \"mode\": \"markers\", \"name\": \"Harvey-Lee Kemp\", \"showlegend\": true, \"type\": \"scattergeo\"}, {\"customdata\": [[6]], \"geo\": \"geo\", \"hovertemplate\": \"<b>%{hovertext}</b><br><br>Name=Heath Salgado<br>Yearly_avg_income=%{marker.size}<br>Latitude=%{lat}<br>Longitude=%{lon}<br>distance_to_headquater_km=%{customdata[0]}<extra></extra>\", \"hovertext\": [\"Heath Salgado\"], \"lat\": [60.193324], \"legendgroup\": \"Heath Salgado\", \"lon\": [24.940324899999997], \"marker\": {\"color\": \"#636efa\", \"opacity\": 0.5, \"size\": [27130.0], \"sizemode\": \"area\", \"sizeref\": 159.7975, \"symbol\": \"circle\"}, \"mode\": \"markers\", \"name\": \"Heath Salgado\", \"showlegend\": true, \"type\": \"scattergeo\"}, {\"customdata\": [[7]], \"geo\": \"geo\", \"hovertemplate\": \"<b>%{hovertext}</b><br><br>Name=Herbert Palmer<br>Yearly_avg_income=%{marker.size}<br>Latitude=%{lat}<br>Longitude=%{lon}<br>distance_to_headquater_km=%{customdata[0]}<extra></extra>\", \"hovertext\": [\"Herbert Palmer\"], \"lat\": [60.164606799999994], \"legendgroup\": \"Herbert Palmer\", \"lon\": [24.9462116], \"marker\": {\"color\": \"#EF553B\", \"opacity\": 0.5, \"size\": [61933.0], \"sizemode\": \"area\", \"sizeref\": 159.7975, \"symbol\": \"circle\"}, \"mode\": \"markers\", \"name\": \"Herbert Palmer\", \"showlegend\": true, \"type\": \"scattergeo\"}, {\"customdata\": [[7]], \"geo\": \"geo\", \"hovertemplate\": \"<b>%{hovertext}</b><br><br>Name=Jarod Thompson<br>Yearly_avg_income=%{marker.size}<br>Latitude=%{lat}<br>Longitude=%{lon}<br>distance_to_headquater_km=%{customdata[0]}<extra></extra>\", \"hovertext\": [\"Jarod Thompson\"], \"lat\": [60.2211777], \"legendgroup\": \"Jarod Thompson\", \"lon\": [24.937147500000002], \"marker\": {\"color\": \"#00cc96\", \"opacity\": 0.5, \"size\": [32402.0], \"sizemode\": \"area\", \"sizeref\": 159.7975, \"symbol\": \"circle\"}, \"mode\": \"markers\", \"name\": \"Jarod Thompson\", \"showlegend\": true, \"type\": \"scattergeo\"}, {\"customdata\": [[2]], \"geo\": \"geo\", \"hovertemplate\": \"<b>%{hovertext}</b><br><br>Name=Jasleen Bates<br>Yearly_avg_income=%{marker.size}<br>Latitude=%{lat}<br>Longitude=%{lon}<br>distance_to_headquater_km=%{customdata[0]}<extra></extra>\", \"hovertext\": [\"Jasleen Bates\"], \"lat\": [60.1861865], \"legendgroup\": \"Jasleen Bates\", \"lon\": [24.7973183], \"marker\": {\"color\": \"#ab63fa\", \"opacity\": 0.5, \"size\": [41010.0], \"sizemode\": \"area\", \"sizeref\": 159.7975, \"symbol\": \"circle\"}, \"mode\": \"markers\", \"name\": \"Jasleen Bates\", \"showlegend\": true, \"type\": \"scattergeo\"}, {\"customdata\": [[8]], \"geo\": \"geo\", \"hovertemplate\": \"<b>%{hovertext}</b><br><br>Name=Jolene Gray<br>Yearly_avg_income=%{marker.size}<br>Latitude=%{lat}<br>Longitude=%{lon}<br>distance_to_headquater_km=%{customdata[0]}<extra></extra>\", \"hovertext\": [\"Jolene Gray\"], \"lat\": [60.1989078], \"legendgroup\": \"Jolene Gray\", \"lon\": [24.963253299999998], \"marker\": {\"color\": \"#FFA15A\", \"opacity\": 0.5, \"size\": [24800.0], \"sizemode\": \"area\", \"sizeref\": 159.7975, \"symbol\": \"circle\"}, \"mode\": \"markers\", \"name\": \"Jolene Gray\", \"showlegend\": true, \"type\": \"scattergeo\"}, {\"customdata\": [[9]], \"geo\": \"geo\", \"hovertemplate\": \"<b>%{hovertext}</b><br><br>Name=Katarina Estes<br>Yearly_avg_income=%{marker.size}<br>Latitude=%{lat}<br>Longitude=%{lon}<br>distance_to_headquater_km=%{customdata[0]}<extra></extra>\", \"hovertext\": [\"Katarina Estes\"], \"lat\": [60.1949914], \"legendgroup\": \"Katarina Estes\", \"lon\": [24.6737462], \"marker\": {\"color\": \"#19d3f3\", \"opacity\": 0.5, \"size\": [26665.0], \"sizemode\": \"area\", \"sizeref\": 159.7975, \"symbol\": \"circle\"}, \"mode\": \"markers\", \"name\": \"Katarina Estes\", \"showlegend\": true, \"type\": \"scattergeo\"}, {\"customdata\": [[7]], \"geo\": \"geo\", \"hovertemplate\": \"<b>%{hovertext}</b><br><br>Name=Lacie-Mae Smart<br>Yearly_avg_income=%{marker.size}<br>Latitude=%{lat}<br>Longitude=%{lon}<br>distance_to_headquater_km=%{customdata[0]}<extra></extra>\", \"hovertext\": [\"Lacie-Mae Smart\"], \"lat\": [60.241372], \"legendgroup\": \"Lacie-Mae Smart\", \"lon\": [24.8439018], \"marker\": {\"color\": \"#FF6692\", \"opacity\": 0.5, \"size\": [27196.0], \"sizemode\": \"area\", \"sizeref\": 159.7975, \"symbol\": \"circle\"}, \"mode\": \"markers\", \"name\": \"Lacie-Mae Smart\", \"showlegend\": true, \"type\": \"scattergeo\"}, {\"customdata\": [[6]], \"geo\": \"geo\", \"hovertemplate\": \"<b>%{hovertext}</b><br><br>Name=Liya Thorpe<br>Yearly_avg_income=%{marker.size}<br>Latitude=%{lat}<br>Longitude=%{lon}<br>distance_to_headquater_km=%{customdata[0]}<extra></extra>\", \"hovertext\": [\"Liya Thorpe\"], \"lat\": [60.1914441], \"legendgroup\": \"Liya Thorpe\", \"lon\": [24.946947899999998], \"marker\": {\"color\": \"#B6E880\", \"opacity\": 0.5, \"size\": [27408.0], \"sizemode\": \"area\", \"sizeref\": 159.7975, \"symbol\": \"circle\"}, \"mode\": \"markers\", \"name\": \"Liya Thorpe\", \"showlegend\": true, \"type\": \"scattergeo\"}, {\"customdata\": [[9]], \"geo\": \"geo\", \"hovertemplate\": \"<b>%{hovertext}</b><br><br>Name=Luis Mcdermott<br>Yearly_avg_income=%{marker.size}<br>Latitude=%{lat}<br>Longitude=%{lon}<br>distance_to_headquater_km=%{customdata[0]}<extra></extra>\", \"hovertext\": [\"Luis Mcdermott\"], \"lat\": [60.260740399999996], \"legendgroup\": \"Luis Mcdermott\", \"lon\": [24.8869819], \"marker\": {\"color\": \"#FF97FF\", \"opacity\": 0.5, \"size\": [31401.0], \"sizemode\": \"area\", \"sizeref\": 159.7975, \"symbol\": \"circle\"}, \"mode\": \"markers\", \"name\": \"Luis Mcdermott\", \"showlegend\": true, \"type\": \"scattergeo\"}, {\"customdata\": [[9]], \"geo\": \"geo\", \"hovertemplate\": \"<b>%{hovertext}</b><br><br>Name=Musab Webb<br>Yearly_avg_income=%{marker.size}<br>Latitude=%{lat}<br>Longitude=%{lon}<br>distance_to_headquater_km=%{customdata[0]}<extra></extra>\", \"hovertext\": [\"Musab Webb\"], \"lat\": [60.256322], \"legendgroup\": \"Musab Webb\", \"lon\": [24.806179999999998], \"marker\": {\"color\": \"#FECB52\", \"opacity\": 0.5, \"size\": [25618.0], \"sizemode\": \"area\", \"sizeref\": 159.7975, \"symbol\": \"circle\"}, \"mode\": \"markers\", \"name\": \"Musab Webb\", \"showlegend\": true, \"type\": \"scattergeo\"}, {\"customdata\": [[8]], \"geo\": \"geo\", \"hovertemplate\": \"<b>%{hovertext}</b><br><br>Name=Preston King<br>Yearly_avg_income=%{marker.size}<br>Latitude=%{lat}<br>Longitude=%{lon}<br>distance_to_headquater_km=%{customdata[0]}<extra></extra>\", \"hovertext\": [\"Preston King\"], \"lat\": [60.166647399999995], \"legendgroup\": \"Preston King\", \"lon\": [24.9697], \"marker\": {\"color\": \"#636efa\", \"opacity\": 0.5, \"size\": [44623.0], \"sizemode\": \"area\", \"sizeref\": 159.7975, \"symbol\": \"circle\"}, \"mode\": \"markers\", \"name\": \"Preston King\", \"showlegend\": true, \"type\": \"scattergeo\"}, {\"customdata\": [[7]], \"geo\": \"geo\", \"hovertemplate\": \"<b>%{hovertext}</b><br><br>Name=Rivka Doherty<br>Yearly_avg_income=%{marker.size}<br>Latitude=%{lat}<br>Longitude=%{lon}<br>distance_to_headquater_km=%{customdata[0]}<extra></extra>\", \"hovertext\": [\"Rivka Doherty\"], \"lat\": [60.2285996], \"legendgroup\": \"Rivka Doherty\", \"lon\": [24.744829], \"marker\": {\"color\": \"#EF553B\", \"opacity\": 0.5, \"size\": [31223.0], \"sizemode\": \"area\", \"sizeref\": 159.7975, \"symbol\": \"circle\"}, \"mode\": \"markers\", \"name\": \"Rivka Doherty\", \"showlegend\": true, \"type\": \"scattergeo\"}, {\"customdata\": [[6]], \"geo\": \"geo\", \"hovertemplate\": \"<b>%{hovertext}</b><br><br>Name=Tahmid Adam<br>Yearly_avg_income=%{marker.size}<br>Latitude=%{lat}<br>Longitude=%{lon}<br>distance_to_headquater_km=%{customdata[0]}<extra></extra>\", \"hovertext\": [\"Tahmid Adam\"], \"lat\": [60.172562199999994], \"legendgroup\": \"Tahmid Adam\", \"lon\": [24.947241899999998], \"marker\": {\"color\": \"#00cc96\", \"opacity\": 0.5, \"size\": [41681.0], \"sizemode\": \"area\", \"sizeref\": 159.7975, \"symbol\": \"circle\"}, \"mode\": \"markers\", \"name\": \"Tahmid Adam\", \"showlegend\": true, \"type\": \"scattergeo\"}, {\"customdata\": [[6]], \"geo\": \"geo\", \"hovertemplate\": \"<b>%{hovertext}</b><br><br>Name=Umaiza French<br>Yearly_avg_income=%{marker.size}<br>Latitude=%{lat}<br>Longitude=%{lon}<br>distance_to_headquater_km=%{customdata[0]}<extra></extra>\", \"hovertext\": [\"Umaiza French\"], \"lat\": [60.16979499999999], \"legendgroup\": \"Umaiza French\", \"lon\": [24.9419824], \"marker\": {\"color\": \"#ab63fa\", \"opacity\": 0.5, \"size\": [41681.0], \"sizemode\": \"area\", \"sizeref\": 159.7975, \"symbol\": \"circle\"}, \"mode\": \"markers\", \"name\": \"Umaiza French\", \"showlegend\": true, \"type\": \"scattergeo\"}, {\"customdata\": [[7]], \"geo\": \"geo\", \"hovertemplate\": \"<b>%{hovertext}</b><br><br>Name=Una Amin<br>Yearly_avg_income=%{marker.size}<br>Latitude=%{lat}<br>Longitude=%{lon}<br>distance_to_headquater_km=%{customdata[0]}<extra></extra>\", \"hovertext\": [\"Una Amin\"], \"lat\": [60.17298910000001], \"legendgroup\": \"Una Amin\", \"lon\": [24.7106264], \"marker\": {\"color\": \"#FFA15A\", \"opacity\": 0.5, \"size\": [30085.0], \"sizemode\": \"area\", \"sizeref\": 159.7975, \"symbol\": \"circle\"}, \"mode\": \"markers\", \"name\": \"Una Amin\", \"showlegend\": true, \"type\": \"scattergeo\"}, {\"customdata\": [[6]], \"geo\": \"geo\", \"hovertemplate\": \"<b>%{hovertext}</b><br><br>Name=Zahara Mac<br>Yearly_avg_income=%{marker.size}<br>Latitude=%{lat}<br>Longitude=%{lon}<br>distance_to_headquater_km=%{customdata[0]}<extra></extra>\", \"hovertext\": [\"Zahara Mac\"], \"lat\": [60.176894299999994], \"legendgroup\": \"Zahara Mac\", \"lon\": [24.724852600000002], \"marker\": {\"color\": \"#19d3f3\", \"opacity\": 0.5, \"size\": [30085.0], \"sizemode\": \"area\", \"sizeref\": 159.7975, \"symbol\": \"circle\"}, \"mode\": \"markers\", \"name\": \"Zahara Mac\", \"showlegend\": true, \"type\": \"scattergeo\"}],                        {\"geo\": {\"center\": {\"lat\": 60, \"lon\": 24}, \"domain\": {\"x\": [0.0, 1.0], \"y\": [0.0, 1.0]}, \"projection\": {\"type\": \"mercator\"}, \"scope\": \"europe\", \"visible\": true}, \"height\": 800, \"legend\": {\"itemsizing\": \"constant\", \"title\": {\"text\": \"Name\"}, \"tracegroupgap\": 0}, \"template\": {\"data\": {\"bar\": [{\"error_x\": {\"color\": \"#2a3f5f\"}, \"error_y\": {\"color\": \"#2a3f5f\"}, \"marker\": {\"line\": {\"color\": \"#E5ECF6\", \"width\": 0.5}}, \"type\": \"bar\"}], \"barpolar\": [{\"marker\": {\"line\": {\"color\": \"#E5ECF6\", \"width\": 0.5}}, \"type\": \"barpolar\"}], \"carpet\": [{\"aaxis\": {\"endlinecolor\": \"#2a3f5f\", \"gridcolor\": \"white\", \"linecolor\": \"white\", \"minorgridcolor\": \"white\", \"startlinecolor\": \"#2a3f5f\"}, \"baxis\": {\"endlinecolor\": \"#2a3f5f\", \"gridcolor\": \"white\", \"linecolor\": \"white\", \"minorgridcolor\": \"white\", \"startlinecolor\": \"#2a3f5f\"}, \"type\": \"carpet\"}], \"choropleth\": [{\"colorbar\": {\"outlinewidth\": 0, \"ticks\": \"\"}, \"type\": \"choropleth\"}], \"contour\": [{\"colorbar\": {\"outlinewidth\": 0, \"ticks\": \"\"}, \"colorscale\": [[0.0, \"#0d0887\"], [0.1111111111111111, \"#46039f\"], [0.2222222222222222, \"#7201a8\"], [0.3333333333333333, \"#9c179e\"], [0.4444444444444444, \"#bd3786\"], [0.5555555555555556, \"#d8576b\"], [0.6666666666666666, \"#ed7953\"], [0.7777777777777778, \"#fb9f3a\"], [0.8888888888888888, \"#fdca26\"], [1.0, \"#f0f921\"]], \"type\": \"contour\"}], \"contourcarpet\": [{\"colorbar\": {\"outlinewidth\": 0, \"ticks\": \"\"}, \"type\": \"contourcarpet\"}], \"heatmap\": [{\"colorbar\": {\"outlinewidth\": 0, \"ticks\": \"\"}, \"colorscale\": [[0.0, \"#0d0887\"], [0.1111111111111111, \"#46039f\"], [0.2222222222222222, \"#7201a8\"], [0.3333333333333333, \"#9c179e\"], [0.4444444444444444, \"#bd3786\"], [0.5555555555555556, \"#d8576b\"], [0.6666666666666666, \"#ed7953\"], [0.7777777777777778, \"#fb9f3a\"], [0.8888888888888888, \"#fdca26\"], [1.0, \"#f0f921\"]], \"type\": \"heatmap\"}], \"heatmapgl\": [{\"colorbar\": {\"outlinewidth\": 0, \"ticks\": \"\"}, \"colorscale\": [[0.0, \"#0d0887\"], [0.1111111111111111, \"#46039f\"], [0.2222222222222222, \"#7201a8\"], [0.3333333333333333, \"#9c179e\"], [0.4444444444444444, \"#bd3786\"], [0.5555555555555556, \"#d8576b\"], [0.6666666666666666, \"#ed7953\"], [0.7777777777777778, \"#fb9f3a\"], [0.8888888888888888, \"#fdca26\"], [1.0, \"#f0f921\"]], \"type\": \"heatmapgl\"}], \"histogram\": [{\"marker\": {\"colorbar\": {\"outlinewidth\": 0, \"ticks\": \"\"}}, \"type\": \"histogram\"}], \"histogram2d\": [{\"colorbar\": {\"outlinewidth\": 0, \"ticks\": \"\"}, \"colorscale\": [[0.0, \"#0d0887\"], [0.1111111111111111, \"#46039f\"], [0.2222222222222222, \"#7201a8\"], [0.3333333333333333, \"#9c179e\"], [0.4444444444444444, \"#bd3786\"], [0.5555555555555556, \"#d8576b\"], [0.6666666666666666, \"#ed7953\"], [0.7777777777777778, \"#fb9f3a\"], [0.8888888888888888, \"#fdca26\"], [1.0, \"#f0f921\"]], \"type\": \"histogram2d\"}], \"histogram2dcontour\": [{\"colorbar\": {\"outlinewidth\": 0, \"ticks\": \"\"}, \"colorscale\": [[0.0, \"#0d0887\"], [0.1111111111111111, \"#46039f\"], [0.2222222222222222, \"#7201a8\"], [0.3333333333333333, \"#9c179e\"], [0.4444444444444444, \"#bd3786\"], [0.5555555555555556, \"#d8576b\"], [0.6666666666666666, \"#ed7953\"], [0.7777777777777778, \"#fb9f3a\"], [0.8888888888888888, \"#fdca26\"], [1.0, \"#f0f921\"]], \"type\": \"histogram2dcontour\"}], \"mesh3d\": [{\"colorbar\": {\"outlinewidth\": 0, \"ticks\": \"\"}, \"type\": \"mesh3d\"}], \"parcoords\": [{\"line\": {\"colorbar\": {\"outlinewidth\": 0, \"ticks\": \"\"}}, \"type\": \"parcoords\"}], \"pie\": [{\"automargin\": true, \"type\": \"pie\"}], \"scatter\": [{\"marker\": {\"colorbar\": {\"outlinewidth\": 0, \"ticks\": \"\"}}, \"type\": \"scatter\"}], \"scatter3d\": [{\"line\": {\"colorbar\": {\"outlinewidth\": 0, \"ticks\": \"\"}}, \"marker\": {\"colorbar\": {\"outlinewidth\": 0, \"ticks\": \"\"}}, \"type\": \"scatter3d\"}], \"scattercarpet\": [{\"marker\": {\"colorbar\": {\"outlinewidth\": 0, \"ticks\": \"\"}}, \"type\": \"scattercarpet\"}], \"scattergeo\": [{\"marker\": {\"colorbar\": {\"outlinewidth\": 0, \"ticks\": \"\"}}, \"type\": \"scattergeo\"}], \"scattergl\": [{\"marker\": {\"colorbar\": {\"outlinewidth\": 0, \"ticks\": \"\"}}, \"type\": \"scattergl\"}], \"scattermapbox\": [{\"marker\": {\"colorbar\": {\"outlinewidth\": 0, \"ticks\": \"\"}}, \"type\": \"scattermapbox\"}], \"scatterpolar\": [{\"marker\": {\"colorbar\": {\"outlinewidth\": 0, \"ticks\": \"\"}}, \"type\": \"scatterpolar\"}], \"scatterpolargl\": [{\"marker\": {\"colorbar\": {\"outlinewidth\": 0, \"ticks\": \"\"}}, \"type\": \"scatterpolargl\"}], \"scatterternary\": [{\"marker\": {\"colorbar\": {\"outlinewidth\": 0, \"ticks\": \"\"}}, \"type\": \"scatterternary\"}], \"surface\": [{\"colorbar\": {\"outlinewidth\": 0, \"ticks\": \"\"}, \"colorscale\": [[0.0, \"#0d0887\"], [0.1111111111111111, \"#46039f\"], [0.2222222222222222, \"#7201a8\"], [0.3333333333333333, \"#9c179e\"], [0.4444444444444444, \"#bd3786\"], [0.5555555555555556, \"#d8576b\"], [0.6666666666666666, \"#ed7953\"], [0.7777777777777778, \"#fb9f3a\"], [0.8888888888888888, \"#fdca26\"], [1.0, \"#f0f921\"]], \"type\": \"surface\"}], \"table\": [{\"cells\": {\"fill\": {\"color\": \"#EBF0F8\"}, \"line\": {\"color\": \"white\"}}, \"header\": {\"fill\": {\"color\": \"#C8D4E3\"}, \"line\": {\"color\": \"white\"}}, \"type\": \"table\"}]}, \"layout\": {\"annotationdefaults\": {\"arrowcolor\": \"#2a3f5f\", \"arrowhead\": 0, \"arrowwidth\": 1}, \"coloraxis\": {\"colorbar\": {\"outlinewidth\": 0, \"ticks\": \"\"}}, \"colorscale\": {\"diverging\": [[0, \"#8e0152\"], [0.1, \"#c51b7d\"], [0.2, \"#de77ae\"], [0.3, \"#f1b6da\"], [0.4, \"#fde0ef\"], [0.5, \"#f7f7f7\"], [0.6, \"#e6f5d0\"], [0.7, \"#b8e186\"], [0.8, \"#7fbc41\"], [0.9, \"#4d9221\"], [1, \"#276419\"]], \"sequential\": [[0.0, \"#0d0887\"], [0.1111111111111111, \"#46039f\"], [0.2222222222222222, \"#7201a8\"], [0.3333333333333333, \"#9c179e\"], [0.4444444444444444, \"#bd3786\"], [0.5555555555555556, \"#d8576b\"], [0.6666666666666666, \"#ed7953\"], [0.7777777777777778, \"#fb9f3a\"], [0.8888888888888888, \"#fdca26\"], [1.0, \"#f0f921\"]], \"sequentialminus\": [[0.0, \"#0d0887\"], [0.1111111111111111, \"#46039f\"], [0.2222222222222222, \"#7201a8\"], [0.3333333333333333, \"#9c179e\"], [0.4444444444444444, \"#bd3786\"], [0.5555555555555556, \"#d8576b\"], [0.6666666666666666, \"#ed7953\"], [0.7777777777777778, \"#fb9f3a\"], [0.8888888888888888, \"#fdca26\"], [1.0, \"#f0f921\"]]}, \"colorway\": [\"#636efa\", \"#EF553B\", \"#00cc96\", \"#ab63fa\", \"#FFA15A\", \"#19d3f3\", \"#FF6692\", \"#B6E880\", \"#FF97FF\", \"#FECB52\"], \"font\": {\"color\": \"#2a3f5f\"}, \"geo\": {\"bgcolor\": \"white\", \"lakecolor\": \"white\", \"landcolor\": \"#E5ECF6\", \"showlakes\": true, \"showland\": true, \"subunitcolor\": \"white\"}, \"hoverlabel\": {\"align\": \"left\"}, \"hovermode\": \"closest\", \"mapbox\": {\"style\": \"light\"}, \"paper_bgcolor\": \"white\", \"plot_bgcolor\": \"#E5ECF6\", \"polar\": {\"angularaxis\": {\"gridcolor\": \"white\", \"linecolor\": \"white\", \"ticks\": \"\"}, \"bgcolor\": \"#E5ECF6\", \"radialaxis\": {\"gridcolor\": \"white\", \"linecolor\": \"white\", \"ticks\": \"\"}}, \"scene\": {\"xaxis\": {\"backgroundcolor\": \"#E5ECF6\", \"gridcolor\": \"white\", \"gridwidth\": 2, \"linecolor\": \"white\", \"showbackground\": true, \"ticks\": \"\", \"zerolinecolor\": \"white\"}, \"yaxis\": {\"backgroundcolor\": \"#E5ECF6\", \"gridcolor\": \"white\", \"gridwidth\": 2, \"linecolor\": \"white\", \"showbackground\": true, \"ticks\": \"\", \"zerolinecolor\": \"white\"}, \"zaxis\": {\"backgroundcolor\": \"#E5ECF6\", \"gridcolor\": \"white\", \"gridwidth\": 2, \"linecolor\": \"white\", \"showbackground\": true, \"ticks\": \"\", \"zerolinecolor\": \"white\"}}, \"shapedefaults\": {\"line\": {\"color\": \"#2a3f5f\"}}, \"ternary\": {\"aaxis\": {\"gridcolor\": \"white\", \"linecolor\": \"white\", \"ticks\": \"\"}, \"baxis\": {\"gridcolor\": \"white\", \"linecolor\": \"white\", \"ticks\": \"\"}, \"bgcolor\": \"#E5ECF6\", \"caxis\": {\"gridcolor\": \"white\", \"linecolor\": \"white\", \"ticks\": \"\"}}, \"title\": {\"x\": 0.05}, \"xaxis\": {\"automargin\": true, \"gridcolor\": \"white\", \"linecolor\": \"white\", \"ticks\": \"\", \"title\": {\"standoff\": 15}, \"zerolinecolor\": \"white\", \"zerolinewidth\": 2}, \"yaxis\": {\"automargin\": true, \"gridcolor\": \"white\", \"linecolor\": \"white\", \"ticks\": \"\", \"title\": {\"standoff\": 15}, \"zerolinecolor\": \"white\", \"zerolinewidth\": 2}}}, \"title\": {\"text\": \"Employee within 10 km radius\"}, \"width\": 800},                        {\"responsive\": true}                    ).then(function(){\n",
       "                            \n",
       "var gd = document.getElementById('9077fcb4-2f4e-4af0-9766-848625c2d303');\n",
       "var x = new MutationObserver(function (mutations, observer) {{\n",
       "        var display = window.getComputedStyle(gd).display;\n",
       "        if (!display || display === 'none') {{\n",
       "            console.log([gd, 'removed!']);\n",
       "            Plotly.purge(gd);\n",
       "            observer.disconnect();\n",
       "        }}\n",
       "}});\n",
       "\n",
       "// Listen for the removal of the full notebook cells\n",
       "var notebookContainer = gd.closest('#notebook-container');\n",
       "if (notebookContainer) {{\n",
       "    x.observe(notebookContainer, {childList: true});\n",
       "}}\n",
       "\n",
       "// Listen for the clearing of the current output cell\n",
       "var outputEl = gd.closest('.output');\n",
       "if (outputEl) {{\n",
       "    x.observe(outputEl, {childList: true});\n",
       "}}\n",
       "\n",
       "                        })                };                });            </script>        </div>"
      ]
     },
     "metadata": {},
     "output_type": "display_data"
    }
   ],
   "source": [
    "plot_map(within_ten_km,'Name','Employee within 10 km radius')"
   ]
  },
  {
   "cell_type": "markdown",
   "metadata": {},
   "source": [
    "#### Wealthiest region employees among all the employees"
   ]
  },
  {
   "cell_type": "code",
   "execution_count": 24,
   "metadata": {
    "ExecuteTime": {
     "end_time": "2021-12-14T16:12:24.026916Z",
     "start_time": "2021-12-14T16:12:23.920913Z"
    }
   },
   "outputs": [
    {
     "data": {
      "application/vnd.plotly.v1+json": {
       "config": {
        "plotlyServerURL": "https://plot.ly"
       },
       "data": [
        {
         "customdata": [
          [
           1
          ]
         ],
         "geo": "geo",
         "hovertemplate": "<b>%{hovertext}</b><br><br>Name=Carol Guzman<br>Yearly_avg_income=%{marker.size}<br>Latitude=%{lat}<br>Longitude=%{lon}<br>distance_to_headquater_km=%{customdata[0]}<extra></extra>",
         "hovertext": [
          "Carol Guzman"
         ],
         "lat": [
          60.1786116
         ],
         "legendgroup": "Carol Guzman",
         "lon": [
          24.8536462
         ],
         "marker": {
          "color": "#636efa",
          "opacity": 0.5,
          "size": [
           63919
          ],
          "sizemode": "area",
          "sizeref": 159.7975,
          "symbol": "circle"
         },
         "mode": "markers",
         "name": "Carol Guzman",
         "showlegend": true,
         "type": "scattergeo"
        },
        {
         "customdata": [
          [
           7
          ]
         ],
         "geo": "geo",
         "hovertemplate": "<b>%{hovertext}</b><br><br>Name=Herbert Palmer<br>Yearly_avg_income=%{marker.size}<br>Latitude=%{lat}<br>Longitude=%{lon}<br>distance_to_headquater_km=%{customdata[0]}<extra></extra>",
         "hovertext": [
          "Herbert Palmer"
         ],
         "lat": [
          60.164606799999994
         ],
         "legendgroup": "Herbert Palmer",
         "lon": [
          24.9462116
         ],
         "marker": {
          "color": "#EF553B",
          "opacity": 0.5,
          "size": [
           61933
          ],
          "sizemode": "area",
          "sizeref": 159.7975,
          "symbol": "circle"
         },
         "mode": "markers",
         "name": "Herbert Palmer",
         "showlegend": true,
         "type": "scattergeo"
        },
        {
         "customdata": [
          [
           8
          ]
         ],
         "geo": "geo",
         "hovertemplate": "<b>%{hovertext}</b><br><br>Name=Preston King<br>Yearly_avg_income=%{marker.size}<br>Latitude=%{lat}<br>Longitude=%{lon}<br>distance_to_headquater_km=%{customdata[0]}<extra></extra>",
         "hovertext": [
          "Preston King"
         ],
         "lat": [
          60.166647399999995
         ],
         "legendgroup": "Preston King",
         "lon": [
          24.9697
         ],
         "marker": {
          "color": "#00cc96",
          "opacity": 0.5,
          "size": [
           44623
          ],
          "sizemode": "area",
          "sizeref": 159.7975,
          "symbol": "circle"
         },
         "mode": "markers",
         "name": "Preston King",
         "showlegend": true,
         "type": "scattergeo"
        }
       ],
       "layout": {
        "geo": {
         "center": {
          "lat": 60,
          "lon": 24
         },
         "domain": {
          "x": [
           0,
           1
          ],
          "y": [
           0,
           1
          ]
         },
         "projection": {
          "type": "mercator"
         },
         "scope": "europe",
         "visible": true
        },
        "height": 800,
        "legend": {
         "itemsizing": "constant",
         "title": {
          "text": "Name"
         },
         "tracegroupgap": 0
        },
        "template": {
         "data": {
          "bar": [
           {
            "error_x": {
             "color": "#2a3f5f"
            },
            "error_y": {
             "color": "#2a3f5f"
            },
            "marker": {
             "line": {
              "color": "#E5ECF6",
              "width": 0.5
             }
            },
            "type": "bar"
           }
          ],
          "barpolar": [
           {
            "marker": {
             "line": {
              "color": "#E5ECF6",
              "width": 0.5
             }
            },
            "type": "barpolar"
           }
          ],
          "carpet": [
           {
            "aaxis": {
             "endlinecolor": "#2a3f5f",
             "gridcolor": "white",
             "linecolor": "white",
             "minorgridcolor": "white",
             "startlinecolor": "#2a3f5f"
            },
            "baxis": {
             "endlinecolor": "#2a3f5f",
             "gridcolor": "white",
             "linecolor": "white",
             "minorgridcolor": "white",
             "startlinecolor": "#2a3f5f"
            },
            "type": "carpet"
           }
          ],
          "choropleth": [
           {
            "colorbar": {
             "outlinewidth": 0,
             "ticks": ""
            },
            "type": "choropleth"
           }
          ],
          "contour": [
           {
            "colorbar": {
             "outlinewidth": 0,
             "ticks": ""
            },
            "colorscale": [
             [
              0,
              "#0d0887"
             ],
             [
              0.1111111111111111,
              "#46039f"
             ],
             [
              0.2222222222222222,
              "#7201a8"
             ],
             [
              0.3333333333333333,
              "#9c179e"
             ],
             [
              0.4444444444444444,
              "#bd3786"
             ],
             [
              0.5555555555555556,
              "#d8576b"
             ],
             [
              0.6666666666666666,
              "#ed7953"
             ],
             [
              0.7777777777777778,
              "#fb9f3a"
             ],
             [
              0.8888888888888888,
              "#fdca26"
             ],
             [
              1,
              "#f0f921"
             ]
            ],
            "type": "contour"
           }
          ],
          "contourcarpet": [
           {
            "colorbar": {
             "outlinewidth": 0,
             "ticks": ""
            },
            "type": "contourcarpet"
           }
          ],
          "heatmap": [
           {
            "colorbar": {
             "outlinewidth": 0,
             "ticks": ""
            },
            "colorscale": [
             [
              0,
              "#0d0887"
             ],
             [
              0.1111111111111111,
              "#46039f"
             ],
             [
              0.2222222222222222,
              "#7201a8"
             ],
             [
              0.3333333333333333,
              "#9c179e"
             ],
             [
              0.4444444444444444,
              "#bd3786"
             ],
             [
              0.5555555555555556,
              "#d8576b"
             ],
             [
              0.6666666666666666,
              "#ed7953"
             ],
             [
              0.7777777777777778,
              "#fb9f3a"
             ],
             [
              0.8888888888888888,
              "#fdca26"
             ],
             [
              1,
              "#f0f921"
             ]
            ],
            "type": "heatmap"
           }
          ],
          "heatmapgl": [
           {
            "colorbar": {
             "outlinewidth": 0,
             "ticks": ""
            },
            "colorscale": [
             [
              0,
              "#0d0887"
             ],
             [
              0.1111111111111111,
              "#46039f"
             ],
             [
              0.2222222222222222,
              "#7201a8"
             ],
             [
              0.3333333333333333,
              "#9c179e"
             ],
             [
              0.4444444444444444,
              "#bd3786"
             ],
             [
              0.5555555555555556,
              "#d8576b"
             ],
             [
              0.6666666666666666,
              "#ed7953"
             ],
             [
              0.7777777777777778,
              "#fb9f3a"
             ],
             [
              0.8888888888888888,
              "#fdca26"
             ],
             [
              1,
              "#f0f921"
             ]
            ],
            "type": "heatmapgl"
           }
          ],
          "histogram": [
           {
            "marker": {
             "colorbar": {
              "outlinewidth": 0,
              "ticks": ""
             }
            },
            "type": "histogram"
           }
          ],
          "histogram2d": [
           {
            "colorbar": {
             "outlinewidth": 0,
             "ticks": ""
            },
            "colorscale": [
             [
              0,
              "#0d0887"
             ],
             [
              0.1111111111111111,
              "#46039f"
             ],
             [
              0.2222222222222222,
              "#7201a8"
             ],
             [
              0.3333333333333333,
              "#9c179e"
             ],
             [
              0.4444444444444444,
              "#bd3786"
             ],
             [
              0.5555555555555556,
              "#d8576b"
             ],
             [
              0.6666666666666666,
              "#ed7953"
             ],
             [
              0.7777777777777778,
              "#fb9f3a"
             ],
             [
              0.8888888888888888,
              "#fdca26"
             ],
             [
              1,
              "#f0f921"
             ]
            ],
            "type": "histogram2d"
           }
          ],
          "histogram2dcontour": [
           {
            "colorbar": {
             "outlinewidth": 0,
             "ticks": ""
            },
            "colorscale": [
             [
              0,
              "#0d0887"
             ],
             [
              0.1111111111111111,
              "#46039f"
             ],
             [
              0.2222222222222222,
              "#7201a8"
             ],
             [
              0.3333333333333333,
              "#9c179e"
             ],
             [
              0.4444444444444444,
              "#bd3786"
             ],
             [
              0.5555555555555556,
              "#d8576b"
             ],
             [
              0.6666666666666666,
              "#ed7953"
             ],
             [
              0.7777777777777778,
              "#fb9f3a"
             ],
             [
              0.8888888888888888,
              "#fdca26"
             ],
             [
              1,
              "#f0f921"
             ]
            ],
            "type": "histogram2dcontour"
           }
          ],
          "mesh3d": [
           {
            "colorbar": {
             "outlinewidth": 0,
             "ticks": ""
            },
            "type": "mesh3d"
           }
          ],
          "parcoords": [
           {
            "line": {
             "colorbar": {
              "outlinewidth": 0,
              "ticks": ""
             }
            },
            "type": "parcoords"
           }
          ],
          "pie": [
           {
            "automargin": true,
            "type": "pie"
           }
          ],
          "scatter": [
           {
            "marker": {
             "colorbar": {
              "outlinewidth": 0,
              "ticks": ""
             }
            },
            "type": "scatter"
           }
          ],
          "scatter3d": [
           {
            "line": {
             "colorbar": {
              "outlinewidth": 0,
              "ticks": ""
             }
            },
            "marker": {
             "colorbar": {
              "outlinewidth": 0,
              "ticks": ""
             }
            },
            "type": "scatter3d"
           }
          ],
          "scattercarpet": [
           {
            "marker": {
             "colorbar": {
              "outlinewidth": 0,
              "ticks": ""
             }
            },
            "type": "scattercarpet"
           }
          ],
          "scattergeo": [
           {
            "marker": {
             "colorbar": {
              "outlinewidth": 0,
              "ticks": ""
             }
            },
            "type": "scattergeo"
           }
          ],
          "scattergl": [
           {
            "marker": {
             "colorbar": {
              "outlinewidth": 0,
              "ticks": ""
             }
            },
            "type": "scattergl"
           }
          ],
          "scattermapbox": [
           {
            "marker": {
             "colorbar": {
              "outlinewidth": 0,
              "ticks": ""
             }
            },
            "type": "scattermapbox"
           }
          ],
          "scatterpolar": [
           {
            "marker": {
             "colorbar": {
              "outlinewidth": 0,
              "ticks": ""
             }
            },
            "type": "scatterpolar"
           }
          ],
          "scatterpolargl": [
           {
            "marker": {
             "colorbar": {
              "outlinewidth": 0,
              "ticks": ""
             }
            },
            "type": "scatterpolargl"
           }
          ],
          "scatterternary": [
           {
            "marker": {
             "colorbar": {
              "outlinewidth": 0,
              "ticks": ""
             }
            },
            "type": "scatterternary"
           }
          ],
          "surface": [
           {
            "colorbar": {
             "outlinewidth": 0,
             "ticks": ""
            },
            "colorscale": [
             [
              0,
              "#0d0887"
             ],
             [
              0.1111111111111111,
              "#46039f"
             ],
             [
              0.2222222222222222,
              "#7201a8"
             ],
             [
              0.3333333333333333,
              "#9c179e"
             ],
             [
              0.4444444444444444,
              "#bd3786"
             ],
             [
              0.5555555555555556,
              "#d8576b"
             ],
             [
              0.6666666666666666,
              "#ed7953"
             ],
             [
              0.7777777777777778,
              "#fb9f3a"
             ],
             [
              0.8888888888888888,
              "#fdca26"
             ],
             [
              1,
              "#f0f921"
             ]
            ],
            "type": "surface"
           }
          ],
          "table": [
           {
            "cells": {
             "fill": {
              "color": "#EBF0F8"
             },
             "line": {
              "color": "white"
             }
            },
            "header": {
             "fill": {
              "color": "#C8D4E3"
             },
             "line": {
              "color": "white"
             }
            },
            "type": "table"
           }
          ]
         },
         "layout": {
          "annotationdefaults": {
           "arrowcolor": "#2a3f5f",
           "arrowhead": 0,
           "arrowwidth": 1
          },
          "coloraxis": {
           "colorbar": {
            "outlinewidth": 0,
            "ticks": ""
           }
          },
          "colorscale": {
           "diverging": [
            [
             0,
             "#8e0152"
            ],
            [
             0.1,
             "#c51b7d"
            ],
            [
             0.2,
             "#de77ae"
            ],
            [
             0.3,
             "#f1b6da"
            ],
            [
             0.4,
             "#fde0ef"
            ],
            [
             0.5,
             "#f7f7f7"
            ],
            [
             0.6,
             "#e6f5d0"
            ],
            [
             0.7,
             "#b8e186"
            ],
            [
             0.8,
             "#7fbc41"
            ],
            [
             0.9,
             "#4d9221"
            ],
            [
             1,
             "#276419"
            ]
           ],
           "sequential": [
            [
             0,
             "#0d0887"
            ],
            [
             0.1111111111111111,
             "#46039f"
            ],
            [
             0.2222222222222222,
             "#7201a8"
            ],
            [
             0.3333333333333333,
             "#9c179e"
            ],
            [
             0.4444444444444444,
             "#bd3786"
            ],
            [
             0.5555555555555556,
             "#d8576b"
            ],
            [
             0.6666666666666666,
             "#ed7953"
            ],
            [
             0.7777777777777778,
             "#fb9f3a"
            ],
            [
             0.8888888888888888,
             "#fdca26"
            ],
            [
             1,
             "#f0f921"
            ]
           ],
           "sequentialminus": [
            [
             0,
             "#0d0887"
            ],
            [
             0.1111111111111111,
             "#46039f"
            ],
            [
             0.2222222222222222,
             "#7201a8"
            ],
            [
             0.3333333333333333,
             "#9c179e"
            ],
            [
             0.4444444444444444,
             "#bd3786"
            ],
            [
             0.5555555555555556,
             "#d8576b"
            ],
            [
             0.6666666666666666,
             "#ed7953"
            ],
            [
             0.7777777777777778,
             "#fb9f3a"
            ],
            [
             0.8888888888888888,
             "#fdca26"
            ],
            [
             1,
             "#f0f921"
            ]
           ]
          },
          "colorway": [
           "#636efa",
           "#EF553B",
           "#00cc96",
           "#ab63fa",
           "#FFA15A",
           "#19d3f3",
           "#FF6692",
           "#B6E880",
           "#FF97FF",
           "#FECB52"
          ],
          "font": {
           "color": "#2a3f5f"
          },
          "geo": {
           "bgcolor": "white",
           "lakecolor": "white",
           "landcolor": "#E5ECF6",
           "showlakes": true,
           "showland": true,
           "subunitcolor": "white"
          },
          "hoverlabel": {
           "align": "left"
          },
          "hovermode": "closest",
          "mapbox": {
           "style": "light"
          },
          "paper_bgcolor": "white",
          "plot_bgcolor": "#E5ECF6",
          "polar": {
           "angularaxis": {
            "gridcolor": "white",
            "linecolor": "white",
            "ticks": ""
           },
           "bgcolor": "#E5ECF6",
           "radialaxis": {
            "gridcolor": "white",
            "linecolor": "white",
            "ticks": ""
           }
          },
          "scene": {
           "xaxis": {
            "backgroundcolor": "#E5ECF6",
            "gridcolor": "white",
            "gridwidth": 2,
            "linecolor": "white",
            "showbackground": true,
            "ticks": "",
            "zerolinecolor": "white"
           },
           "yaxis": {
            "backgroundcolor": "#E5ECF6",
            "gridcolor": "white",
            "gridwidth": 2,
            "linecolor": "white",
            "showbackground": true,
            "ticks": "",
            "zerolinecolor": "white"
           },
           "zaxis": {
            "backgroundcolor": "#E5ECF6",
            "gridcolor": "white",
            "gridwidth": 2,
            "linecolor": "white",
            "showbackground": true,
            "ticks": "",
            "zerolinecolor": "white"
           }
          },
          "shapedefaults": {
           "line": {
            "color": "#2a3f5f"
           }
          },
          "ternary": {
           "aaxis": {
            "gridcolor": "white",
            "linecolor": "white",
            "ticks": ""
           },
           "baxis": {
            "gridcolor": "white",
            "linecolor": "white",
            "ticks": ""
           },
           "bgcolor": "#E5ECF6",
           "caxis": {
            "gridcolor": "white",
            "linecolor": "white",
            "ticks": ""
           }
          },
          "title": {
           "x": 0.05
          },
          "xaxis": {
           "automargin": true,
           "gridcolor": "white",
           "linecolor": "white",
           "ticks": "",
           "title": {
            "standoff": 15
           },
           "zerolinecolor": "white",
           "zerolinewidth": 2
          },
          "yaxis": {
           "automargin": true,
           "gridcolor": "white",
           "linecolor": "white",
           "ticks": "",
           "title": {
            "standoff": 15
           },
           "zerolinecolor": "white",
           "zerolinewidth": 2
          }
         }
        },
        "title": {
         "text": "Wealthiest Region Employee"
        },
        "width": 800
       }
      },
      "text/html": [
       "<div>                            <div id=\"ecadfacd-f53a-43c6-b3f9-2f810bad897a\" class=\"plotly-graph-div\" style=\"height:800px; width:800px;\"></div>            <script type=\"text/javascript\">                require([\"plotly\"], function(Plotly) {                    window.PLOTLYENV=window.PLOTLYENV || {};                                    if (document.getElementById(\"ecadfacd-f53a-43c6-b3f9-2f810bad897a\")) {                    Plotly.newPlot(                        \"ecadfacd-f53a-43c6-b3f9-2f810bad897a\",                        [{\"customdata\": [[1]], \"geo\": \"geo\", \"hovertemplate\": \"<b>%{hovertext}</b><br><br>Name=Carol Guzman<br>Yearly_avg_income=%{marker.size}<br>Latitude=%{lat}<br>Longitude=%{lon}<br>distance_to_headquater_km=%{customdata[0]}<extra></extra>\", \"hovertext\": [\"Carol Guzman\"], \"lat\": [60.1786116], \"legendgroup\": \"Carol Guzman\", \"lon\": [24.8536462], \"marker\": {\"color\": \"#636efa\", \"opacity\": 0.5, \"size\": [63919.0], \"sizemode\": \"area\", \"sizeref\": 159.7975, \"symbol\": \"circle\"}, \"mode\": \"markers\", \"name\": \"Carol Guzman\", \"showlegend\": true, \"type\": \"scattergeo\"}, {\"customdata\": [[7]], \"geo\": \"geo\", \"hovertemplate\": \"<b>%{hovertext}</b><br><br>Name=Herbert Palmer<br>Yearly_avg_income=%{marker.size}<br>Latitude=%{lat}<br>Longitude=%{lon}<br>distance_to_headquater_km=%{customdata[0]}<extra></extra>\", \"hovertext\": [\"Herbert Palmer\"], \"lat\": [60.164606799999994], \"legendgroup\": \"Herbert Palmer\", \"lon\": [24.9462116], \"marker\": {\"color\": \"#EF553B\", \"opacity\": 0.5, \"size\": [61933.0], \"sizemode\": \"area\", \"sizeref\": 159.7975, \"symbol\": \"circle\"}, \"mode\": \"markers\", \"name\": \"Herbert Palmer\", \"showlegend\": true, \"type\": \"scattergeo\"}, {\"customdata\": [[8]], \"geo\": \"geo\", \"hovertemplate\": \"<b>%{hovertext}</b><br><br>Name=Preston King<br>Yearly_avg_income=%{marker.size}<br>Latitude=%{lat}<br>Longitude=%{lon}<br>distance_to_headquater_km=%{customdata[0]}<extra></extra>\", \"hovertext\": [\"Preston King\"], \"lat\": [60.166647399999995], \"legendgroup\": \"Preston King\", \"lon\": [24.9697], \"marker\": {\"color\": \"#00cc96\", \"opacity\": 0.5, \"size\": [44623.0], \"sizemode\": \"area\", \"sizeref\": 159.7975, \"symbol\": \"circle\"}, \"mode\": \"markers\", \"name\": \"Preston King\", \"showlegend\": true, \"type\": \"scattergeo\"}],                        {\"geo\": {\"center\": {\"lat\": 60, \"lon\": 24}, \"domain\": {\"x\": [0.0, 1.0], \"y\": [0.0, 1.0]}, \"projection\": {\"type\": \"mercator\"}, \"scope\": \"europe\", \"visible\": true}, \"height\": 800, \"legend\": {\"itemsizing\": \"constant\", \"title\": {\"text\": \"Name\"}, \"tracegroupgap\": 0}, \"template\": {\"data\": {\"bar\": [{\"error_x\": {\"color\": \"#2a3f5f\"}, \"error_y\": {\"color\": \"#2a3f5f\"}, \"marker\": {\"line\": {\"color\": \"#E5ECF6\", \"width\": 0.5}}, \"type\": \"bar\"}], \"barpolar\": [{\"marker\": {\"line\": {\"color\": \"#E5ECF6\", \"width\": 0.5}}, \"type\": \"barpolar\"}], \"carpet\": [{\"aaxis\": {\"endlinecolor\": \"#2a3f5f\", \"gridcolor\": \"white\", \"linecolor\": \"white\", \"minorgridcolor\": \"white\", \"startlinecolor\": \"#2a3f5f\"}, \"baxis\": {\"endlinecolor\": \"#2a3f5f\", \"gridcolor\": \"white\", \"linecolor\": \"white\", \"minorgridcolor\": \"white\", \"startlinecolor\": \"#2a3f5f\"}, \"type\": \"carpet\"}], \"choropleth\": [{\"colorbar\": {\"outlinewidth\": 0, \"ticks\": \"\"}, \"type\": \"choropleth\"}], \"contour\": [{\"colorbar\": {\"outlinewidth\": 0, \"ticks\": \"\"}, \"colorscale\": [[0.0, \"#0d0887\"], [0.1111111111111111, \"#46039f\"], [0.2222222222222222, \"#7201a8\"], [0.3333333333333333, \"#9c179e\"], [0.4444444444444444, \"#bd3786\"], [0.5555555555555556, \"#d8576b\"], [0.6666666666666666, \"#ed7953\"], [0.7777777777777778, \"#fb9f3a\"], [0.8888888888888888, \"#fdca26\"], [1.0, \"#f0f921\"]], \"type\": \"contour\"}], \"contourcarpet\": [{\"colorbar\": {\"outlinewidth\": 0, \"ticks\": \"\"}, \"type\": \"contourcarpet\"}], \"heatmap\": [{\"colorbar\": {\"outlinewidth\": 0, \"ticks\": \"\"}, \"colorscale\": [[0.0, \"#0d0887\"], [0.1111111111111111, \"#46039f\"], [0.2222222222222222, \"#7201a8\"], [0.3333333333333333, \"#9c179e\"], [0.4444444444444444, \"#bd3786\"], [0.5555555555555556, \"#d8576b\"], [0.6666666666666666, \"#ed7953\"], [0.7777777777777778, \"#fb9f3a\"], [0.8888888888888888, \"#fdca26\"], [1.0, \"#f0f921\"]], \"type\": \"heatmap\"}], \"heatmapgl\": [{\"colorbar\": {\"outlinewidth\": 0, \"ticks\": \"\"}, \"colorscale\": [[0.0, \"#0d0887\"], [0.1111111111111111, \"#46039f\"], [0.2222222222222222, \"#7201a8\"], [0.3333333333333333, \"#9c179e\"], [0.4444444444444444, \"#bd3786\"], [0.5555555555555556, \"#d8576b\"], [0.6666666666666666, \"#ed7953\"], [0.7777777777777778, \"#fb9f3a\"], [0.8888888888888888, \"#fdca26\"], [1.0, \"#f0f921\"]], \"type\": \"heatmapgl\"}], \"histogram\": [{\"marker\": {\"colorbar\": {\"outlinewidth\": 0, \"ticks\": \"\"}}, \"type\": \"histogram\"}], \"histogram2d\": [{\"colorbar\": {\"outlinewidth\": 0, \"ticks\": \"\"}, \"colorscale\": [[0.0, \"#0d0887\"], [0.1111111111111111, \"#46039f\"], [0.2222222222222222, \"#7201a8\"], [0.3333333333333333, \"#9c179e\"], [0.4444444444444444, \"#bd3786\"], [0.5555555555555556, \"#d8576b\"], [0.6666666666666666, \"#ed7953\"], [0.7777777777777778, \"#fb9f3a\"], [0.8888888888888888, \"#fdca26\"], [1.0, \"#f0f921\"]], \"type\": \"histogram2d\"}], \"histogram2dcontour\": [{\"colorbar\": {\"outlinewidth\": 0, \"ticks\": \"\"}, \"colorscale\": [[0.0, \"#0d0887\"], [0.1111111111111111, \"#46039f\"], [0.2222222222222222, \"#7201a8\"], [0.3333333333333333, \"#9c179e\"], [0.4444444444444444, \"#bd3786\"], [0.5555555555555556, \"#d8576b\"], [0.6666666666666666, \"#ed7953\"], [0.7777777777777778, \"#fb9f3a\"], [0.8888888888888888, \"#fdca26\"], [1.0, \"#f0f921\"]], \"type\": \"histogram2dcontour\"}], \"mesh3d\": [{\"colorbar\": {\"outlinewidth\": 0, \"ticks\": \"\"}, \"type\": \"mesh3d\"}], \"parcoords\": [{\"line\": {\"colorbar\": {\"outlinewidth\": 0, \"ticks\": \"\"}}, \"type\": \"parcoords\"}], \"pie\": [{\"automargin\": true, \"type\": \"pie\"}], \"scatter\": [{\"marker\": {\"colorbar\": {\"outlinewidth\": 0, \"ticks\": \"\"}}, \"type\": \"scatter\"}], \"scatter3d\": [{\"line\": {\"colorbar\": {\"outlinewidth\": 0, \"ticks\": \"\"}}, \"marker\": {\"colorbar\": {\"outlinewidth\": 0, \"ticks\": \"\"}}, \"type\": \"scatter3d\"}], \"scattercarpet\": [{\"marker\": {\"colorbar\": {\"outlinewidth\": 0, \"ticks\": \"\"}}, \"type\": \"scattercarpet\"}], \"scattergeo\": [{\"marker\": {\"colorbar\": {\"outlinewidth\": 0, \"ticks\": \"\"}}, \"type\": \"scattergeo\"}], \"scattergl\": [{\"marker\": {\"colorbar\": {\"outlinewidth\": 0, \"ticks\": \"\"}}, \"type\": \"scattergl\"}], \"scattermapbox\": [{\"marker\": {\"colorbar\": {\"outlinewidth\": 0, \"ticks\": \"\"}}, \"type\": \"scattermapbox\"}], \"scatterpolar\": [{\"marker\": {\"colorbar\": {\"outlinewidth\": 0, \"ticks\": \"\"}}, \"type\": \"scatterpolar\"}], \"scatterpolargl\": [{\"marker\": {\"colorbar\": {\"outlinewidth\": 0, \"ticks\": \"\"}}, \"type\": \"scatterpolargl\"}], \"scatterternary\": [{\"marker\": {\"colorbar\": {\"outlinewidth\": 0, \"ticks\": \"\"}}, \"type\": \"scatterternary\"}], \"surface\": [{\"colorbar\": {\"outlinewidth\": 0, \"ticks\": \"\"}, \"colorscale\": [[0.0, \"#0d0887\"], [0.1111111111111111, \"#46039f\"], [0.2222222222222222, \"#7201a8\"], [0.3333333333333333, \"#9c179e\"], [0.4444444444444444, \"#bd3786\"], [0.5555555555555556, \"#d8576b\"], [0.6666666666666666, \"#ed7953\"], [0.7777777777777778, \"#fb9f3a\"], [0.8888888888888888, \"#fdca26\"], [1.0, \"#f0f921\"]], \"type\": \"surface\"}], \"table\": [{\"cells\": {\"fill\": {\"color\": \"#EBF0F8\"}, \"line\": {\"color\": \"white\"}}, \"header\": {\"fill\": {\"color\": \"#C8D4E3\"}, \"line\": {\"color\": \"white\"}}, \"type\": \"table\"}]}, \"layout\": {\"annotationdefaults\": {\"arrowcolor\": \"#2a3f5f\", \"arrowhead\": 0, \"arrowwidth\": 1}, \"coloraxis\": {\"colorbar\": {\"outlinewidth\": 0, \"ticks\": \"\"}}, \"colorscale\": {\"diverging\": [[0, \"#8e0152\"], [0.1, \"#c51b7d\"], [0.2, \"#de77ae\"], [0.3, \"#f1b6da\"], [0.4, \"#fde0ef\"], [0.5, \"#f7f7f7\"], [0.6, \"#e6f5d0\"], [0.7, \"#b8e186\"], [0.8, \"#7fbc41\"], [0.9, \"#4d9221\"], [1, \"#276419\"]], \"sequential\": [[0.0, \"#0d0887\"], [0.1111111111111111, \"#46039f\"], [0.2222222222222222, \"#7201a8\"], [0.3333333333333333, \"#9c179e\"], [0.4444444444444444, \"#bd3786\"], [0.5555555555555556, \"#d8576b\"], [0.6666666666666666, \"#ed7953\"], [0.7777777777777778, \"#fb9f3a\"], [0.8888888888888888, \"#fdca26\"], [1.0, \"#f0f921\"]], \"sequentialminus\": [[0.0, \"#0d0887\"], [0.1111111111111111, \"#46039f\"], [0.2222222222222222, \"#7201a8\"], [0.3333333333333333, \"#9c179e\"], [0.4444444444444444, \"#bd3786\"], [0.5555555555555556, \"#d8576b\"], [0.6666666666666666, \"#ed7953\"], [0.7777777777777778, \"#fb9f3a\"], [0.8888888888888888, \"#fdca26\"], [1.0, \"#f0f921\"]]}, \"colorway\": [\"#636efa\", \"#EF553B\", \"#00cc96\", \"#ab63fa\", \"#FFA15A\", \"#19d3f3\", \"#FF6692\", \"#B6E880\", \"#FF97FF\", \"#FECB52\"], \"font\": {\"color\": \"#2a3f5f\"}, \"geo\": {\"bgcolor\": \"white\", \"lakecolor\": \"white\", \"landcolor\": \"#E5ECF6\", \"showlakes\": true, \"showland\": true, \"subunitcolor\": \"white\"}, \"hoverlabel\": {\"align\": \"left\"}, \"hovermode\": \"closest\", \"mapbox\": {\"style\": \"light\"}, \"paper_bgcolor\": \"white\", \"plot_bgcolor\": \"#E5ECF6\", \"polar\": {\"angularaxis\": {\"gridcolor\": \"white\", \"linecolor\": \"white\", \"ticks\": \"\"}, \"bgcolor\": \"#E5ECF6\", \"radialaxis\": {\"gridcolor\": \"white\", \"linecolor\": \"white\", \"ticks\": \"\"}}, \"scene\": {\"xaxis\": {\"backgroundcolor\": \"#E5ECF6\", \"gridcolor\": \"white\", \"gridwidth\": 2, \"linecolor\": \"white\", \"showbackground\": true, \"ticks\": \"\", \"zerolinecolor\": \"white\"}, \"yaxis\": {\"backgroundcolor\": \"#E5ECF6\", \"gridcolor\": \"white\", \"gridwidth\": 2, \"linecolor\": \"white\", \"showbackground\": true, \"ticks\": \"\", \"zerolinecolor\": \"white\"}, \"zaxis\": {\"backgroundcolor\": \"#E5ECF6\", \"gridcolor\": \"white\", \"gridwidth\": 2, \"linecolor\": \"white\", \"showbackground\": true, \"ticks\": \"\", \"zerolinecolor\": \"white\"}}, \"shapedefaults\": {\"line\": {\"color\": \"#2a3f5f\"}}, \"ternary\": {\"aaxis\": {\"gridcolor\": \"white\", \"linecolor\": \"white\", \"ticks\": \"\"}, \"baxis\": {\"gridcolor\": \"white\", \"linecolor\": \"white\", \"ticks\": \"\"}, \"bgcolor\": \"#E5ECF6\", \"caxis\": {\"gridcolor\": \"white\", \"linecolor\": \"white\", \"ticks\": \"\"}}, \"title\": {\"x\": 0.05}, \"xaxis\": {\"automargin\": true, \"gridcolor\": \"white\", \"linecolor\": \"white\", \"ticks\": \"\", \"title\": {\"standoff\": 15}, \"zerolinecolor\": \"white\", \"zerolinewidth\": 2}, \"yaxis\": {\"automargin\": true, \"gridcolor\": \"white\", \"linecolor\": \"white\", \"ticks\": \"\", \"title\": {\"standoff\": 15}, \"zerolinecolor\": \"white\", \"zerolinewidth\": 2}}}, \"title\": {\"text\": \"Wealthiest Region Employee\"}, \"width\": 800},                        {\"responsive\": true}                    ).then(function(){\n",
       "                            \n",
       "var gd = document.getElementById('ecadfacd-f53a-43c6-b3f9-2f810bad897a');\n",
       "var x = new MutationObserver(function (mutations, observer) {{\n",
       "        var display = window.getComputedStyle(gd).display;\n",
       "        if (!display || display === 'none') {{\n",
       "            console.log([gd, 'removed!']);\n",
       "            Plotly.purge(gd);\n",
       "            observer.disconnect();\n",
       "        }}\n",
       "}});\n",
       "\n",
       "// Listen for the removal of the full notebook cells\n",
       "var notebookContainer = gd.closest('#notebook-container');\n",
       "if (notebookContainer) {{\n",
       "    x.observe(notebookContainer, {childList: true});\n",
       "}}\n",
       "\n",
       "// Listen for the clearing of the current output cell\n",
       "var outputEl = gd.closest('.output');\n",
       "if (outputEl) {{\n",
       "    x.observe(outputEl, {childList: true});\n",
       "}}\n",
       "\n",
       "                        })                };                });            </script>        </div>"
      ]
     },
     "metadata": {},
     "output_type": "display_data"
    }
   ],
   "source": [
    "plot_map(employees_in_welthiest_region,'Name','Wealthiest Region Employee')"
   ]
  },
  {
   "cell_type": "code",
   "execution_count": null,
   "metadata": {},
   "outputs": [],
   "source": []
  }
 ],
 "metadata": {
  "kernelspec": {
   "display_name": "Python 3",
   "language": "python",
   "name": "python3"
  },
  "language_info": {
   "codemirror_mode": {
    "name": "ipython",
    "version": 3
   },
   "file_extension": ".py",
   "mimetype": "text/x-python",
   "name": "python",
   "nbconvert_exporter": "python",
   "pygments_lexer": "ipython3",
   "version": "3.8.3"
  },
  "toc": {
   "base_numbering": 1,
   "nav_menu": {},
   "number_sections": true,
   "sideBar": true,
   "skip_h1_title": false,
   "title_cell": "Table of Contents",
   "title_sidebar": "Contents",
   "toc_cell": false,
   "toc_position": {},
   "toc_section_display": true,
   "toc_window_display": false
  },
  "varInspector": {
   "cols": {
    "lenName": 16,
    "lenType": 16,
    "lenVar": 40
   },
   "kernels_config": {
    "python": {
     "delete_cmd_postfix": "",
     "delete_cmd_prefix": "del ",
     "library": "var_list.py",
     "varRefreshCmd": "print(var_dic_list())"
    },
    "r": {
     "delete_cmd_postfix": ") ",
     "delete_cmd_prefix": "rm(",
     "library": "var_list.r",
     "varRefreshCmd": "cat(var_dic_list()) "
    }
   },
   "types_to_exclude": [
    "module",
    "function",
    "builtin_function_or_method",
    "instance",
    "_Feature"
   ],
   "window_display": false
  }
 },
 "nbformat": 4,
 "nbformat_minor": 4
}
